{
 "cells": [
  {
   "cell_type": "code",
   "execution_count": 51,
   "id": "1209cba1",
   "metadata": {},
   "outputs": [],
   "source": [
    "# Dependencies and Setup\n",
    "import matplotlib.pyplot as plt\n",
    "import pandas as pd\n",
    "import numpy as np\n",
    "import requests\n",
    "import time\n",
    "from scipy.stats import linregress\n",
    "\n",
    "# Output File (CSV)\n",
    "output_data_file = \"Data/weather_API.csv\"\n",
    "\n",
    "# Range of latitudes and longitudes\n",
    "lat = (38.9072)\n",
    "lon = (-77.0369)"
   ]
  },
  {
   "cell_type": "code",
   "execution_count": 68,
   "id": "375539e5",
   "metadata": {},
   "outputs": [],
   "source": [
    "#Make a single call API request to get current data for Washington D.C. weather\n",
    "url = \"https://weather.visualcrossing.com/VisualCrossingWebServices/rest/services/timeline/washington%20d.c./today?unitGroup=us&key=7BYNR7A5VCRX7G6DT9KHFR4QR&include=current\"\n",
    "\n",
    "import json\n",
    "\n",
    "response = requests.get(url)\n",
    "response_json = response.json()"
   ]
  },
  {
   "cell_type": "code",
   "execution_count": 72,
   "id": "317823d6",
   "metadata": {},
   "outputs": [
    {
     "data": {
      "text/plain": [
       "{'queryCost': 1,\n",
       " 'latitude': 38.8904,\n",
       " 'longitude': -77.032,\n",
       " 'resolvedAddress': 'Washington, DC, United States',\n",
       " 'address': 'washington d.c.',\n",
       " 'timezone': 'America/New_York',\n",
       " 'tzoffset': -4.0,\n",
       " 'days': [{'datetime': '2021-05-05',\n",
       "   'datetimeEpoch': 1620187200,\n",
       "   'tempmax': 78.9,\n",
       "   'tempmin': 57.8,\n",
       "   'temp': 67.4,\n",
       "   'feelslikemax': 78.9,\n",
       "   'feelslikemin': 57.8,\n",
       "   'feelslike': 67.4,\n",
       "   'dew': 58.7,\n",
       "   'humidity': 75.81,\n",
       "   'precip': 0.08,\n",
       "   'precipprob': None,\n",
       "   'precipcover': 25.0,\n",
       "   'preciptype': None,\n",
       "   'snow': 0.0,\n",
       "   'snowdepth': 0.0,\n",
       "   'windgust': 35.7,\n",
       "   'windspeed': 23.5,\n",
       "   'winddir': 236.7,\n",
       "   'pressure': 1007.3,\n",
       "   'cloudcover': 72.6,\n",
       "   'visibility': 9.4,\n",
       "   'solarradiation': 209.9,\n",
       "   'solarenergy': 11.3,\n",
       "   'uvindex': 9.0,\n",
       "   'sunrise': '06:05:22',\n",
       "   'sunriseEpoch': 1620209122,\n",
       "   'sunset': '20:04:52',\n",
       "   'sunsetEpoch': 1620259492,\n",
       "   'moonphase': 0.84,\n",
       "   'conditions': 'Rain, Partially cloudy',\n",
       "   'description': 'Partly cloudy throughout the day with rain in the morning and afternoon.',\n",
       "   'icon': 'rain',\n",
       "   'stations': ['KDCA', 'KADW', 'KDAA'],\n",
       "   'source': 'obs'}],\n",
       " 'stations': {'KADW': {'distance': 16082.0,\n",
       "   'latitude': 38.82,\n",
       "   'longitude': -76.87,\n",
       "   'useCount': 0,\n",
       "   'id': 'KADW',\n",
       "   'name': 'KADW',\n",
       "   'quality': 100,\n",
       "   'contribution': 0.0},\n",
       "  'KDAA': {'distance': 22905.0,\n",
       "   'latitude': 38.72,\n",
       "   'longitude': -77.18,\n",
       "   'useCount': 0,\n",
       "   'id': 'KDAA',\n",
       "   'name': 'KDAA',\n",
       "   'quality': 100,\n",
       "   'contribution': 0.0},\n",
       "  'KDCA': {'distance': 4501.0,\n",
       "   'latitude': 38.85,\n",
       "   'longitude': -77.03,\n",
       "   'useCount': 0,\n",
       "   'id': 'KDCA',\n",
       "   'name': 'KDCA',\n",
       "   'quality': 100,\n",
       "   'contribution': 0.0},\n",
       "  'F1341': {'distance': 4057.0,\n",
       "   'latitude': 38.903,\n",
       "   'longitude': -76.988,\n",
       "   'useCount': 0,\n",
       "   'id': 'F1341',\n",
       "   'name': 'FW1341 Washington DC US',\n",
       "   'quality': 0,\n",
       "   'contribution': 0.0}},\n",
       " 'currentConditions': {'datetime': '23:20:05',\n",
       "  'datetimeEpoch': 1620271205,\n",
       "  'temp': 58.1,\n",
       "  'feelslike': 58.1,\n",
       "  'humidity': 56.7,\n",
       "  'dew': 42.8,\n",
       "  'precip': 0.0,\n",
       "  'precipprob': None,\n",
       "  'snow': None,\n",
       "  'snowdepth': 0.0,\n",
       "  'preciptype': None,\n",
       "  'windgust': 13.3,\n",
       "  'windspeed': 6.7,\n",
       "  'winddir': 343.0,\n",
       "  'pressure': 1015.0,\n",
       "  'visibility': 9.9,\n",
       "  'cloudcover': 0.0,\n",
       "  'solarradiation': None,\n",
       "  'solarenergy': None,\n",
       "  'uvindex': None,\n",
       "  'conditions': 'Clear',\n",
       "  'icon': 'clear-night',\n",
       "  'stations': ['F1341', 'KDCA'],\n",
       "  'sunrise': '06:05:22',\n",
       "  'sunriseEpoch': 1620209122,\n",
       "  'sunset': '20:04:52',\n",
       "  'sunsetEpoch': 1620259492,\n",
       "  'moonphase': 0.84}}"
      ]
     },
     "execution_count": 72,
     "metadata": {},
     "output_type": "execute_result"
    }
   ],
   "source": [
    "response_json"
   ]
  },
  {
   "cell_type": "code",
   "execution_count": 74,
   "id": "f7e4cd99",
   "metadata": {},
   "outputs": [
    {
     "data": {
      "text/plain": [
       "38.8904"
      ]
     },
     "execution_count": 74,
     "metadata": {},
     "output_type": "execute_result"
    }
   ],
   "source": [
    "response_json['latitude']"
   ]
  },
  {
   "cell_type": "code",
   "execution_count": 77,
   "id": "6fe056f7",
   "metadata": {},
   "outputs": [
    {
     "data": {
      "text/plain": [
       "{'datetime': '23:20:05',\n",
       " 'datetimeEpoch': 1620271205,\n",
       " 'temp': 58.1,\n",
       " 'feelslike': 58.1,\n",
       " 'humidity': 56.7,\n",
       " 'dew': 42.8,\n",
       " 'precip': 0.0,\n",
       " 'precipprob': None,\n",
       " 'snow': None,\n",
       " 'snowdepth': 0.0,\n",
       " 'preciptype': None,\n",
       " 'windgust': 13.3,\n",
       " 'windspeed': 6.7,\n",
       " 'winddir': 343.0,\n",
       " 'pressure': 1015.0,\n",
       " 'visibility': 9.9,\n",
       " 'cloudcover': 0.0,\n",
       " 'solarradiation': None,\n",
       " 'solarenergy': None,\n",
       " 'uvindex': None,\n",
       " 'conditions': 'Clear',\n",
       " 'icon': 'clear-night',\n",
       " 'stations': ['F1341', 'KDCA'],\n",
       " 'sunrise': '06:05:22',\n",
       " 'sunriseEpoch': 1620209122,\n",
       " 'sunset': '20:04:52',\n",
       " 'sunsetEpoch': 1620259492,\n",
       " 'moonphase': 0.84}"
      ]
     },
     "execution_count": 77,
     "metadata": {},
     "output_type": "execute_result"
    }
   ],
   "source": [
    "response_json['currentConditions']"
   ]
  },
  {
   "cell_type": "code",
   "execution_count": 91,
   "id": "f5f0e2e4",
   "metadata": {},
   "outputs": [
    {
     "name": "stdout",
     "output_type": "stream",
     "text": [
      "Temperature: 58.1 F\n",
      "Feels Like: 58.1 F\n",
      "Humidity: 56.7%\n",
      "Precipitation: None\n",
      "Conditions: Clear\n"
     ]
    }
   ],
   "source": [
    "print(f\"Temperature: {response_json['currentConditions']['temp']} F\")\n",
    "print(f\"Feels Like: {response_json['currentConditions']['feelslike']} F\")\n",
    "print(f\"Humidity: {response_json['currentConditions']['humidity']}%\")\n",
    "print(f\"Precipitation: {response_json['currentConditions']['precipprob']}\")\n",
    "print(f\"Conditions: {response_json['currentConditions']['conditions']}\")"
   ]
  },
  {
   "cell_type": "code",
   "execution_count": null,
   "id": "30e32e89",
   "metadata": {},
   "outputs": [],
   "source": []
  },
  {
   "cell_type": "code",
   "execution_count": null,
   "id": "077b3b0d",
   "metadata": {},
   "outputs": [],
   "source": []
  }
 ],
 "metadata": {
  "kernelspec": {
   "display_name": "Python 3",
   "language": "python",
   "name": "python3"
  },
  "language_info": {
   "codemirror_mode": {
    "name": "ipython",
    "version": 3
   },
   "file_extension": ".py",
   "mimetype": "text/x-python",
   "name": "python",
   "nbconvert_exporter": "python",
   "pygments_lexer": "ipython3",
   "version": "3.8.3"
  }
 },
 "nbformat": 4,
 "nbformat_minor": 5
}
