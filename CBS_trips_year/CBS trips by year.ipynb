{
 "cells": [
  {
   "cell_type": "code",
   "execution_count": 1,
   "metadata": {},
   "outputs": [],
   "source": [
    "import pandas as pd\n",
    "# Dependencies\n",
    "import requests\n",
    "import json\n"
   ]
  },
  {
   "cell_type": "markdown",
   "metadata": {},
   "source": [
    "# Find all Station Location (based in sta 2020)"
   ]
  },
  {
   "cell_type": "code",
   "execution_count": 2,
   "metadata": {},
   "outputs": [
    {
     "data": {
      "text/html": [
       "<div>\n",
       "<style scoped>\n",
       "    .dataframe tbody tr th:only-of-type {\n",
       "        vertical-align: middle;\n",
       "    }\n",
       "\n",
       "    .dataframe tbody tr th {\n",
       "        vertical-align: top;\n",
       "    }\n",
       "\n",
       "    .dataframe thead th {\n",
       "        text-align: right;\n",
       "    }\n",
       "</style>\n",
       "<table border=\"1\" class=\"dataframe\">\n",
       "  <thead>\n",
       "    <tr style=\"text-align: right;\">\n",
       "      <th></th>\n",
       "      <th>ride_id</th>\n",
       "      <th>rideable_type</th>\n",
       "      <th>started_at</th>\n",
       "      <th>ended_at</th>\n",
       "      <th>start_station_name</th>\n",
       "      <th>start_station_id</th>\n",
       "      <th>end_station_name</th>\n",
       "      <th>end_station_id</th>\n",
       "      <th>start_lat</th>\n",
       "      <th>start_lng</th>\n",
       "      <th>end_lat</th>\n",
       "      <th>end_lng</th>\n",
       "      <th>member_casual</th>\n",
       "    </tr>\n",
       "  </thead>\n",
       "  <tbody>\n",
       "    <tr>\n",
       "      <th>0</th>\n",
       "      <td>C04E20007D039277</td>\n",
       "      <td>docked_bike</td>\n",
       "      <td>2020-12-02 09:10:36</td>\n",
       "      <td>2020-12-02 09:24:12</td>\n",
       "      <td>18th St &amp; Wyoming Ave NW</td>\n",
       "      <td>31114.0</td>\n",
       "      <td>18th St &amp; Pennsylvania Ave NW</td>\n",
       "      <td>31242.0</td>\n",
       "      <td>38.918809</td>\n",
       "      <td>-77.041571</td>\n",
       "      <td>38.899680</td>\n",
       "      <td>-77.041539</td>\n",
       "      <td>casual</td>\n",
       "    </tr>\n",
       "    <tr>\n",
       "      <th>1</th>\n",
       "      <td>A488C0D9F4761D06</td>\n",
       "      <td>classic_bike</td>\n",
       "      <td>2020-12-31 12:46:29</td>\n",
       "      <td>2020-12-31 14:01:07</td>\n",
       "      <td>Potomac &amp; Pennsylvania Ave SE</td>\n",
       "      <td>31606.0</td>\n",
       "      <td>17th St &amp; Independence Ave SW</td>\n",
       "      <td>31290.0</td>\n",
       "      <td>38.880300</td>\n",
       "      <td>-76.986200</td>\n",
       "      <td>38.888097</td>\n",
       "      <td>-77.038325</td>\n",
       "      <td>casual</td>\n",
       "    </tr>\n",
       "    <tr>\n",
       "      <th>2</th>\n",
       "      <td>9E7E97A927A85552</td>\n",
       "      <td>classic_bike</td>\n",
       "      <td>2020-12-31 12:47:03</td>\n",
       "      <td>2020-12-31 14:01:04</td>\n",
       "      <td>Potomac &amp; Pennsylvania Ave SE</td>\n",
       "      <td>31606.0</td>\n",
       "      <td>17th St &amp; Independence Ave SW</td>\n",
       "      <td>31290.0</td>\n",
       "      <td>38.880300</td>\n",
       "      <td>-76.986200</td>\n",
       "      <td>38.888097</td>\n",
       "      <td>-77.038325</td>\n",
       "      <td>casual</td>\n",
       "    </tr>\n",
       "    <tr>\n",
       "      <th>3</th>\n",
       "      <td>565C5C331ABAD77B</td>\n",
       "      <td>classic_bike</td>\n",
       "      <td>2020-12-29 13:50:51</td>\n",
       "      <td>2020-12-29 14:12:22</td>\n",
       "      <td>Wakefield High School</td>\n",
       "      <td>31054.0</td>\n",
       "      <td>S Glebe Rd &amp; Potomac Ave</td>\n",
       "      <td>31010.0</td>\n",
       "      <td>38.847129</td>\n",
       "      <td>-77.112550</td>\n",
       "      <td>38.842600</td>\n",
       "      <td>-77.050200</td>\n",
       "      <td>member</td>\n",
       "    </tr>\n",
       "    <tr>\n",
       "      <th>4</th>\n",
       "      <td>7576B3F4B4D6ADFF</td>\n",
       "      <td>classic_bike</td>\n",
       "      <td>2020-12-27 12:30:28</td>\n",
       "      <td>2020-12-27 12:36:12</td>\n",
       "      <td>Washington-Liberty High School / N Stafford St...</td>\n",
       "      <td>31920.0</td>\n",
       "      <td>Virginia Square Metro / Monroe St &amp; 9th St N</td>\n",
       "      <td>31024.0</td>\n",
       "      <td>38.888282</td>\n",
       "      <td>-77.111066</td>\n",
       "      <td>38.882788</td>\n",
       "      <td>-77.103148</td>\n",
       "      <td>member</td>\n",
       "    </tr>\n",
       "  </tbody>\n",
       "</table>\n",
       "</div>"
      ],
      "text/plain": [
       "            ride_id rideable_type           started_at             ended_at  \\\n",
       "0  C04E20007D039277   docked_bike  2020-12-02 09:10:36  2020-12-02 09:24:12   \n",
       "1  A488C0D9F4761D06  classic_bike  2020-12-31 12:46:29  2020-12-31 14:01:07   \n",
       "2  9E7E97A927A85552  classic_bike  2020-12-31 12:47:03  2020-12-31 14:01:04   \n",
       "3  565C5C331ABAD77B  classic_bike  2020-12-29 13:50:51  2020-12-29 14:12:22   \n",
       "4  7576B3F4B4D6ADFF  classic_bike  2020-12-27 12:30:28  2020-12-27 12:36:12   \n",
       "\n",
       "                                  start_station_name  start_station_id  \\\n",
       "0                           18th St & Wyoming Ave NW           31114.0   \n",
       "1                      Potomac & Pennsylvania Ave SE           31606.0   \n",
       "2                      Potomac & Pennsylvania Ave SE           31606.0   \n",
       "3                              Wakefield High School           31054.0   \n",
       "4  Washington-Liberty High School / N Stafford St...           31920.0   \n",
       "\n",
       "                               end_station_name  end_station_id  start_lat  \\\n",
       "0                 18th St & Pennsylvania Ave NW         31242.0  38.918809   \n",
       "1                 17th St & Independence Ave SW         31290.0  38.880300   \n",
       "2                 17th St & Independence Ave SW         31290.0  38.880300   \n",
       "3                      S Glebe Rd & Potomac Ave         31010.0  38.847129   \n",
       "4  Virginia Square Metro / Monroe St & 9th St N         31024.0  38.888282   \n",
       "\n",
       "   start_lng    end_lat    end_lng member_casual  \n",
       "0 -77.041571  38.899680 -77.041539        casual  \n",
       "1 -76.986200  38.888097 -77.038325        casual  \n",
       "2 -76.986200  38.888097 -77.038325        casual  \n",
       "3 -77.112550  38.842600 -77.050200        member  \n",
       "4 -77.111066  38.882788 -77.103148        member  "
      ]
     },
     "execution_count": 2,
     "metadata": {},
     "output_type": "execute_result"
    }
   ],
   "source": [
    "#202012-capitalbikeshare-tripdata.csv latest record has to be used\n",
    "df1=pd.read_csv(\"data/2020/202012-capitalbikeshare-tripdata.csv\")\n",
    "df1.head()"
   ]
  },
  {
   "cell_type": "code",
   "execution_count": null,
   "metadata": {},
   "outputs": [],
   "source": []
  },
  {
   "cell_type": "code",
   "execution_count": 3,
   "metadata": {
    "scrolled": false
   },
   "outputs": [
    {
     "data": {
      "text/html": [
       "<div>\n",
       "<style scoped>\n",
       "    .dataframe tbody tr th:only-of-type {\n",
       "        vertical-align: middle;\n",
       "    }\n",
       "\n",
       "    .dataframe tbody tr th {\n",
       "        vertical-align: top;\n",
       "    }\n",
       "\n",
       "    .dataframe thead th {\n",
       "        text-align: right;\n",
       "    }\n",
       "</style>\n",
       "<table border=\"1\" class=\"dataframe\">\n",
       "  <thead>\n",
       "    <tr style=\"text-align: right;\">\n",
       "      <th></th>\n",
       "      <th>start_station_id</th>\n",
       "      <th>start_lat</th>\n",
       "      <th>start_lng</th>\n",
       "      <th>start_station_name</th>\n",
       "    </tr>\n",
       "  </thead>\n",
       "  <tbody>\n",
       "    <tr>\n",
       "      <th>0</th>\n",
       "      <td>31114.0</td>\n",
       "      <td>38.918809</td>\n",
       "      <td>-77.041571</td>\n",
       "      <td>18th St &amp; Wyoming Ave NW</td>\n",
       "    </tr>\n",
       "    <tr>\n",
       "      <th>1</th>\n",
       "      <td>31606.0</td>\n",
       "      <td>38.880300</td>\n",
       "      <td>-76.986200</td>\n",
       "      <td>Potomac &amp; Pennsylvania Ave SE</td>\n",
       "    </tr>\n",
       "    <tr>\n",
       "      <th>2</th>\n",
       "      <td>31054.0</td>\n",
       "      <td>38.847129</td>\n",
       "      <td>-77.112550</td>\n",
       "      <td>Wakefield High School</td>\n",
       "    </tr>\n",
       "    <tr>\n",
       "      <th>3</th>\n",
       "      <td>31920.0</td>\n",
       "      <td>38.888282</td>\n",
       "      <td>-77.111066</td>\n",
       "      <td>Washington-Liberty High School / N Stafford St...</td>\n",
       "    </tr>\n",
       "    <tr>\n",
       "      <th>4</th>\n",
       "      <td>31269.0</td>\n",
       "      <td>38.887378</td>\n",
       "      <td>-77.001955</td>\n",
       "      <td>3rd St &amp; Pennsylvania Ave SE</td>\n",
       "    </tr>\n",
       "  </tbody>\n",
       "</table>\n",
       "</div>"
      ],
      "text/plain": [
       "   start_station_id  start_lat  start_lng  \\\n",
       "0           31114.0  38.918809 -77.041571   \n",
       "1           31606.0  38.880300 -76.986200   \n",
       "2           31054.0  38.847129 -77.112550   \n",
       "3           31920.0  38.888282 -77.111066   \n",
       "4           31269.0  38.887378 -77.001955   \n",
       "\n",
       "                                  start_station_name  \n",
       "0                           18th St & Wyoming Ave NW  \n",
       "1                      Potomac & Pennsylvania Ave SE  \n",
       "2                              Wakefield High School  \n",
       "3  Washington-Liberty High School / N Stafford St...  \n",
       "4                       3rd St & Pennsylvania Ave SE  "
      ]
     },
     "execution_count": 3,
     "metadata": {},
     "output_type": "execute_result"
    }
   ],
   "source": [
    "#Drop duplicates and create new df with only important columns\n",
    "StaLoc_df = df1.drop_duplicates(subset=['start_station_id'], keep='first').reset_index(drop=True)\n",
    "StaLoc=StaLoc_df[['start_station_id', 'start_lat','start_lng','start_station_name']]\n",
    "StaLoc.head()"
   ]
  },
  {
   "cell_type": "code",
   "execution_count": 4,
   "metadata": {
    "scrolled": true
   },
   "outputs": [
    {
     "data": {
      "text/html": [
       "<div>\n",
       "<style scoped>\n",
       "    .dataframe tbody tr th:only-of-type {\n",
       "        vertical-align: middle;\n",
       "    }\n",
       "\n",
       "    .dataframe tbody tr th {\n",
       "        vertical-align: top;\n",
       "    }\n",
       "\n",
       "    .dataframe thead th {\n",
       "        text-align: right;\n",
       "    }\n",
       "</style>\n",
       "<table border=\"1\" class=\"dataframe\">\n",
       "  <thead>\n",
       "    <tr style=\"text-align: right;\">\n",
       "      <th></th>\n",
       "      <th>station_id</th>\n",
       "      <th>lat</th>\n",
       "      <th>lng</th>\n",
       "      <th>address</th>\n",
       "    </tr>\n",
       "  </thead>\n",
       "  <tbody>\n",
       "    <tr>\n",
       "      <th>0</th>\n",
       "      <td>31000.0</td>\n",
       "      <td>38.858971</td>\n",
       "      <td>-77.053230</td>\n",
       "      <td>Eads St &amp; 15th St S</td>\n",
       "    </tr>\n",
       "    <tr>\n",
       "      <th>1</th>\n",
       "      <td>31001.0</td>\n",
       "      <td>38.857250</td>\n",
       "      <td>-77.053320</td>\n",
       "      <td>18th St &amp; S Eads St</td>\n",
       "    </tr>\n",
       "    <tr>\n",
       "      <th>2</th>\n",
       "      <td>31002.0</td>\n",
       "      <td>38.856425</td>\n",
       "      <td>-77.049232</td>\n",
       "      <td>Crystal Dr &amp; 20th St S</td>\n",
       "    </tr>\n",
       "    <tr>\n",
       "      <th>3</th>\n",
       "      <td>31003.0</td>\n",
       "      <td>38.860170</td>\n",
       "      <td>-77.049593</td>\n",
       "      <td>Crystal Dr &amp; 15th St S</td>\n",
       "    </tr>\n",
       "    <tr>\n",
       "      <th>4</th>\n",
       "      <td>31004.0</td>\n",
       "      <td>38.857880</td>\n",
       "      <td>-77.059505</td>\n",
       "      <td>Aurora Hills Cmty Ctr / 18th St &amp; S Hayes St</td>\n",
       "    </tr>\n",
       "  </tbody>\n",
       "</table>\n",
       "</div>"
      ],
      "text/plain": [
       "   station_id        lat        lng  \\\n",
       "0     31000.0  38.858971 -77.053230   \n",
       "1     31001.0  38.857250 -77.053320   \n",
       "2     31002.0  38.856425 -77.049232   \n",
       "3     31003.0  38.860170 -77.049593   \n",
       "4     31004.0  38.857880 -77.059505   \n",
       "\n",
       "                                        address  \n",
       "0                           Eads St & 15th St S  \n",
       "1                           18th St & S Eads St  \n",
       "2                        Crystal Dr & 20th St S  \n",
       "3                        Crystal Dr & 15th St S  \n",
       "4  Aurora Hills Cmty Ctr / 18th St & S Hayes St  "
      ]
     },
     "execution_count": 4,
     "metadata": {},
     "output_type": "execute_result"
    }
   ],
   "source": [
    "#Rename and sort station id column\n",
    "StaLoc = StaLoc.rename(columns={'start_station_id': 'station_id', \n",
    "                                  'start_lat': 'lat',\n",
    "                                  'start_lng': 'lng',\n",
    "                                  'start_station_name':'address'})\n",
    "StaLoc=StaLoc.sort_values(by=['station_id']).reset_index(drop=True)\n",
    "#Drops rows with station id 0\n",
    "StaLoc=StaLoc[StaLoc.station_id!=0].dropna()\n",
    "StaLoc.head()                "
   ]
  },
  {
   "cell_type": "code",
   "execution_count": 5,
   "metadata": {
    "scrolled": true
   },
   "outputs": [
    {
     "data": {
      "text/plain": [
       "(610, 4)"
      ]
     },
     "execution_count": 5,
     "metadata": {},
     "output_type": "execute_result"
    }
   ],
   "source": [
    "#df dimension\n",
    "StaLoc.shape"
   ]
  },
  {
   "cell_type": "code",
   "execution_count": 6,
   "metadata": {
    "scrolled": false
   },
   "outputs": [
    {
     "data": {
      "text/plain": [
       "station_id      int64\n",
       "lat           float64\n",
       "lng           float64\n",
       "address        object\n",
       "dtype: object"
      ]
     },
     "execution_count": 6,
     "metadata": {},
     "output_type": "execute_result"
    }
   ],
   "source": [
    "#Data type\n",
    "StaLoc['station_id']=StaLoc['station_id'].astype('int64')\n",
    "StaLoc.dtypes"
   ]
  },
  {
   "cell_type": "markdown",
   "metadata": {},
   "source": [
    "# 2019 find total trips by station"
   ]
  },
  {
   "cell_type": "code",
   "execution_count": 7,
   "metadata": {},
   "outputs": [],
   "source": [
    "#Load all files for 2019\n",
    "df1=pd.read_csv(\"data/2019/201901-capitalbikeshare-tripdata.csv\")\n",
    "df2=pd.read_csv(\"data/2019/201902-capitalbikeshare-tripdata.csv\")\n",
    "df3=pd.read_csv(\"data/2019/201903-capitalbikeshare-tripdata.csv\")\n",
    "df4=pd.read_csv(\"data/2019/201904-capitalbikeshare-tripdata.csv\")\n",
    "df5=pd.read_csv(\"data/2019/201905-capitalbikeshare-tripdata.csv\")\n",
    "df6=pd.read_csv(\"data/2019/201906-capitalbikeshare-tripdata.csv\")\n",
    "df7=pd.read_csv(\"data/2019/201907-capitalbikeshare-tripdata.csv\")\n",
    "df8=pd.read_csv(\"data/2019/201908-capitalbikeshare-tripdata.csv\")\n",
    "df9=pd.read_csv(\"data/2019/201909-capitalbikeshare-tripdata.csv\")\n",
    "df10=pd.read_csv(\"data/2019/201910-capitalbikeshare-tripdata.csv\")\n",
    "df11=pd.read_csv(\"data/2019/201911-capitalbikeshare-tripdata.csv\")\n",
    "df12=pd.read_csv(\"data/2019/201912-capitalbikeshare-tripdata.csv\")"
   ]
  },
  {
   "cell_type": "code",
   "execution_count": 8,
   "metadata": {},
   "outputs": [
    {
     "data": {
      "text/plain": [
       "((150780, 9),\n",
       " (158130, 9),\n",
       " (253811, 9),\n",
       " (337704, 9),\n",
       " (350144, 9),\n",
       " (356645, 9),\n",
       " (360044, 9),\n",
       " (360225, 9),\n",
       " (337552, 9),\n",
       " (223512, 9),\n",
       " (161878, 9))"
      ]
     },
     "execution_count": 8,
     "metadata": {},
     "output_type": "execute_result"
    }
   ],
   "source": [
    "#Validate all files has the same columns\n",
    "df1.shape, df2.shape,df3.shape,df5.shape, df6.shape,df7.shape, df8.shape,df9.shape, df10.shape,df11.shape, df12.shape,"
   ]
  },
  {
   "cell_type": "code",
   "execution_count": 9,
   "metadata": {},
   "outputs": [
    {
     "data": {
      "text/plain": [
       "(Index(['Duration', 'Start date', 'End date', 'Start station number',\n",
       "        'Start station', 'End station number', 'End station', 'Bike number',\n",
       "        'Member type'],\n",
       "       dtype='object'),\n",
       " (3398417, 9))"
      ]
     },
     "execution_count": 9,
     "metadata": {},
     "output_type": "execute_result"
    }
   ],
   "source": [
    "#Append all columns \n",
    "dfs=[df1,df2,df3,df4,df5,df6,df7,df8,df9,df10,df11,df12]\n",
    "df=pd.concat(dfs)\n",
    "df.columns, df.shape"
   ]
  },
  {
   "cell_type": "code",
   "execution_count": 10,
   "metadata": {
    "scrolled": false
   },
   "outputs": [
    {
     "data": {
      "text/html": [
       "<div>\n",
       "<style scoped>\n",
       "    .dataframe tbody tr th:only-of-type {\n",
       "        vertical-align: middle;\n",
       "    }\n",
       "\n",
       "    .dataframe tbody tr th {\n",
       "        vertical-align: top;\n",
       "    }\n",
       "\n",
       "    .dataframe thead th {\n",
       "        text-align: right;\n",
       "    }\n",
       "</style>\n",
       "<table border=\"1\" class=\"dataframe\">\n",
       "  <thead>\n",
       "    <tr style=\"text-align: right;\">\n",
       "      <th></th>\n",
       "      <th>Duration</th>\n",
       "      <th>start_date</th>\n",
       "      <th>end_date</th>\n",
       "      <th>station_id</th>\n",
       "      <th>start_station</th>\n",
       "      <th>end_station_number</th>\n",
       "      <th>end_station</th>\n",
       "      <th>bike_id</th>\n",
       "      <th>member_type</th>\n",
       "      <th>trips_2019</th>\n",
       "    </tr>\n",
       "  </thead>\n",
       "  <tbody>\n",
       "    <tr>\n",
       "      <th>0</th>\n",
       "      <td>230</td>\n",
       "      <td>2019-01-01 00:04:48</td>\n",
       "      <td>2019-01-01 00:08:39</td>\n",
       "      <td>31203</td>\n",
       "      <td>14th &amp; Rhode Island Ave NW</td>\n",
       "      <td>31200</td>\n",
       "      <td>Massachusetts Ave &amp; Dupont Circle NW</td>\n",
       "      <td>E00141</td>\n",
       "      <td>Member</td>\n",
       "      <td>31203</td>\n",
       "    </tr>\n",
       "    <tr>\n",
       "      <th>1</th>\n",
       "      <td>1549</td>\n",
       "      <td>2019-01-01 00:06:37</td>\n",
       "      <td>2019-01-01 00:32:27</td>\n",
       "      <td>31321</td>\n",
       "      <td>15th St &amp; Constitution Ave NW</td>\n",
       "      <td>31114</td>\n",
       "      <td>18th St &amp; Wyoming Ave NW</td>\n",
       "      <td>W24067</td>\n",
       "      <td>Casual</td>\n",
       "      <td>31321</td>\n",
       "    </tr>\n",
       "    <tr>\n",
       "      <th>2</th>\n",
       "      <td>177</td>\n",
       "      <td>2019-01-01 00:08:46</td>\n",
       "      <td>2019-01-01 00:11:44</td>\n",
       "      <td>31104</td>\n",
       "      <td>Adams Mill &amp; Columbia Rd NW</td>\n",
       "      <td>31323</td>\n",
       "      <td>Woodley Park Metro / Calvert St &amp; Connecticut ...</td>\n",
       "      <td>W22654</td>\n",
       "      <td>Casual</td>\n",
       "      <td>31104</td>\n",
       "    </tr>\n",
       "    <tr>\n",
       "      <th>3</th>\n",
       "      <td>228</td>\n",
       "      <td>2019-01-01 00:08:47</td>\n",
       "      <td>2019-01-01 00:12:35</td>\n",
       "      <td>31281</td>\n",
       "      <td>8th &amp; O St NW</td>\n",
       "      <td>31280</td>\n",
       "      <td>11th &amp; S St NW</td>\n",
       "      <td>W22336</td>\n",
       "      <td>Member</td>\n",
       "      <td>31281</td>\n",
       "    </tr>\n",
       "    <tr>\n",
       "      <th>4</th>\n",
       "      <td>1300</td>\n",
       "      <td>2019-01-01 00:12:29</td>\n",
       "      <td>2019-01-01 00:34:10</td>\n",
       "      <td>31014</td>\n",
       "      <td>Lynn &amp; 19th St North</td>\n",
       "      <td>31923</td>\n",
       "      <td>Columbia Pike &amp; S Taylor St</td>\n",
       "      <td>70004</td>\n",
       "      <td>Member</td>\n",
       "      <td>31014</td>\n",
       "    </tr>\n",
       "  </tbody>\n",
       "</table>\n",
       "</div>"
      ],
      "text/plain": [
       "   Duration           start_date             end_date  station_id  \\\n",
       "0       230  2019-01-01 00:04:48  2019-01-01 00:08:39       31203   \n",
       "1      1549  2019-01-01 00:06:37  2019-01-01 00:32:27       31321   \n",
       "2       177  2019-01-01 00:08:46  2019-01-01 00:11:44       31104   \n",
       "3       228  2019-01-01 00:08:47  2019-01-01 00:12:35       31281   \n",
       "4      1300  2019-01-01 00:12:29  2019-01-01 00:34:10       31014   \n",
       "\n",
       "                   start_station  end_station_number  \\\n",
       "0     14th & Rhode Island Ave NW               31200   \n",
       "1  15th St & Constitution Ave NW               31114   \n",
       "2    Adams Mill & Columbia Rd NW               31323   \n",
       "3                  8th & O St NW               31280   \n",
       "4           Lynn & 19th St North               31923   \n",
       "\n",
       "                                         end_station bike_id member_type  \\\n",
       "0               Massachusetts Ave & Dupont Circle NW  E00141      Member   \n",
       "1                           18th St & Wyoming Ave NW  W24067      Casual   \n",
       "2  Woodley Park Metro / Calvert St & Connecticut ...  W22654      Casual   \n",
       "3                                     11th & S St NW  W22336      Member   \n",
       "4                        Columbia Pike & S Taylor St   70004      Member   \n",
       "\n",
       "   trips_2019  \n",
       "0       31203  \n",
       "1       31321  \n",
       "2       31104  \n",
       "3       31281  \n",
       "4       31014  "
      ]
     },
     "execution_count": 10,
     "metadata": {},
     "output_type": "execute_result"
    }
   ],
   "source": [
    "#rename columns\n",
    "df = df.rename(columns={'Start date': 'start_date', \n",
    "                        'End date': 'end_date',\n",
    "                        'Start station number': 'station_id',\n",
    "                        'Start station':'start_station',\n",
    "                        'End station number':'end_station_number',\n",
    "                        'End station':'end_station',\n",
    "                        'Bike number':'bike_id',\n",
    "                        'Member type':'member_type'})\n",
    "df['trips_2019']=df['station_id']\n",
    "df.head()"
   ]
  },
  {
   "cell_type": "code",
   "execution_count": 11,
   "metadata": {},
   "outputs": [
    {
     "data": {
      "text/html": [
       "<div>\n",
       "<style scoped>\n",
       "    .dataframe tbody tr th:only-of-type {\n",
       "        vertical-align: middle;\n",
       "    }\n",
       "\n",
       "    .dataframe tbody tr th {\n",
       "        vertical-align: top;\n",
       "    }\n",
       "\n",
       "    .dataframe thead th {\n",
       "        text-align: right;\n",
       "    }\n",
       "</style>\n",
       "<table border=\"1\" class=\"dataframe\">\n",
       "  <thead>\n",
       "    <tr style=\"text-align: right;\">\n",
       "      <th></th>\n",
       "      <th>station_id</th>\n",
       "      <th>member_type</th>\n",
       "      <th>trips_2019</th>\n",
       "    </tr>\n",
       "  </thead>\n",
       "  <tbody>\n",
       "    <tr>\n",
       "      <th>0</th>\n",
       "      <td>0</td>\n",
       "      <td>Casual</td>\n",
       "      <td>20</td>\n",
       "    </tr>\n",
       "    <tr>\n",
       "      <th>1</th>\n",
       "      <td>0</td>\n",
       "      <td>Member</td>\n",
       "      <td>478</td>\n",
       "    </tr>\n",
       "    <tr>\n",
       "      <th>2</th>\n",
       "      <td>31000</td>\n",
       "      <td>Casual</td>\n",
       "      <td>341</td>\n",
       "    </tr>\n",
       "    <tr>\n",
       "      <th>3</th>\n",
       "      <td>31000</td>\n",
       "      <td>Member</td>\n",
       "      <td>1222</td>\n",
       "    </tr>\n",
       "    <tr>\n",
       "      <th>4</th>\n",
       "      <td>31001</td>\n",
       "      <td>Casual</td>\n",
       "      <td>298</td>\n",
       "    </tr>\n",
       "  </tbody>\n",
       "</table>\n",
       "</div>"
      ],
      "text/plain": [
       "   station_id member_type  trips_2019\n",
       "0           0      Casual          20\n",
       "1           0      Member         478\n",
       "2       31000      Casual         341\n",
       "3       31000      Member        1222\n",
       "4       31001      Casual         298"
      ]
     },
     "execution_count": 11,
     "metadata": {},
     "output_type": "execute_result"
    }
   ],
   "source": [
    "test_2019_df=df.groupby(['station_id', 'member_type']).agg({'trips_2019':'count'}).reset_index()\n",
    "test_2019_df.head()"
   ]
  },
  {
   "cell_type": "code",
   "execution_count": 12,
   "metadata": {},
   "outputs": [
    {
     "data": {
      "text/html": [
       "<div>\n",
       "<style scoped>\n",
       "    .dataframe tbody tr th:only-of-type {\n",
       "        vertical-align: middle;\n",
       "    }\n",
       "\n",
       "    .dataframe tbody tr th {\n",
       "        vertical-align: top;\n",
       "    }\n",
       "\n",
       "    .dataframe thead th {\n",
       "        text-align: right;\n",
       "    }\n",
       "</style>\n",
       "<table border=\"1\" class=\"dataframe\">\n",
       "  <thead>\n",
       "    <tr style=\"text-align: right;\">\n",
       "      <th></th>\n",
       "      <th>station_id</th>\n",
       "      <th>trips_2019</th>\n",
       "    </tr>\n",
       "  </thead>\n",
       "  <tbody>\n",
       "    <tr>\n",
       "      <th>0</th>\n",
       "      <td>0</td>\n",
       "      <td>498</td>\n",
       "    </tr>\n",
       "    <tr>\n",
       "      <th>1</th>\n",
       "      <td>31000</td>\n",
       "      <td>1563</td>\n",
       "    </tr>\n",
       "    <tr>\n",
       "      <th>2</th>\n",
       "      <td>31001</td>\n",
       "      <td>1993</td>\n",
       "    </tr>\n",
       "    <tr>\n",
       "      <th>3</th>\n",
       "      <td>31002</td>\n",
       "      <td>5451</td>\n",
       "    </tr>\n",
       "    <tr>\n",
       "      <th>4</th>\n",
       "      <td>31003</td>\n",
       "      <td>4338</td>\n",
       "    </tr>\n",
       "  </tbody>\n",
       "</table>\n",
       "</div>"
      ],
      "text/plain": [
       "   station_id  trips_2019\n",
       "0           0         498\n",
       "1       31000        1563\n",
       "2       31001        1993\n",
       "3       31002        5451\n",
       "4       31003        4338"
      ]
     },
     "execution_count": 12,
     "metadata": {},
     "output_type": "execute_result"
    }
   ],
   "source": [
    "#create df with station_id and trips for that specifif station\n",
    "CBS_2019_df=df.groupby(['station_id']).agg({'trips_2019':'count'}).reset_index()\n",
    "CBS_2019_df.head()"
   ]
  },
  {
   "cell_type": "code",
   "execution_count": 13,
   "metadata": {
    "scrolled": true
   },
   "outputs": [
    {
     "data": {
      "text/html": [
       "<div>\n",
       "<style scoped>\n",
       "    .dataframe tbody tr th:only-of-type {\n",
       "        vertical-align: middle;\n",
       "    }\n",
       "\n",
       "    .dataframe tbody tr th {\n",
       "        vertical-align: top;\n",
       "    }\n",
       "\n",
       "    .dataframe thead th {\n",
       "        text-align: right;\n",
       "    }\n",
       "</style>\n",
       "<table border=\"1\" class=\"dataframe\">\n",
       "  <thead>\n",
       "    <tr style=\"text-align: right;\">\n",
       "      <th></th>\n",
       "      <th>station_id</th>\n",
       "      <th>trips_2019</th>\n",
       "    </tr>\n",
       "  </thead>\n",
       "  <tbody>\n",
       "    <tr>\n",
       "      <th>1</th>\n",
       "      <td>31000</td>\n",
       "      <td>1563</td>\n",
       "    </tr>\n",
       "    <tr>\n",
       "      <th>2</th>\n",
       "      <td>31001</td>\n",
       "      <td>1993</td>\n",
       "    </tr>\n",
       "    <tr>\n",
       "      <th>3</th>\n",
       "      <td>31002</td>\n",
       "      <td>5451</td>\n",
       "    </tr>\n",
       "    <tr>\n",
       "      <th>4</th>\n",
       "      <td>31003</td>\n",
       "      <td>4338</td>\n",
       "    </tr>\n",
       "    <tr>\n",
       "      <th>5</th>\n",
       "      <td>31004</td>\n",
       "      <td>2127</td>\n",
       "    </tr>\n",
       "  </tbody>\n",
       "</table>\n",
       "</div>"
      ],
      "text/plain": [
       "   station_id  trips_2019\n",
       "1       31000        1563\n",
       "2       31001        1993\n",
       "3       31002        5451\n",
       "4       31003        4338\n",
       "5       31004        2127"
      ]
     },
     "execution_count": 13,
     "metadata": {},
     "output_type": "execute_result"
    }
   ],
   "source": [
    "#drop rows with 0 value in station_id\n",
    "CBS_2019_df=CBS_2019_df[CBS_2019_df.station_id!=0].dropna()\n",
    "CBS_2019_df.head()"
   ]
  },
  {
   "cell_type": "code",
   "execution_count": 14,
   "metadata": {},
   "outputs": [
    {
     "data": {
      "text/plain": [
       "(581, 2)"
      ]
     },
     "execution_count": 14,
     "metadata": {},
     "output_type": "execute_result"
    }
   ],
   "source": [
    "#shape\n",
    "CBS_2019_df.shape"
   ]
  },
  {
   "cell_type": "code",
   "execution_count": 15,
   "metadata": {},
   "outputs": [
    {
     "data": {
      "text/html": [
       "<div>\n",
       "<style scoped>\n",
       "    .dataframe tbody tr th:only-of-type {\n",
       "        vertical-align: middle;\n",
       "    }\n",
       "\n",
       "    .dataframe tbody tr th {\n",
       "        vertical-align: top;\n",
       "    }\n",
       "\n",
       "    .dataframe thead th {\n",
       "        text-align: right;\n",
       "    }\n",
       "</style>\n",
       "<table border=\"1\" class=\"dataframe\">\n",
       "  <thead>\n",
       "    <tr style=\"text-align: right;\">\n",
       "      <th></th>\n",
       "      <th>station_id</th>\n",
       "      <th>trips_2019</th>\n",
       "      <th>lat</th>\n",
       "      <th>lng</th>\n",
       "      <th>address</th>\n",
       "    </tr>\n",
       "  </thead>\n",
       "  <tbody>\n",
       "    <tr>\n",
       "      <th>0</th>\n",
       "      <td>31000</td>\n",
       "      <td>1563</td>\n",
       "      <td>38.858971</td>\n",
       "      <td>-77.053230</td>\n",
       "      <td>Eads St &amp; 15th St S</td>\n",
       "    </tr>\n",
       "    <tr>\n",
       "      <th>1</th>\n",
       "      <td>31001</td>\n",
       "      <td>1993</td>\n",
       "      <td>38.857250</td>\n",
       "      <td>-77.053320</td>\n",
       "      <td>18th St &amp; S Eads St</td>\n",
       "    </tr>\n",
       "    <tr>\n",
       "      <th>2</th>\n",
       "      <td>31002</td>\n",
       "      <td>5451</td>\n",
       "      <td>38.856425</td>\n",
       "      <td>-77.049232</td>\n",
       "      <td>Crystal Dr &amp; 20th St S</td>\n",
       "    </tr>\n",
       "    <tr>\n",
       "      <th>3</th>\n",
       "      <td>31003</td>\n",
       "      <td>4338</td>\n",
       "      <td>38.860170</td>\n",
       "      <td>-77.049593</td>\n",
       "      <td>Crystal Dr &amp; 15th St S</td>\n",
       "    </tr>\n",
       "    <tr>\n",
       "      <th>4</th>\n",
       "      <td>31004</td>\n",
       "      <td>2127</td>\n",
       "      <td>38.857880</td>\n",
       "      <td>-77.059505</td>\n",
       "      <td>Aurora Hills Cmty Ctr / 18th St &amp; S Hayes St</td>\n",
       "    </tr>\n",
       "  </tbody>\n",
       "</table>\n",
       "</div>"
      ],
      "text/plain": [
       "   station_id  trips_2019        lat        lng  \\\n",
       "0       31000        1563  38.858971 -77.053230   \n",
       "1       31001        1993  38.857250 -77.053320   \n",
       "2       31002        5451  38.856425 -77.049232   \n",
       "3       31003        4338  38.860170 -77.049593   \n",
       "4       31004        2127  38.857880 -77.059505   \n",
       "\n",
       "                                        address  \n",
       "0                           Eads St & 15th St S  \n",
       "1                           18th St & S Eads St  \n",
       "2                        Crystal Dr & 20th St S  \n",
       "3                        Crystal Dr & 15th St S  \n",
       "4  Aurora Hills Cmty Ctr / 18th St & S Hayes St  "
      ]
     },
     "execution_count": 15,
     "metadata": {},
     "output_type": "execute_result"
    }
   ],
   "source": [
    "#merge with StaLoc to have lat, lng columns\n",
    "df_test = pd.merge(CBS_2019_df, StaLoc, on=['station_id','station_id'])\n",
    "df_test.head()"
   ]
  },
  {
   "cell_type": "code",
   "execution_count": 16,
   "metadata": {
    "scrolled": false
   },
   "outputs": [
    {
     "data": {
      "text/plain": [
       "(581, 2)"
      ]
     },
     "execution_count": 16,
     "metadata": {},
     "output_type": "execute_result"
    }
   ],
   "source": [
    "#shape\n",
    "CBS_2019_df.shape"
   ]
  },
  {
   "cell_type": "markdown",
   "metadata": {},
   "source": [
    "# 2018 find total trips by station"
   ]
  },
  {
   "cell_type": "code",
   "execution_count": 17,
   "metadata": {},
   "outputs": [],
   "source": [
    "#Load all files for 2018\n",
    "df1=pd.read_csv(\"data/2018/201801-capitalbikeshare-tripdata.csv\")\n",
    "df2=pd.read_csv(\"data/2018/201802-capitalbikeshare-tripdata.csv\")\n",
    "df3=pd.read_csv(\"data/2018/201803-capitalbikeshare-tripdata.csv\")\n",
    "df4=pd.read_csv(\"data/2018/201804-capitalbikeshare-tripdata.csv\")\n",
    "df5=pd.read_csv(\"data/2018/201805-capitalbikeshare-tripdata.csv\")\n",
    "df6=pd.read_csv(\"data/2018/201806-capitalbikeshare-tripdata.csv\")\n",
    "df7=pd.read_csv(\"data/2018/201807-capitalbikeshare-tripdata.csv\")\n",
    "df8=pd.read_csv(\"data/2018/201808-capitalbikeshare-tripdata.csv\")\n",
    "df9=pd.read_csv(\"data/2018/201809-capitalbikeshare-tripdata.csv\")\n",
    "df10=pd.read_csv(\"data/2018/201810-capitalbikeshare-tripdata.csv\")\n",
    "df11=pd.read_csv(\"data/2018/201811-capitalbikeshare-tripdata.csv\")\n",
    "df12=pd.read_csv(\"data/2018/201812-capitalbikeshare-tripdata.csv\")"
   ]
  },
  {
   "cell_type": "code",
   "execution_count": 18,
   "metadata": {},
   "outputs": [
    {
     "data": {
      "text/plain": [
       "((168590, 9),\n",
       " (182378, 9),\n",
       " (238998, 9),\n",
       " (374115, 9),\n",
       " (392338, 9),\n",
       " (404761, 9),\n",
       " (403866, 9),\n",
       " (325800, 9),\n",
       " (343021, 9),\n",
       " (221057, 9),\n",
       " (158853, 9))"
      ]
     },
     "execution_count": 18,
     "metadata": {},
     "output_type": "execute_result"
    }
   ],
   "source": [
    "#Validate all files has the same columns\n",
    "df1.shape, df2.shape,df3.shape,df5.shape, df6.shape,df7.shape, df8.shape,df9.shape, df10.shape,df11.shape, df12.shape,"
   ]
  },
  {
   "cell_type": "code",
   "execution_count": 19,
   "metadata": {},
   "outputs": [
    {
     "data": {
      "text/plain": [
       "(Index(['Duration', 'Start date', 'End date', 'Start station number',\n",
       "        'Start station', 'End station number', 'End station', 'Bike number',\n",
       "        'Member type'],\n",
       "       dtype='object'),\n",
       " (3542684, 9))"
      ]
     },
     "execution_count": 19,
     "metadata": {},
     "output_type": "execute_result"
    }
   ],
   "source": [
    "#Append all columns \n",
    "dfs=[df1,df2,df3,df4,df5,df6,df7,df8,df9,df10,df11,df12]\n",
    "df=pd.concat(dfs)\n",
    "df.columns, df.shape"
   ]
  },
  {
   "cell_type": "code",
   "execution_count": 20,
   "metadata": {
    "scrolled": false
   },
   "outputs": [
    {
     "data": {
      "text/html": [
       "<div>\n",
       "<style scoped>\n",
       "    .dataframe tbody tr th:only-of-type {\n",
       "        vertical-align: middle;\n",
       "    }\n",
       "\n",
       "    .dataframe tbody tr th {\n",
       "        vertical-align: top;\n",
       "    }\n",
       "\n",
       "    .dataframe thead th {\n",
       "        text-align: right;\n",
       "    }\n",
       "</style>\n",
       "<table border=\"1\" class=\"dataframe\">\n",
       "  <thead>\n",
       "    <tr style=\"text-align: right;\">\n",
       "      <th></th>\n",
       "      <th>Duration</th>\n",
       "      <th>start_date</th>\n",
       "      <th>end_date</th>\n",
       "      <th>station_id</th>\n",
       "      <th>start_station</th>\n",
       "      <th>end_station_number</th>\n",
       "      <th>end_station</th>\n",
       "      <th>bike_id</th>\n",
       "      <th>member_type</th>\n",
       "      <th>trips_2018</th>\n",
       "    </tr>\n",
       "  </thead>\n",
       "  <tbody>\n",
       "    <tr>\n",
       "      <th>0</th>\n",
       "      <td>552</td>\n",
       "      <td>2018-01-01 00:05:06</td>\n",
       "      <td>2018-01-01 00:14:18</td>\n",
       "      <td>31104</td>\n",
       "      <td>Adams Mill &amp; Columbia Rd NW</td>\n",
       "      <td>31400</td>\n",
       "      <td>Georgia &amp; New Hampshire Ave NW</td>\n",
       "      <td>W00886</td>\n",
       "      <td>Member</td>\n",
       "      <td>31104</td>\n",
       "    </tr>\n",
       "    <tr>\n",
       "      <th>1</th>\n",
       "      <td>1282</td>\n",
       "      <td>2018-01-01 00:14:30</td>\n",
       "      <td>2018-01-01 00:35:53</td>\n",
       "      <td>31321</td>\n",
       "      <td>15th St &amp; Constitution Ave NW</td>\n",
       "      <td>31321</td>\n",
       "      <td>15th St &amp; Constitution Ave NW</td>\n",
       "      <td>W01435</td>\n",
       "      <td>Casual</td>\n",
       "      <td>31321</td>\n",
       "    </tr>\n",
       "    <tr>\n",
       "      <th>2</th>\n",
       "      <td>1265</td>\n",
       "      <td>2018-01-01 00:14:53</td>\n",
       "      <td>2018-01-01 00:35:58</td>\n",
       "      <td>31321</td>\n",
       "      <td>15th St &amp; Constitution Ave NW</td>\n",
       "      <td>31321</td>\n",
       "      <td>15th St &amp; Constitution Ave NW</td>\n",
       "      <td>W21242</td>\n",
       "      <td>Casual</td>\n",
       "      <td>31321</td>\n",
       "    </tr>\n",
       "    <tr>\n",
       "      <th>3</th>\n",
       "      <td>578</td>\n",
       "      <td>2018-01-01 00:15:31</td>\n",
       "      <td>2018-01-01 00:25:09</td>\n",
       "      <td>31406</td>\n",
       "      <td>14th &amp; Upshur St NW</td>\n",
       "      <td>31103</td>\n",
       "      <td>16th &amp; Harvard St NW</td>\n",
       "      <td>W21322</td>\n",
       "      <td>Casual</td>\n",
       "      <td>31406</td>\n",
       "    </tr>\n",
       "    <tr>\n",
       "      <th>4</th>\n",
       "      <td>372</td>\n",
       "      <td>2018-01-01 00:18:02</td>\n",
       "      <td>2018-01-01 00:24:15</td>\n",
       "      <td>31618</td>\n",
       "      <td>4th &amp; East Capitol St NE</td>\n",
       "      <td>31619</td>\n",
       "      <td>Lincoln Park / 13th &amp; East Capitol St NE</td>\n",
       "      <td>W00119</td>\n",
       "      <td>Member</td>\n",
       "      <td>31618</td>\n",
       "    </tr>\n",
       "  </tbody>\n",
       "</table>\n",
       "</div>"
      ],
      "text/plain": [
       "   Duration           start_date             end_date  station_id  \\\n",
       "0       552  2018-01-01 00:05:06  2018-01-01 00:14:18       31104   \n",
       "1      1282  2018-01-01 00:14:30  2018-01-01 00:35:53       31321   \n",
       "2      1265  2018-01-01 00:14:53  2018-01-01 00:35:58       31321   \n",
       "3       578  2018-01-01 00:15:31  2018-01-01 00:25:09       31406   \n",
       "4       372  2018-01-01 00:18:02  2018-01-01 00:24:15       31618   \n",
       "\n",
       "                   start_station  end_station_number  \\\n",
       "0    Adams Mill & Columbia Rd NW               31400   \n",
       "1  15th St & Constitution Ave NW               31321   \n",
       "2  15th St & Constitution Ave NW               31321   \n",
       "3            14th & Upshur St NW               31103   \n",
       "4       4th & East Capitol St NE               31619   \n",
       "\n",
       "                                 end_station bike_id member_type  trips_2018  \n",
       "0             Georgia & New Hampshire Ave NW  W00886      Member       31104  \n",
       "1              15th St & Constitution Ave NW  W01435      Casual       31321  \n",
       "2              15th St & Constitution Ave NW  W21242      Casual       31321  \n",
       "3                       16th & Harvard St NW  W21322      Casual       31406  \n",
       "4  Lincoln Park / 13th & East Capitol St NE   W00119      Member       31618  "
      ]
     },
     "execution_count": 20,
     "metadata": {},
     "output_type": "execute_result"
    }
   ],
   "source": [
    "#rename columns\n",
    "df = df.rename(columns={'Start date': 'start_date', \n",
    "                        'End date': 'end_date',\n",
    "                        'Start station number': 'station_id',\n",
    "                        'Start station':'start_station',\n",
    "                        'End station number':'end_station_number',\n",
    "                        'End station':'end_station',\n",
    "                        'Bike number':'bike_id',\n",
    "                        'Member type':'member_type'})\n",
    "df['trips_2018']=df['station_id']\n",
    "df.head()"
   ]
  },
  {
   "cell_type": "code",
   "execution_count": 21,
   "metadata": {},
   "outputs": [
    {
     "data": {
      "text/html": [
       "<div>\n",
       "<style scoped>\n",
       "    .dataframe tbody tr th:only-of-type {\n",
       "        vertical-align: middle;\n",
       "    }\n",
       "\n",
       "    .dataframe tbody tr th {\n",
       "        vertical-align: top;\n",
       "    }\n",
       "\n",
       "    .dataframe thead th {\n",
       "        text-align: right;\n",
       "    }\n",
       "</style>\n",
       "<table border=\"1\" class=\"dataframe\">\n",
       "  <thead>\n",
       "    <tr style=\"text-align: right;\">\n",
       "      <th></th>\n",
       "      <th>station_id</th>\n",
       "      <th>trips_2018</th>\n",
       "    </tr>\n",
       "  </thead>\n",
       "  <tbody>\n",
       "    <tr>\n",
       "      <th>0</th>\n",
       "      <td>31000</td>\n",
       "      <td>2472</td>\n",
       "    </tr>\n",
       "    <tr>\n",
       "      <th>1</th>\n",
       "      <td>31001</td>\n",
       "      <td>2441</td>\n",
       "    </tr>\n",
       "    <tr>\n",
       "      <th>2</th>\n",
       "      <td>31002</td>\n",
       "      <td>6469</td>\n",
       "    </tr>\n",
       "    <tr>\n",
       "      <th>3</th>\n",
       "      <td>31003</td>\n",
       "      <td>4794</td>\n",
       "    </tr>\n",
       "    <tr>\n",
       "      <th>4</th>\n",
       "      <td>31004</td>\n",
       "      <td>2614</td>\n",
       "    </tr>\n",
       "  </tbody>\n",
       "</table>\n",
       "</div>"
      ],
      "text/plain": [
       "   station_id  trips_2018\n",
       "0       31000        2472\n",
       "1       31001        2441\n",
       "2       31002        6469\n",
       "3       31003        4794\n",
       "4       31004        2614"
      ]
     },
     "execution_count": 21,
     "metadata": {},
     "output_type": "execute_result"
    }
   ],
   "source": [
    "#create df with station_id and trips for that specifif station\n",
    "CBS_2018_df=df.groupby(['station_id']).agg({'trips_2018':'count'}).reset_index()\n",
    "CBS_2018_df.head()"
   ]
  },
  {
   "cell_type": "code",
   "execution_count": 22,
   "metadata": {
    "scrolled": true
   },
   "outputs": [
    {
     "data": {
      "text/html": [
       "<div>\n",
       "<style scoped>\n",
       "    .dataframe tbody tr th:only-of-type {\n",
       "        vertical-align: middle;\n",
       "    }\n",
       "\n",
       "    .dataframe tbody tr th {\n",
       "        vertical-align: top;\n",
       "    }\n",
       "\n",
       "    .dataframe thead th {\n",
       "        text-align: right;\n",
       "    }\n",
       "</style>\n",
       "<table border=\"1\" class=\"dataframe\">\n",
       "  <thead>\n",
       "    <tr style=\"text-align: right;\">\n",
       "      <th></th>\n",
       "      <th>station_id</th>\n",
       "      <th>trips_2018</th>\n",
       "    </tr>\n",
       "  </thead>\n",
       "  <tbody>\n",
       "    <tr>\n",
       "      <th>0</th>\n",
       "      <td>31000</td>\n",
       "      <td>2472</td>\n",
       "    </tr>\n",
       "    <tr>\n",
       "      <th>1</th>\n",
       "      <td>31001</td>\n",
       "      <td>2441</td>\n",
       "    </tr>\n",
       "    <tr>\n",
       "      <th>2</th>\n",
       "      <td>31002</td>\n",
       "      <td>6469</td>\n",
       "    </tr>\n",
       "    <tr>\n",
       "      <th>3</th>\n",
       "      <td>31003</td>\n",
       "      <td>4794</td>\n",
       "    </tr>\n",
       "    <tr>\n",
       "      <th>4</th>\n",
       "      <td>31004</td>\n",
       "      <td>2614</td>\n",
       "    </tr>\n",
       "  </tbody>\n",
       "</table>\n",
       "</div>"
      ],
      "text/plain": [
       "   station_id  trips_2018\n",
       "0       31000        2472\n",
       "1       31001        2441\n",
       "2       31002        6469\n",
       "3       31003        4794\n",
       "4       31004        2614"
      ]
     },
     "execution_count": 22,
     "metadata": {},
     "output_type": "execute_result"
    }
   ],
   "source": [
    "#drop rows with 0 value in station_id\n",
    "CBS_2018_df=CBS_2018_df[CBS_2018_df.station_id!=0].dropna()\n",
    "CBS_2018_df.head()"
   ]
  },
  {
   "cell_type": "code",
   "execution_count": 23,
   "metadata": {},
   "outputs": [
    {
     "data": {
      "text/plain": [
       "(528, 2)"
      ]
     },
     "execution_count": 23,
     "metadata": {},
     "output_type": "execute_result"
    }
   ],
   "source": [
    "#shape\n",
    "CBS_2018_df.shape"
   ]
  },
  {
   "cell_type": "code",
   "execution_count": 24,
   "metadata": {},
   "outputs": [
    {
     "data": {
      "text/html": [
       "<div>\n",
       "<style scoped>\n",
       "    .dataframe tbody tr th:only-of-type {\n",
       "        vertical-align: middle;\n",
       "    }\n",
       "\n",
       "    .dataframe tbody tr th {\n",
       "        vertical-align: top;\n",
       "    }\n",
       "\n",
       "    .dataframe thead th {\n",
       "        text-align: right;\n",
       "    }\n",
       "</style>\n",
       "<table border=\"1\" class=\"dataframe\">\n",
       "  <thead>\n",
       "    <tr style=\"text-align: right;\">\n",
       "      <th></th>\n",
       "      <th>station_id</th>\n",
       "      <th>trips_2018</th>\n",
       "      <th>lat</th>\n",
       "      <th>lng</th>\n",
       "      <th>address</th>\n",
       "    </tr>\n",
       "  </thead>\n",
       "  <tbody>\n",
       "    <tr>\n",
       "      <th>0</th>\n",
       "      <td>31000</td>\n",
       "      <td>2472</td>\n",
       "      <td>38.858971</td>\n",
       "      <td>-77.053230</td>\n",
       "      <td>Eads St &amp; 15th St S</td>\n",
       "    </tr>\n",
       "    <tr>\n",
       "      <th>1</th>\n",
       "      <td>31001</td>\n",
       "      <td>2441</td>\n",
       "      <td>38.857250</td>\n",
       "      <td>-77.053320</td>\n",
       "      <td>18th St &amp; S Eads St</td>\n",
       "    </tr>\n",
       "    <tr>\n",
       "      <th>2</th>\n",
       "      <td>31002</td>\n",
       "      <td>6469</td>\n",
       "      <td>38.856425</td>\n",
       "      <td>-77.049232</td>\n",
       "      <td>Crystal Dr &amp; 20th St S</td>\n",
       "    </tr>\n",
       "    <tr>\n",
       "      <th>3</th>\n",
       "      <td>31003</td>\n",
       "      <td>4794</td>\n",
       "      <td>38.860170</td>\n",
       "      <td>-77.049593</td>\n",
       "      <td>Crystal Dr &amp; 15th St S</td>\n",
       "    </tr>\n",
       "    <tr>\n",
       "      <th>4</th>\n",
       "      <td>31004</td>\n",
       "      <td>2614</td>\n",
       "      <td>38.857880</td>\n",
       "      <td>-77.059505</td>\n",
       "      <td>Aurora Hills Cmty Ctr / 18th St &amp; S Hayes St</td>\n",
       "    </tr>\n",
       "  </tbody>\n",
       "</table>\n",
       "</div>"
      ],
      "text/plain": [
       "   station_id  trips_2018        lat        lng  \\\n",
       "0       31000        2472  38.858971 -77.053230   \n",
       "1       31001        2441  38.857250 -77.053320   \n",
       "2       31002        6469  38.856425 -77.049232   \n",
       "3       31003        4794  38.860170 -77.049593   \n",
       "4       31004        2614  38.857880 -77.059505   \n",
       "\n",
       "                                        address  \n",
       "0                           Eads St & 15th St S  \n",
       "1                           18th St & S Eads St  \n",
       "2                        Crystal Dr & 20th St S  \n",
       "3                        Crystal Dr & 15th St S  \n",
       "4  Aurora Hills Cmty Ctr / 18th St & S Hayes St  "
      ]
     },
     "execution_count": 24,
     "metadata": {},
     "output_type": "execute_result"
    }
   ],
   "source": [
    "#merge with StaLoc to have lat, lng columns\n",
    "df_test = pd.merge(CBS_2018_df, StaLoc, on=['station_id','station_id'])\n",
    "df_test.head()"
   ]
  },
  {
   "cell_type": "code",
   "execution_count": 25,
   "metadata": {
    "scrolled": true
   },
   "outputs": [
    {
     "data": {
      "text/plain": [
       "(528, 2)"
      ]
     },
     "execution_count": 25,
     "metadata": {},
     "output_type": "execute_result"
    }
   ],
   "source": [
    "#shape\n",
    "CBS_2018_df.shape"
   ]
  },
  {
   "cell_type": "markdown",
   "metadata": {},
   "source": [
    "# 2017 find total trips by station"
   ]
  },
  {
   "cell_type": "code",
   "execution_count": 26,
   "metadata": {},
   "outputs": [],
   "source": [
    "#Load all files for 2017\n",
    "df1=pd.read_csv(\"data/2017/2017Q1-capitalbikeshare-tripdata.csv\")\n",
    "df2=pd.read_csv(\"data/2017/2017Q2-capitalbikeshare-tripdata.csv\")\n",
    "df3=pd.read_csv(\"data/2017/2017Q3-capitalbikeshare-tripdata.csv\")\n",
    "df4=pd.read_csv(\"data/2017/2017Q4-capitalbikeshare-tripdata.csv\")"
   ]
  },
  {
   "cell_type": "code",
   "execution_count": 27,
   "metadata": {},
   "outputs": [
    {
     "data": {
      "text/plain": [
       "((646510, 9), (1104418, 9), (1191585, 9), (815264, 9))"
      ]
     },
     "execution_count": 27,
     "metadata": {},
     "output_type": "execute_result"
    }
   ],
   "source": [
    "#Validate all files has the same columns\n",
    "df1.shape, df2.shape,df3.shape,df4.shape"
   ]
  },
  {
   "cell_type": "code",
   "execution_count": 28,
   "metadata": {},
   "outputs": [
    {
     "data": {
      "text/plain": [
       "(Index(['Duration', 'Start date', 'End date', 'Start station number',\n",
       "        'Start station', 'End station number', 'End station', 'Bike number',\n",
       "        'Member type'],\n",
       "       dtype='object'),\n",
       " (3757777, 9))"
      ]
     },
     "execution_count": 28,
     "metadata": {},
     "output_type": "execute_result"
    }
   ],
   "source": [
    "#Append all columns \n",
    "dfs=[df1,df2,df3,df4]\n",
    "df=pd.concat(dfs)\n",
    "df.columns, df.shape"
   ]
  },
  {
   "cell_type": "code",
   "execution_count": 29,
   "metadata": {
    "scrolled": false
   },
   "outputs": [
    {
     "data": {
      "text/html": [
       "<div>\n",
       "<style scoped>\n",
       "    .dataframe tbody tr th:only-of-type {\n",
       "        vertical-align: middle;\n",
       "    }\n",
       "\n",
       "    .dataframe tbody tr th {\n",
       "        vertical-align: top;\n",
       "    }\n",
       "\n",
       "    .dataframe thead th {\n",
       "        text-align: right;\n",
       "    }\n",
       "</style>\n",
       "<table border=\"1\" class=\"dataframe\">\n",
       "  <thead>\n",
       "    <tr style=\"text-align: right;\">\n",
       "      <th></th>\n",
       "      <th>Duration</th>\n",
       "      <th>start_date</th>\n",
       "      <th>end_date</th>\n",
       "      <th>station_id</th>\n",
       "      <th>start_station</th>\n",
       "      <th>end_station_number</th>\n",
       "      <th>end_station</th>\n",
       "      <th>bike_id</th>\n",
       "      <th>member_type</th>\n",
       "      <th>trips_2017</th>\n",
       "    </tr>\n",
       "  </thead>\n",
       "  <tbody>\n",
       "    <tr>\n",
       "      <th>0</th>\n",
       "      <td>221</td>\n",
       "      <td>2017-01-01 00:00:41</td>\n",
       "      <td>2017-01-01 00:04:23</td>\n",
       "      <td>31634</td>\n",
       "      <td>3rd &amp; Tingey St SE</td>\n",
       "      <td>31208</td>\n",
       "      <td>M St &amp; New Jersey Ave SE</td>\n",
       "      <td>W00869</td>\n",
       "      <td>Member</td>\n",
       "      <td>31634</td>\n",
       "    </tr>\n",
       "    <tr>\n",
       "      <th>1</th>\n",
       "      <td>1676</td>\n",
       "      <td>2017-01-01 00:06:53</td>\n",
       "      <td>2017-01-01 00:34:49</td>\n",
       "      <td>31258</td>\n",
       "      <td>Lincoln Memorial</td>\n",
       "      <td>31270</td>\n",
       "      <td>8th &amp; D St NW</td>\n",
       "      <td>W00894</td>\n",
       "      <td>Casual</td>\n",
       "      <td>31258</td>\n",
       "    </tr>\n",
       "    <tr>\n",
       "      <th>2</th>\n",
       "      <td>1356</td>\n",
       "      <td>2017-01-01 00:07:10</td>\n",
       "      <td>2017-01-01 00:29:47</td>\n",
       "      <td>31289</td>\n",
       "      <td>Henry Bacon Dr &amp; Lincoln Memorial Circle NW</td>\n",
       "      <td>31222</td>\n",
       "      <td>New York Ave &amp; 15th St NW</td>\n",
       "      <td>W21945</td>\n",
       "      <td>Casual</td>\n",
       "      <td>31289</td>\n",
       "    </tr>\n",
       "    <tr>\n",
       "      <th>3</th>\n",
       "      <td>1327</td>\n",
       "      <td>2017-01-01 00:07:22</td>\n",
       "      <td>2017-01-01 00:29:30</td>\n",
       "      <td>31289</td>\n",
       "      <td>Henry Bacon Dr &amp; Lincoln Memorial Circle NW</td>\n",
       "      <td>31222</td>\n",
       "      <td>New York Ave &amp; 15th St NW</td>\n",
       "      <td>W20012</td>\n",
       "      <td>Casual</td>\n",
       "      <td>31289</td>\n",
       "    </tr>\n",
       "    <tr>\n",
       "      <th>4</th>\n",
       "      <td>1636</td>\n",
       "      <td>2017-01-01 00:07:36</td>\n",
       "      <td>2017-01-01 00:34:52</td>\n",
       "      <td>31258</td>\n",
       "      <td>Lincoln Memorial</td>\n",
       "      <td>31270</td>\n",
       "      <td>8th &amp; D St NW</td>\n",
       "      <td>W22786</td>\n",
       "      <td>Casual</td>\n",
       "      <td>31258</td>\n",
       "    </tr>\n",
       "  </tbody>\n",
       "</table>\n",
       "</div>"
      ],
      "text/plain": [
       "   Duration           start_date             end_date  station_id  \\\n",
       "0       221  2017-01-01 00:00:41  2017-01-01 00:04:23       31634   \n",
       "1      1676  2017-01-01 00:06:53  2017-01-01 00:34:49       31258   \n",
       "2      1356  2017-01-01 00:07:10  2017-01-01 00:29:47       31289   \n",
       "3      1327  2017-01-01 00:07:22  2017-01-01 00:29:30       31289   \n",
       "4      1636  2017-01-01 00:07:36  2017-01-01 00:34:52       31258   \n",
       "\n",
       "                                 start_station  end_station_number  \\\n",
       "0                           3rd & Tingey St SE               31208   \n",
       "1                             Lincoln Memorial               31270   \n",
       "2  Henry Bacon Dr & Lincoln Memorial Circle NW               31222   \n",
       "3  Henry Bacon Dr & Lincoln Memorial Circle NW               31222   \n",
       "4                             Lincoln Memorial               31270   \n",
       "\n",
       "                 end_station bike_id member_type  trips_2017  \n",
       "0   M St & New Jersey Ave SE  W00869      Member       31634  \n",
       "1              8th & D St NW  W00894      Casual       31258  \n",
       "2  New York Ave & 15th St NW  W21945      Casual       31289  \n",
       "3  New York Ave & 15th St NW  W20012      Casual       31289  \n",
       "4              8th & D St NW  W22786      Casual       31258  "
      ]
     },
     "execution_count": 29,
     "metadata": {},
     "output_type": "execute_result"
    }
   ],
   "source": [
    "#rename columns\n",
    "df = df.rename(columns={'Start date': 'start_date', \n",
    "                        'End date': 'end_date',\n",
    "                        'Start station number': 'station_id',\n",
    "                        'Start station':'start_station',\n",
    "                        'End station number':'end_station_number',\n",
    "                        'End station':'end_station',\n",
    "                        'Bike number':'bike_id',\n",
    "                        'Member type':'member_type'})\n",
    "df['trips_2017']=df['station_id']\n",
    "df.head()"
   ]
  },
  {
   "cell_type": "code",
   "execution_count": 30,
   "metadata": {},
   "outputs": [
    {
     "data": {
      "text/html": [
       "<div>\n",
       "<style scoped>\n",
       "    .dataframe tbody tr th:only-of-type {\n",
       "        vertical-align: middle;\n",
       "    }\n",
       "\n",
       "    .dataframe tbody tr th {\n",
       "        vertical-align: top;\n",
       "    }\n",
       "\n",
       "    .dataframe thead th {\n",
       "        text-align: right;\n",
       "    }\n",
       "</style>\n",
       "<table border=\"1\" class=\"dataframe\">\n",
       "  <thead>\n",
       "    <tr style=\"text-align: right;\">\n",
       "      <th></th>\n",
       "      <th>station_id</th>\n",
       "      <th>trips_2017</th>\n",
       "    </tr>\n",
       "  </thead>\n",
       "  <tbody>\n",
       "    <tr>\n",
       "      <th>0</th>\n",
       "      <td>31000</td>\n",
       "      <td>2529</td>\n",
       "    </tr>\n",
       "    <tr>\n",
       "      <th>1</th>\n",
       "      <td>31001</td>\n",
       "      <td>2428</td>\n",
       "    </tr>\n",
       "    <tr>\n",
       "      <th>2</th>\n",
       "      <td>31002</td>\n",
       "      <td>7060</td>\n",
       "    </tr>\n",
       "    <tr>\n",
       "      <th>3</th>\n",
       "      <td>31003</td>\n",
       "      <td>5516</td>\n",
       "    </tr>\n",
       "    <tr>\n",
       "      <th>4</th>\n",
       "      <td>31004</td>\n",
       "      <td>2770</td>\n",
       "    </tr>\n",
       "  </tbody>\n",
       "</table>\n",
       "</div>"
      ],
      "text/plain": [
       "   station_id  trips_2017\n",
       "0       31000        2529\n",
       "1       31001        2428\n",
       "2       31002        7060\n",
       "3       31003        5516\n",
       "4       31004        2770"
      ]
     },
     "execution_count": 30,
     "metadata": {},
     "output_type": "execute_result"
    }
   ],
   "source": [
    "#create df with station_id and trips for that specifif station\n",
    "CBS_2017_df=df.groupby(['station_id']).agg({'trips_2017':'count'}).reset_index()\n",
    "CBS_2017_df.head()"
   ]
  },
  {
   "cell_type": "code",
   "execution_count": 31,
   "metadata": {
    "scrolled": true
   },
   "outputs": [
    {
     "data": {
      "text/html": [
       "<div>\n",
       "<style scoped>\n",
       "    .dataframe tbody tr th:only-of-type {\n",
       "        vertical-align: middle;\n",
       "    }\n",
       "\n",
       "    .dataframe tbody tr th {\n",
       "        vertical-align: top;\n",
       "    }\n",
       "\n",
       "    .dataframe thead th {\n",
       "        text-align: right;\n",
       "    }\n",
       "</style>\n",
       "<table border=\"1\" class=\"dataframe\">\n",
       "  <thead>\n",
       "    <tr style=\"text-align: right;\">\n",
       "      <th></th>\n",
       "      <th>station_id</th>\n",
       "      <th>trips_2017</th>\n",
       "    </tr>\n",
       "  </thead>\n",
       "  <tbody>\n",
       "    <tr>\n",
       "      <th>0</th>\n",
       "      <td>31000</td>\n",
       "      <td>2529</td>\n",
       "    </tr>\n",
       "    <tr>\n",
       "      <th>1</th>\n",
       "      <td>31001</td>\n",
       "      <td>2428</td>\n",
       "    </tr>\n",
       "    <tr>\n",
       "      <th>2</th>\n",
       "      <td>31002</td>\n",
       "      <td>7060</td>\n",
       "    </tr>\n",
       "    <tr>\n",
       "      <th>3</th>\n",
       "      <td>31003</td>\n",
       "      <td>5516</td>\n",
       "    </tr>\n",
       "    <tr>\n",
       "      <th>4</th>\n",
       "      <td>31004</td>\n",
       "      <td>2770</td>\n",
       "    </tr>\n",
       "  </tbody>\n",
       "</table>\n",
       "</div>"
      ],
      "text/plain": [
       "   station_id  trips_2017\n",
       "0       31000        2529\n",
       "1       31001        2428\n",
       "2       31002        7060\n",
       "3       31003        5516\n",
       "4       31004        2770"
      ]
     },
     "execution_count": 31,
     "metadata": {},
     "output_type": "execute_result"
    }
   ],
   "source": [
    "CBS_2017_df=CBS_2017_df[CBS_2017_df.station_id!=0].dropna()\n",
    "CBS_2017_df.head()"
   ]
  },
  {
   "cell_type": "code",
   "execution_count": 32,
   "metadata": {},
   "outputs": [
    {
     "data": {
      "text/plain": [
       "(487, 2)"
      ]
     },
     "execution_count": 32,
     "metadata": {},
     "output_type": "execute_result"
    }
   ],
   "source": [
    "#shape\n",
    "CBS_2017_df.shape"
   ]
  },
  {
   "cell_type": "code",
   "execution_count": 33,
   "metadata": {},
   "outputs": [
    {
     "data": {
      "text/html": [
       "<div>\n",
       "<style scoped>\n",
       "    .dataframe tbody tr th:only-of-type {\n",
       "        vertical-align: middle;\n",
       "    }\n",
       "\n",
       "    .dataframe tbody tr th {\n",
       "        vertical-align: top;\n",
       "    }\n",
       "\n",
       "    .dataframe thead th {\n",
       "        text-align: right;\n",
       "    }\n",
       "</style>\n",
       "<table border=\"1\" class=\"dataframe\">\n",
       "  <thead>\n",
       "    <tr style=\"text-align: right;\">\n",
       "      <th></th>\n",
       "      <th>station_id</th>\n",
       "      <th>trips_2017</th>\n",
       "      <th>lat</th>\n",
       "      <th>lng</th>\n",
       "      <th>address</th>\n",
       "    </tr>\n",
       "  </thead>\n",
       "  <tbody>\n",
       "    <tr>\n",
       "      <th>0</th>\n",
       "      <td>31000</td>\n",
       "      <td>2529</td>\n",
       "      <td>38.858971</td>\n",
       "      <td>-77.053230</td>\n",
       "      <td>Eads St &amp; 15th St S</td>\n",
       "    </tr>\n",
       "    <tr>\n",
       "      <th>1</th>\n",
       "      <td>31001</td>\n",
       "      <td>2428</td>\n",
       "      <td>38.857250</td>\n",
       "      <td>-77.053320</td>\n",
       "      <td>18th St &amp; S Eads St</td>\n",
       "    </tr>\n",
       "    <tr>\n",
       "      <th>2</th>\n",
       "      <td>31002</td>\n",
       "      <td>7060</td>\n",
       "      <td>38.856425</td>\n",
       "      <td>-77.049232</td>\n",
       "      <td>Crystal Dr &amp; 20th St S</td>\n",
       "    </tr>\n",
       "    <tr>\n",
       "      <th>3</th>\n",
       "      <td>31003</td>\n",
       "      <td>5516</td>\n",
       "      <td>38.860170</td>\n",
       "      <td>-77.049593</td>\n",
       "      <td>Crystal Dr &amp; 15th St S</td>\n",
       "    </tr>\n",
       "    <tr>\n",
       "      <th>4</th>\n",
       "      <td>31004</td>\n",
       "      <td>2770</td>\n",
       "      <td>38.857880</td>\n",
       "      <td>-77.059505</td>\n",
       "      <td>Aurora Hills Cmty Ctr / 18th St &amp; S Hayes St</td>\n",
       "    </tr>\n",
       "  </tbody>\n",
       "</table>\n",
       "</div>"
      ],
      "text/plain": [
       "   station_id  trips_2017        lat        lng  \\\n",
       "0       31000        2529  38.858971 -77.053230   \n",
       "1       31001        2428  38.857250 -77.053320   \n",
       "2       31002        7060  38.856425 -77.049232   \n",
       "3       31003        5516  38.860170 -77.049593   \n",
       "4       31004        2770  38.857880 -77.059505   \n",
       "\n",
       "                                        address  \n",
       "0                           Eads St & 15th St S  \n",
       "1                           18th St & S Eads St  \n",
       "2                        Crystal Dr & 20th St S  \n",
       "3                        Crystal Dr & 15th St S  \n",
       "4  Aurora Hills Cmty Ctr / 18th St & S Hayes St  "
      ]
     },
     "execution_count": 33,
     "metadata": {},
     "output_type": "execute_result"
    }
   ],
   "source": [
    "#merge with StaLoc to have lat, lng columns\n",
    "df_test = pd.merge(CBS_2017_df, StaLoc, on=['station_id','station_id'])\n",
    "df_test.head()"
   ]
  },
  {
   "cell_type": "code",
   "execution_count": 34,
   "metadata": {
    "scrolled": true
   },
   "outputs": [
    {
     "data": {
      "text/plain": [
       "(487, 2)"
      ]
     },
     "execution_count": 34,
     "metadata": {},
     "output_type": "execute_result"
    }
   ],
   "source": [
    "#shape\n",
    "CBS_2017_df.shape"
   ]
  },
  {
   "cell_type": "code",
   "execution_count": null,
   "metadata": {},
   "outputs": [],
   "source": []
  },
  {
   "cell_type": "markdown",
   "metadata": {},
   "source": [
    "# 2016 find total trips by station"
   ]
  },
  {
   "cell_type": "code",
   "execution_count": 35,
   "metadata": {},
   "outputs": [],
   "source": [
    "#Load all files for 2016\n",
    "df1=pd.read_csv(\"data/2016/2016Q1-capitalbikeshare-tripdata.csv\")\n",
    "df2=pd.read_csv(\"data/2016/2016Q2-capitalbikeshare-tripdata.csv\")\n",
    "df3=pd.read_csv(\"data/2016/2016Q3-capitalbikeshare-tripdata.csv\")\n",
    "df4=pd.read_csv(\"data/2016/2016Q4-capitalbikeshare-tripdata.csv\")"
   ]
  },
  {
   "cell_type": "code",
   "execution_count": 36,
   "metadata": {},
   "outputs": [
    {
     "data": {
      "text/plain": [
       "((552399, 9), (942333, 9), (1068194, 9), (771068, 9))"
      ]
     },
     "execution_count": 36,
     "metadata": {},
     "output_type": "execute_result"
    }
   ],
   "source": [
    "#Validate all files has the same columns\n",
    "df1.shape, df2.shape,df3.shape,df4.shape"
   ]
  },
  {
   "cell_type": "code",
   "execution_count": 37,
   "metadata": {},
   "outputs": [
    {
     "data": {
      "text/plain": [
       "(Index(['Duration', 'Start date', 'End date', 'Start station number',\n",
       "        'Start station', 'End station number', 'End station', 'Bike number',\n",
       "        'Member type'],\n",
       "       dtype='object'),\n",
       " (3333994, 9))"
      ]
     },
     "execution_count": 37,
     "metadata": {},
     "output_type": "execute_result"
    }
   ],
   "source": [
    "#Append all columns \n",
    "dfs=[df1,df2,df3,df4]\n",
    "df=pd.concat(dfs)\n",
    "df.columns, df.shape"
   ]
  },
  {
   "cell_type": "code",
   "execution_count": 38,
   "metadata": {
    "scrolled": false
   },
   "outputs": [
    {
     "data": {
      "text/html": [
       "<div>\n",
       "<style scoped>\n",
       "    .dataframe tbody tr th:only-of-type {\n",
       "        vertical-align: middle;\n",
       "    }\n",
       "\n",
       "    .dataframe tbody tr th {\n",
       "        vertical-align: top;\n",
       "    }\n",
       "\n",
       "    .dataframe thead th {\n",
       "        text-align: right;\n",
       "    }\n",
       "</style>\n",
       "<table border=\"1\" class=\"dataframe\">\n",
       "  <thead>\n",
       "    <tr style=\"text-align: right;\">\n",
       "      <th></th>\n",
       "      <th>Duration</th>\n",
       "      <th>start_date</th>\n",
       "      <th>end_date</th>\n",
       "      <th>station_id</th>\n",
       "      <th>start_station</th>\n",
       "      <th>end_station_number</th>\n",
       "      <th>end_station</th>\n",
       "      <th>bike_id</th>\n",
       "      <th>member_type</th>\n",
       "      <th>trips_2016</th>\n",
       "    </tr>\n",
       "  </thead>\n",
       "  <tbody>\n",
       "    <tr>\n",
       "      <th>0</th>\n",
       "      <td>166</td>\n",
       "      <td>2016-01-01 00:06:58</td>\n",
       "      <td>2016-01-01 00:09:44</td>\n",
       "      <td>31102</td>\n",
       "      <td>11th &amp; Kenyon St NW</td>\n",
       "      <td>31105</td>\n",
       "      <td>14th &amp; Harvard St NW</td>\n",
       "      <td>W01346</td>\n",
       "      <td>Member</td>\n",
       "      <td>31102</td>\n",
       "    </tr>\n",
       "    <tr>\n",
       "      <th>1</th>\n",
       "      <td>448</td>\n",
       "      <td>2016-01-01 00:10:20</td>\n",
       "      <td>2016-01-01 00:17:48</td>\n",
       "      <td>32039</td>\n",
       "      <td>Old Georgetown Rd &amp; Southwick St</td>\n",
       "      <td>32002</td>\n",
       "      <td>Bethesda Ave &amp; Arlington Rd</td>\n",
       "      <td>W22202</td>\n",
       "      <td>Member</td>\n",
       "      <td>32039</td>\n",
       "    </tr>\n",
       "    <tr>\n",
       "      <th>2</th>\n",
       "      <td>715</td>\n",
       "      <td>2016-01-01 00:13:52</td>\n",
       "      <td>2016-01-01 00:25:48</td>\n",
       "      <td>31222</td>\n",
       "      <td>New York Ave &amp; 15th St NW</td>\n",
       "      <td>31214</td>\n",
       "      <td>17th &amp; Corcoran St NW</td>\n",
       "      <td>W21427</td>\n",
       "      <td>Member</td>\n",
       "      <td>31222</td>\n",
       "    </tr>\n",
       "    <tr>\n",
       "      <th>3</th>\n",
       "      <td>213</td>\n",
       "      <td>2016-01-01 00:15:29</td>\n",
       "      <td>2016-01-01 00:19:03</td>\n",
       "      <td>31506</td>\n",
       "      <td>1st &amp; Rhode Island Ave NW</td>\n",
       "      <td>31509</td>\n",
       "      <td>New Jersey Ave &amp; R St NW</td>\n",
       "      <td>W01294</td>\n",
       "      <td>Member</td>\n",
       "      <td>31506</td>\n",
       "    </tr>\n",
       "    <tr>\n",
       "      <th>4</th>\n",
       "      <td>872</td>\n",
       "      <td>2016-01-01 00:16:16</td>\n",
       "      <td>2016-01-01 00:30:49</td>\n",
       "      <td>31041</td>\n",
       "      <td>Prince St &amp; Union St</td>\n",
       "      <td>31048</td>\n",
       "      <td>King St Metro South</td>\n",
       "      <td>W22058</td>\n",
       "      <td>Member</td>\n",
       "      <td>31041</td>\n",
       "    </tr>\n",
       "  </tbody>\n",
       "</table>\n",
       "</div>"
      ],
      "text/plain": [
       "   Duration           start_date             end_date  station_id  \\\n",
       "0       166  2016-01-01 00:06:58  2016-01-01 00:09:44       31102   \n",
       "1       448  2016-01-01 00:10:20  2016-01-01 00:17:48       32039   \n",
       "2       715  2016-01-01 00:13:52  2016-01-01 00:25:48       31222   \n",
       "3       213  2016-01-01 00:15:29  2016-01-01 00:19:03       31506   \n",
       "4       872  2016-01-01 00:16:16  2016-01-01 00:30:49       31041   \n",
       "\n",
       "                      start_station  end_station_number  \\\n",
       "0               11th & Kenyon St NW               31105   \n",
       "1  Old Georgetown Rd & Southwick St               32002   \n",
       "2         New York Ave & 15th St NW               31214   \n",
       "3         1st & Rhode Island Ave NW               31509   \n",
       "4              Prince St & Union St               31048   \n",
       "\n",
       "                   end_station bike_id member_type  trips_2016  \n",
       "0         14th & Harvard St NW  W01346      Member       31102  \n",
       "1  Bethesda Ave & Arlington Rd  W22202      Member       32039  \n",
       "2        17th & Corcoran St NW  W21427      Member       31222  \n",
       "3     New Jersey Ave & R St NW  W01294      Member       31506  \n",
       "4          King St Metro South  W22058      Member       31041  "
      ]
     },
     "execution_count": 38,
     "metadata": {},
     "output_type": "execute_result"
    }
   ],
   "source": [
    "#rename columns\n",
    "df = df.rename(columns={'Start date': 'start_date', \n",
    "                        'End date': 'end_date',\n",
    "                        'Start station number': 'station_id',\n",
    "                        'Start station':'start_station',\n",
    "                        'End station number':'end_station_number',\n",
    "                        'End station':'end_station',\n",
    "                        'Bike number':'bike_id',\n",
    "                        'Member type':'member_type'})\n",
    "df['trips_2016']=df['station_id']\n",
    "df.head()"
   ]
  },
  {
   "cell_type": "code",
   "execution_count": 39,
   "metadata": {},
   "outputs": [
    {
     "data": {
      "text/html": [
       "<div>\n",
       "<style scoped>\n",
       "    .dataframe tbody tr th:only-of-type {\n",
       "        vertical-align: middle;\n",
       "    }\n",
       "\n",
       "    .dataframe tbody tr th {\n",
       "        vertical-align: top;\n",
       "    }\n",
       "\n",
       "    .dataframe thead th {\n",
       "        text-align: right;\n",
       "    }\n",
       "</style>\n",
       "<table border=\"1\" class=\"dataframe\">\n",
       "  <thead>\n",
       "    <tr style=\"text-align: right;\">\n",
       "      <th></th>\n",
       "      <th>station_id</th>\n",
       "      <th>trips_2016</th>\n",
       "    </tr>\n",
       "  </thead>\n",
       "  <tbody>\n",
       "    <tr>\n",
       "      <th>0</th>\n",
       "      <td>31000</td>\n",
       "      <td>1883</td>\n",
       "    </tr>\n",
       "    <tr>\n",
       "      <th>1</th>\n",
       "      <td>31001</td>\n",
       "      <td>2233</td>\n",
       "    </tr>\n",
       "    <tr>\n",
       "      <th>2</th>\n",
       "      <td>31002</td>\n",
       "      <td>6208</td>\n",
       "    </tr>\n",
       "    <tr>\n",
       "      <th>3</th>\n",
       "      <td>31003</td>\n",
       "      <td>5304</td>\n",
       "    </tr>\n",
       "    <tr>\n",
       "      <th>4</th>\n",
       "      <td>31004</td>\n",
       "      <td>3222</td>\n",
       "    </tr>\n",
       "  </tbody>\n",
       "</table>\n",
       "</div>"
      ],
      "text/plain": [
       "   station_id  trips_2016\n",
       "0       31000        1883\n",
       "1       31001        2233\n",
       "2       31002        6208\n",
       "3       31003        5304\n",
       "4       31004        3222"
      ]
     },
     "execution_count": 39,
     "metadata": {},
     "output_type": "execute_result"
    }
   ],
   "source": [
    "#create df with station_id and trips for that specifif station\n",
    "CBS_2016_df=df.groupby(['station_id']).agg({'trips_2016':'count'}).reset_index()\n",
    "CBS_2016_df.head()"
   ]
  },
  {
   "cell_type": "code",
   "execution_count": 40,
   "metadata": {
    "scrolled": true
   },
   "outputs": [
    {
     "data": {
      "text/html": [
       "<div>\n",
       "<style scoped>\n",
       "    .dataframe tbody tr th:only-of-type {\n",
       "        vertical-align: middle;\n",
       "    }\n",
       "\n",
       "    .dataframe tbody tr th {\n",
       "        vertical-align: top;\n",
       "    }\n",
       "\n",
       "    .dataframe thead th {\n",
       "        text-align: right;\n",
       "    }\n",
       "</style>\n",
       "<table border=\"1\" class=\"dataframe\">\n",
       "  <thead>\n",
       "    <tr style=\"text-align: right;\">\n",
       "      <th></th>\n",
       "      <th>station_id</th>\n",
       "      <th>trips_2016</th>\n",
       "    </tr>\n",
       "  </thead>\n",
       "  <tbody>\n",
       "    <tr>\n",
       "      <th>0</th>\n",
       "      <td>31000</td>\n",
       "      <td>1883</td>\n",
       "    </tr>\n",
       "    <tr>\n",
       "      <th>1</th>\n",
       "      <td>31001</td>\n",
       "      <td>2233</td>\n",
       "    </tr>\n",
       "    <tr>\n",
       "      <th>2</th>\n",
       "      <td>31002</td>\n",
       "      <td>6208</td>\n",
       "    </tr>\n",
       "    <tr>\n",
       "      <th>3</th>\n",
       "      <td>31003</td>\n",
       "      <td>5304</td>\n",
       "    </tr>\n",
       "    <tr>\n",
       "      <th>4</th>\n",
       "      <td>31004</td>\n",
       "      <td>3222</td>\n",
       "    </tr>\n",
       "  </tbody>\n",
       "</table>\n",
       "</div>"
      ],
      "text/plain": [
       "   station_id  trips_2016\n",
       "0       31000        1883\n",
       "1       31001        2233\n",
       "2       31002        6208\n",
       "3       31003        5304\n",
       "4       31004        3222"
      ]
     },
     "execution_count": 40,
     "metadata": {},
     "output_type": "execute_result"
    }
   ],
   "source": [
    "CBS_2016_df=CBS_2016_df[CBS_2016_df.station_id!=0].dropna()\n",
    "CBS_2016_df.head()"
   ]
  },
  {
   "cell_type": "code",
   "execution_count": 41,
   "metadata": {},
   "outputs": [
    {
     "data": {
      "text/plain": [
       "(435, 2)"
      ]
     },
     "execution_count": 41,
     "metadata": {},
     "output_type": "execute_result"
    }
   ],
   "source": [
    "#shape\n",
    "CBS_2016_df.shape"
   ]
  },
  {
   "cell_type": "code",
   "execution_count": 42,
   "metadata": {},
   "outputs": [
    {
     "data": {
      "text/html": [
       "<div>\n",
       "<style scoped>\n",
       "    .dataframe tbody tr th:only-of-type {\n",
       "        vertical-align: middle;\n",
       "    }\n",
       "\n",
       "    .dataframe tbody tr th {\n",
       "        vertical-align: top;\n",
       "    }\n",
       "\n",
       "    .dataframe thead th {\n",
       "        text-align: right;\n",
       "    }\n",
       "</style>\n",
       "<table border=\"1\" class=\"dataframe\">\n",
       "  <thead>\n",
       "    <tr style=\"text-align: right;\">\n",
       "      <th></th>\n",
       "      <th>station_id</th>\n",
       "      <th>trips_2016</th>\n",
       "      <th>lat</th>\n",
       "      <th>lng</th>\n",
       "      <th>address</th>\n",
       "    </tr>\n",
       "  </thead>\n",
       "  <tbody>\n",
       "    <tr>\n",
       "      <th>0</th>\n",
       "      <td>31000</td>\n",
       "      <td>1883</td>\n",
       "      <td>38.858971</td>\n",
       "      <td>-77.053230</td>\n",
       "      <td>Eads St &amp; 15th St S</td>\n",
       "    </tr>\n",
       "    <tr>\n",
       "      <th>1</th>\n",
       "      <td>31001</td>\n",
       "      <td>2233</td>\n",
       "      <td>38.857250</td>\n",
       "      <td>-77.053320</td>\n",
       "      <td>18th St &amp; S Eads St</td>\n",
       "    </tr>\n",
       "    <tr>\n",
       "      <th>2</th>\n",
       "      <td>31002</td>\n",
       "      <td>6208</td>\n",
       "      <td>38.856425</td>\n",
       "      <td>-77.049232</td>\n",
       "      <td>Crystal Dr &amp; 20th St S</td>\n",
       "    </tr>\n",
       "    <tr>\n",
       "      <th>3</th>\n",
       "      <td>31003</td>\n",
       "      <td>5304</td>\n",
       "      <td>38.860170</td>\n",
       "      <td>-77.049593</td>\n",
       "      <td>Crystal Dr &amp; 15th St S</td>\n",
       "    </tr>\n",
       "    <tr>\n",
       "      <th>4</th>\n",
       "      <td>31004</td>\n",
       "      <td>3222</td>\n",
       "      <td>38.857880</td>\n",
       "      <td>-77.059505</td>\n",
       "      <td>Aurora Hills Cmty Ctr / 18th St &amp; S Hayes St</td>\n",
       "    </tr>\n",
       "  </tbody>\n",
       "</table>\n",
       "</div>"
      ],
      "text/plain": [
       "   station_id  trips_2016        lat        lng  \\\n",
       "0       31000        1883  38.858971 -77.053230   \n",
       "1       31001        2233  38.857250 -77.053320   \n",
       "2       31002        6208  38.856425 -77.049232   \n",
       "3       31003        5304  38.860170 -77.049593   \n",
       "4       31004        3222  38.857880 -77.059505   \n",
       "\n",
       "                                        address  \n",
       "0                           Eads St & 15th St S  \n",
       "1                           18th St & S Eads St  \n",
       "2                        Crystal Dr & 20th St S  \n",
       "3                        Crystal Dr & 15th St S  \n",
       "4  Aurora Hills Cmty Ctr / 18th St & S Hayes St  "
      ]
     },
     "execution_count": 42,
     "metadata": {},
     "output_type": "execute_result"
    }
   ],
   "source": [
    "#merge with StaLoc to have lat, lng columns\n",
    "df_test = pd.merge(CBS_2016_df, StaLoc, on=['station_id','station_id'])\n",
    "df_test.head()"
   ]
  },
  {
   "cell_type": "code",
   "execution_count": 43,
   "metadata": {
    "scrolled": true
   },
   "outputs": [
    {
     "data": {
      "text/plain": [
       "(435, 2)"
      ]
     },
     "execution_count": 43,
     "metadata": {},
     "output_type": "execute_result"
    }
   ],
   "source": [
    "#shape\n",
    "CBS_2016_df.shape"
   ]
  },
  {
   "cell_type": "code",
   "execution_count": null,
   "metadata": {},
   "outputs": [],
   "source": []
  },
  {
   "cell_type": "markdown",
   "metadata": {},
   "source": [
    "# 2015 find total trips by station"
   ]
  },
  {
   "cell_type": "code",
   "execution_count": 44,
   "metadata": {},
   "outputs": [],
   "source": [
    "#Load all files for 2015\n",
    "df1=pd.read_csv(\"data/2015/2015Q1-capitalbikeshare-tripdata.csv\")\n",
    "df2=pd.read_csv(\"data/2015/2015Q2-capitalbikeshare-tripdata.csv\")\n",
    "df3=pd.read_csv(\"data/2015/2015Q3-capitalbikeshare-tripdata.csv\")\n",
    "df4=pd.read_csv(\"data/2015/2015Q4-capitalbikeshare-tripdata.csv\")"
   ]
  },
  {
   "cell_type": "code",
   "execution_count": 45,
   "metadata": {},
   "outputs": [
    {
     "data": {
      "text/plain": [
       "((423719, 9), (999818, 9), (1056366, 9), (706003, 9))"
      ]
     },
     "execution_count": 45,
     "metadata": {},
     "output_type": "execute_result"
    }
   ],
   "source": [
    "#Validate all files has the same columns\n",
    "df1.shape, df2.shape,df3.shape,df4.shape"
   ]
  },
  {
   "cell_type": "code",
   "execution_count": 46,
   "metadata": {},
   "outputs": [
    {
     "data": {
      "text/plain": [
       "(Index(['Duration', 'Start date', 'End date', 'Start station number',\n",
       "        'Start station', 'End station number', 'End station', 'Bike number',\n",
       "        'Member type'],\n",
       "       dtype='object'),\n",
       " (3185906, 9))"
      ]
     },
     "execution_count": 46,
     "metadata": {},
     "output_type": "execute_result"
    }
   ],
   "source": [
    "#Append all columns \n",
    "dfs=[df1,df2,df3,df4]\n",
    "df=pd.concat(dfs)\n",
    "df.columns, df.shape"
   ]
  },
  {
   "cell_type": "code",
   "execution_count": 47,
   "metadata": {
    "scrolled": false
   },
   "outputs": [
    {
     "data": {
      "text/html": [
       "<div>\n",
       "<style scoped>\n",
       "    .dataframe tbody tr th:only-of-type {\n",
       "        vertical-align: middle;\n",
       "    }\n",
       "\n",
       "    .dataframe tbody tr th {\n",
       "        vertical-align: top;\n",
       "    }\n",
       "\n",
       "    .dataframe thead th {\n",
       "        text-align: right;\n",
       "    }\n",
       "</style>\n",
       "<table border=\"1\" class=\"dataframe\">\n",
       "  <thead>\n",
       "    <tr style=\"text-align: right;\">\n",
       "      <th></th>\n",
       "      <th>Duration</th>\n",
       "      <th>start_date</th>\n",
       "      <th>end_date</th>\n",
       "      <th>station_id</th>\n",
       "      <th>start_station</th>\n",
       "      <th>end_station_number</th>\n",
       "      <th>end_station</th>\n",
       "      <th>bike_id</th>\n",
       "      <th>member_type</th>\n",
       "      <th>trips_2015</th>\n",
       "    </tr>\n",
       "  </thead>\n",
       "  <tbody>\n",
       "    <tr>\n",
       "      <th>0</th>\n",
       "      <td>2389</td>\n",
       "      <td>2015-01-01 00:02:44</td>\n",
       "      <td>2015-01-01 00:42:33</td>\n",
       "      <td>31271</td>\n",
       "      <td>Constitution Ave &amp; 2nd St NW/DOL</td>\n",
       "      <td>31254</td>\n",
       "      <td>15th &amp; K St NW</td>\n",
       "      <td>W01140</td>\n",
       "      <td>Casual</td>\n",
       "      <td>31271</td>\n",
       "    </tr>\n",
       "    <tr>\n",
       "      <th>1</th>\n",
       "      <td>2394</td>\n",
       "      <td>2015-01-01 00:02:46</td>\n",
       "      <td>2015-01-01 00:42:41</td>\n",
       "      <td>31271</td>\n",
       "      <td>Constitution Ave &amp; 2nd St NW/DOL</td>\n",
       "      <td>31254</td>\n",
       "      <td>15th &amp; K St NW</td>\n",
       "      <td>W00612</td>\n",
       "      <td>Casual</td>\n",
       "      <td>31271</td>\n",
       "    </tr>\n",
       "    <tr>\n",
       "      <th>2</th>\n",
       "      <td>468</td>\n",
       "      <td>2015-01-01 00:04:32</td>\n",
       "      <td>2015-01-01 00:12:20</td>\n",
       "      <td>31204</td>\n",
       "      <td>20th &amp; E St NW</td>\n",
       "      <td>31234</td>\n",
       "      <td>20th &amp; O St NW / Dupont South</td>\n",
       "      <td>W01226</td>\n",
       "      <td>Member</td>\n",
       "      <td>31204</td>\n",
       "    </tr>\n",
       "    <tr>\n",
       "      <th>3</th>\n",
       "      <td>348</td>\n",
       "      <td>2015-01-01 00:07:18</td>\n",
       "      <td>2015-01-01 00:13:06</td>\n",
       "      <td>31602</td>\n",
       "      <td>Park Rd &amp; Holmead Pl NW</td>\n",
       "      <td>31117</td>\n",
       "      <td>15th &amp; Euclid St  NW</td>\n",
       "      <td>W20216</td>\n",
       "      <td>Member</td>\n",
       "      <td>31602</td>\n",
       "    </tr>\n",
       "    <tr>\n",
       "      <th>4</th>\n",
       "      <td>980</td>\n",
       "      <td>2015-01-01 00:09:39</td>\n",
       "      <td>2015-01-01 00:26:00</td>\n",
       "      <td>31247</td>\n",
       "      <td>Jefferson Dr &amp; 14th St SW</td>\n",
       "      <td>31241</td>\n",
       "      <td>Thomas Circle</td>\n",
       "      <td>W21005</td>\n",
       "      <td>Casual</td>\n",
       "      <td>31247</td>\n",
       "    </tr>\n",
       "  </tbody>\n",
       "</table>\n",
       "</div>"
      ],
      "text/plain": [
       "   Duration           start_date             end_date  station_id  \\\n",
       "0      2389  2015-01-01 00:02:44  2015-01-01 00:42:33       31271   \n",
       "1      2394  2015-01-01 00:02:46  2015-01-01 00:42:41       31271   \n",
       "2       468  2015-01-01 00:04:32  2015-01-01 00:12:20       31204   \n",
       "3       348  2015-01-01 00:07:18  2015-01-01 00:13:06       31602   \n",
       "4       980  2015-01-01 00:09:39  2015-01-01 00:26:00       31247   \n",
       "\n",
       "                      start_station  end_station_number  \\\n",
       "0  Constitution Ave & 2nd St NW/DOL               31254   \n",
       "1  Constitution Ave & 2nd St NW/DOL               31254   \n",
       "2                    20th & E St NW               31234   \n",
       "3           Park Rd & Holmead Pl NW               31117   \n",
       "4         Jefferson Dr & 14th St SW               31241   \n",
       "\n",
       "                     end_station bike_id member_type  trips_2015  \n",
       "0                 15th & K St NW  W01140      Casual       31271  \n",
       "1                 15th & K St NW  W00612      Casual       31271  \n",
       "2  20th & O St NW / Dupont South  W01226      Member       31204  \n",
       "3           15th & Euclid St  NW  W20216      Member       31602  \n",
       "4                  Thomas Circle  W21005      Casual       31247  "
      ]
     },
     "execution_count": 47,
     "metadata": {},
     "output_type": "execute_result"
    }
   ],
   "source": [
    "#rename columns\n",
    "df = df.rename(columns={'Start date': 'start_date', \n",
    "                        'End date': 'end_date',\n",
    "                        'Start station number': 'station_id',\n",
    "                        'Start station':'start_station',\n",
    "                        'End station number':'end_station_number',\n",
    "                        'End station':'end_station',\n",
    "                        'Bike number':'bike_id',\n",
    "                        'Member type':'member_type'})\n",
    "df['trips_2015']=df['station_id']\n",
    "df.head()"
   ]
  },
  {
   "cell_type": "code",
   "execution_count": 48,
   "metadata": {},
   "outputs": [
    {
     "data": {
      "text/html": [
       "<div>\n",
       "<style scoped>\n",
       "    .dataframe tbody tr th:only-of-type {\n",
       "        vertical-align: middle;\n",
       "    }\n",
       "\n",
       "    .dataframe tbody tr th {\n",
       "        vertical-align: top;\n",
       "    }\n",
       "\n",
       "    .dataframe thead th {\n",
       "        text-align: right;\n",
       "    }\n",
       "</style>\n",
       "<table border=\"1\" class=\"dataframe\">\n",
       "  <thead>\n",
       "    <tr style=\"text-align: right;\">\n",
       "      <th></th>\n",
       "      <th>station_id</th>\n",
       "      <th>trips_2015</th>\n",
       "    </tr>\n",
       "  </thead>\n",
       "  <tbody>\n",
       "    <tr>\n",
       "      <th>0</th>\n",
       "      <td>31000</td>\n",
       "      <td>1891</td>\n",
       "    </tr>\n",
       "    <tr>\n",
       "      <th>1</th>\n",
       "      <td>31001</td>\n",
       "      <td>2768</td>\n",
       "    </tr>\n",
       "    <tr>\n",
       "      <th>2</th>\n",
       "      <td>31002</td>\n",
       "      <td>5127</td>\n",
       "    </tr>\n",
       "    <tr>\n",
       "      <th>3</th>\n",
       "      <td>31003</td>\n",
       "      <td>4937</td>\n",
       "    </tr>\n",
       "    <tr>\n",
       "      <th>4</th>\n",
       "      <td>31004</td>\n",
       "      <td>2837</td>\n",
       "    </tr>\n",
       "  </tbody>\n",
       "</table>\n",
       "</div>"
      ],
      "text/plain": [
       "   station_id  trips_2015\n",
       "0       31000        1891\n",
       "1       31001        2768\n",
       "2       31002        5127\n",
       "3       31003        4937\n",
       "4       31004        2837"
      ]
     },
     "execution_count": 48,
     "metadata": {},
     "output_type": "execute_result"
    }
   ],
   "source": [
    "#create df with station_id and trips for that specifif station\n",
    "CBS_2015_df=df.groupby(['station_id']).agg({'trips_2015':'count'}).reset_index()\n",
    "CBS_2015_df.head()"
   ]
  },
  {
   "cell_type": "code",
   "execution_count": 49,
   "metadata": {
    "scrolled": true
   },
   "outputs": [
    {
     "data": {
      "text/html": [
       "<div>\n",
       "<style scoped>\n",
       "    .dataframe tbody tr th:only-of-type {\n",
       "        vertical-align: middle;\n",
       "    }\n",
       "\n",
       "    .dataframe tbody tr th {\n",
       "        vertical-align: top;\n",
       "    }\n",
       "\n",
       "    .dataframe thead th {\n",
       "        text-align: right;\n",
       "    }\n",
       "</style>\n",
       "<table border=\"1\" class=\"dataframe\">\n",
       "  <thead>\n",
       "    <tr style=\"text-align: right;\">\n",
       "      <th></th>\n",
       "      <th>station_id</th>\n",
       "      <th>trips_2015</th>\n",
       "    </tr>\n",
       "  </thead>\n",
       "  <tbody>\n",
       "    <tr>\n",
       "      <th>0</th>\n",
       "      <td>31000</td>\n",
       "      <td>1891</td>\n",
       "    </tr>\n",
       "    <tr>\n",
       "      <th>1</th>\n",
       "      <td>31001</td>\n",
       "      <td>2768</td>\n",
       "    </tr>\n",
       "    <tr>\n",
       "      <th>2</th>\n",
       "      <td>31002</td>\n",
       "      <td>5127</td>\n",
       "    </tr>\n",
       "    <tr>\n",
       "      <th>3</th>\n",
       "      <td>31003</td>\n",
       "      <td>4937</td>\n",
       "    </tr>\n",
       "    <tr>\n",
       "      <th>4</th>\n",
       "      <td>31004</td>\n",
       "      <td>2837</td>\n",
       "    </tr>\n",
       "  </tbody>\n",
       "</table>\n",
       "</div>"
      ],
      "text/plain": [
       "   station_id  trips_2015\n",
       "0       31000        1891\n",
       "1       31001        2768\n",
       "2       31002        5127\n",
       "3       31003        4937\n",
       "4       31004        2837"
      ]
     },
     "execution_count": 49,
     "metadata": {},
     "output_type": "execute_result"
    }
   ],
   "source": [
    "CBS_2015_df=CBS_2015_df[CBS_2015_df.station_id!=0].dropna()\n",
    "CBS_2015_df.head()"
   ]
  },
  {
   "cell_type": "code",
   "execution_count": 50,
   "metadata": {},
   "outputs": [
    {
     "data": {
      "text/plain": [
       "(357, 2)"
      ]
     },
     "execution_count": 50,
     "metadata": {},
     "output_type": "execute_result"
    }
   ],
   "source": [
    "#shape\n",
    "CBS_2015_df.shape"
   ]
  },
  {
   "cell_type": "code",
   "execution_count": 51,
   "metadata": {},
   "outputs": [
    {
     "data": {
      "text/html": [
       "<div>\n",
       "<style scoped>\n",
       "    .dataframe tbody tr th:only-of-type {\n",
       "        vertical-align: middle;\n",
       "    }\n",
       "\n",
       "    .dataframe tbody tr th {\n",
       "        vertical-align: top;\n",
       "    }\n",
       "\n",
       "    .dataframe thead th {\n",
       "        text-align: right;\n",
       "    }\n",
       "</style>\n",
       "<table border=\"1\" class=\"dataframe\">\n",
       "  <thead>\n",
       "    <tr style=\"text-align: right;\">\n",
       "      <th></th>\n",
       "      <th>station_id</th>\n",
       "      <th>trips_2015</th>\n",
       "      <th>lat</th>\n",
       "      <th>lng</th>\n",
       "      <th>address</th>\n",
       "    </tr>\n",
       "  </thead>\n",
       "  <tbody>\n",
       "    <tr>\n",
       "      <th>0</th>\n",
       "      <td>31000</td>\n",
       "      <td>1891</td>\n",
       "      <td>38.858971</td>\n",
       "      <td>-77.053230</td>\n",
       "      <td>Eads St &amp; 15th St S</td>\n",
       "    </tr>\n",
       "    <tr>\n",
       "      <th>1</th>\n",
       "      <td>31001</td>\n",
       "      <td>2768</td>\n",
       "      <td>38.857250</td>\n",
       "      <td>-77.053320</td>\n",
       "      <td>18th St &amp; S Eads St</td>\n",
       "    </tr>\n",
       "    <tr>\n",
       "      <th>2</th>\n",
       "      <td>31002</td>\n",
       "      <td>5127</td>\n",
       "      <td>38.856425</td>\n",
       "      <td>-77.049232</td>\n",
       "      <td>Crystal Dr &amp; 20th St S</td>\n",
       "    </tr>\n",
       "    <tr>\n",
       "      <th>3</th>\n",
       "      <td>31003</td>\n",
       "      <td>4937</td>\n",
       "      <td>38.860170</td>\n",
       "      <td>-77.049593</td>\n",
       "      <td>Crystal Dr &amp; 15th St S</td>\n",
       "    </tr>\n",
       "    <tr>\n",
       "      <th>4</th>\n",
       "      <td>31004</td>\n",
       "      <td>2837</td>\n",
       "      <td>38.857880</td>\n",
       "      <td>-77.059505</td>\n",
       "      <td>Aurora Hills Cmty Ctr / 18th St &amp; S Hayes St</td>\n",
       "    </tr>\n",
       "  </tbody>\n",
       "</table>\n",
       "</div>"
      ],
      "text/plain": [
       "   station_id  trips_2015        lat        lng  \\\n",
       "0       31000        1891  38.858971 -77.053230   \n",
       "1       31001        2768  38.857250 -77.053320   \n",
       "2       31002        5127  38.856425 -77.049232   \n",
       "3       31003        4937  38.860170 -77.049593   \n",
       "4       31004        2837  38.857880 -77.059505   \n",
       "\n",
       "                                        address  \n",
       "0                           Eads St & 15th St S  \n",
       "1                           18th St & S Eads St  \n",
       "2                        Crystal Dr & 20th St S  \n",
       "3                        Crystal Dr & 15th St S  \n",
       "4  Aurora Hills Cmty Ctr / 18th St & S Hayes St  "
      ]
     },
     "execution_count": 51,
     "metadata": {},
     "output_type": "execute_result"
    }
   ],
   "source": [
    "#merge with StaLoc to have lat, lng columns\n",
    "df_test = pd.merge(CBS_2015_df, StaLoc, on=['station_id','station_id'])\n",
    "df_test.head()"
   ]
  },
  {
   "cell_type": "code",
   "execution_count": 52,
   "metadata": {
    "scrolled": true
   },
   "outputs": [
    {
     "data": {
      "text/plain": [
       "(357, 2)"
      ]
     },
     "execution_count": 52,
     "metadata": {},
     "output_type": "execute_result"
    }
   ],
   "source": [
    "#shape\n",
    "CBS_2015_df.shape"
   ]
  },
  {
   "cell_type": "code",
   "execution_count": null,
   "metadata": {},
   "outputs": [],
   "source": []
  },
  {
   "cell_type": "markdown",
   "metadata": {},
   "source": [
    "# 2014 find total trips by station"
   ]
  },
  {
   "cell_type": "code",
   "execution_count": 53,
   "metadata": {},
   "outputs": [],
   "source": [
    "#Load all files for 2014\n",
    "df1=pd.read_csv(\"data/2014/2014Q1-capitalbikeshare-tripdata.csv\")\n",
    "df2=pd.read_csv(\"data/2014/2014Q2-capitalbikeshare-tripdata.csv\")\n",
    "df3=pd.read_csv(\"data/2014/2014Q3-capitalbikeshare-tripdata.csv\")\n",
    "df4=pd.read_csv(\"data/2014/2014Q4-capitalbikeshare-tripdata.csv\")"
   ]
  },
  {
   "cell_type": "code",
   "execution_count": 54,
   "metadata": {},
   "outputs": [
    {
     "data": {
      "text/plain": [
       "((401122, 9), (892819, 9), (972639, 9), (646570, 9))"
      ]
     },
     "execution_count": 54,
     "metadata": {},
     "output_type": "execute_result"
    }
   ],
   "source": [
    "#Validate all files has the same columns\n",
    "df1.shape, df2.shape,df3.shape,df4.shape"
   ]
  },
  {
   "cell_type": "code",
   "execution_count": 55,
   "metadata": {},
   "outputs": [
    {
     "data": {
      "text/plain": [
       "(Index(['Duration', 'Start date', 'End date', 'Start station number',\n",
       "        'Start station', 'End station number', 'End station', 'Bike number',\n",
       "        'Member type'],\n",
       "       dtype='object'),\n",
       " (2913150, 9))"
      ]
     },
     "execution_count": 55,
     "metadata": {},
     "output_type": "execute_result"
    }
   ],
   "source": [
    "#Append all columns \n",
    "dfs=[df1,df2,df3,df4]\n",
    "df=pd.concat(dfs)\n",
    "df.columns, df.shape"
   ]
  },
  {
   "cell_type": "code",
   "execution_count": 56,
   "metadata": {
    "scrolled": false
   },
   "outputs": [
    {
     "data": {
      "text/html": [
       "<div>\n",
       "<style scoped>\n",
       "    .dataframe tbody tr th:only-of-type {\n",
       "        vertical-align: middle;\n",
       "    }\n",
       "\n",
       "    .dataframe tbody tr th {\n",
       "        vertical-align: top;\n",
       "    }\n",
       "\n",
       "    .dataframe thead th {\n",
       "        text-align: right;\n",
       "    }\n",
       "</style>\n",
       "<table border=\"1\" class=\"dataframe\">\n",
       "  <thead>\n",
       "    <tr style=\"text-align: right;\">\n",
       "      <th></th>\n",
       "      <th>Duration</th>\n",
       "      <th>start_date</th>\n",
       "      <th>end_date</th>\n",
       "      <th>station_id</th>\n",
       "      <th>start_station</th>\n",
       "      <th>end_station_number</th>\n",
       "      <th>end_station</th>\n",
       "      <th>bike_id</th>\n",
       "      <th>member_type</th>\n",
       "      <th>trips_2014</th>\n",
       "    </tr>\n",
       "  </thead>\n",
       "  <tbody>\n",
       "    <tr>\n",
       "      <th>0</th>\n",
       "      <td>1716</td>\n",
       "      <td>2014-01-01 00:06:03</td>\n",
       "      <td>2014-01-01 00:34:40</td>\n",
       "      <td>31102</td>\n",
       "      <td>11th &amp; Kenyon St NW</td>\n",
       "      <td>31632</td>\n",
       "      <td>15th &amp; F St NE</td>\n",
       "      <td>W01363</td>\n",
       "      <td>Member</td>\n",
       "      <td>31102</td>\n",
       "    </tr>\n",
       "    <tr>\n",
       "      <th>1</th>\n",
       "      <td>154</td>\n",
       "      <td>2014-01-01 00:11:09</td>\n",
       "      <td>2014-01-01 00:13:43</td>\n",
       "      <td>31602</td>\n",
       "      <td>Park Rd &amp; Holmead Pl NW</td>\n",
       "      <td>31107</td>\n",
       "      <td>Lamont &amp; Mt Pleasant NW</td>\n",
       "      <td>W01433</td>\n",
       "      <td>Member</td>\n",
       "      <td>31602</td>\n",
       "    </tr>\n",
       "    <tr>\n",
       "      <th>2</th>\n",
       "      <td>318</td>\n",
       "      <td>2014-01-01 00:12:19</td>\n",
       "      <td>2014-01-01 00:17:38</td>\n",
       "      <td>31223</td>\n",
       "      <td>Convention Center / 7th &amp; M St NW</td>\n",
       "      <td>31509</td>\n",
       "      <td>New Jersey Ave &amp; R St NW</td>\n",
       "      <td>W00065</td>\n",
       "      <td>Member</td>\n",
       "      <td>31223</td>\n",
       "    </tr>\n",
       "    <tr>\n",
       "      <th>3</th>\n",
       "      <td>480</td>\n",
       "      <td>2014-01-01 00:14:02</td>\n",
       "      <td>2014-01-01 00:22:02</td>\n",
       "      <td>31203</td>\n",
       "      <td>14th &amp; Rhode Island Ave NW</td>\n",
       "      <td>31109</td>\n",
       "      <td>7th &amp; T St NW</td>\n",
       "      <td>W20903</td>\n",
       "      <td>Member</td>\n",
       "      <td>31203</td>\n",
       "    </tr>\n",
       "    <tr>\n",
       "      <th>4</th>\n",
       "      <td>345</td>\n",
       "      <td>2014-01-01 00:15:33</td>\n",
       "      <td>2014-01-01 00:21:18</td>\n",
       "      <td>31241</td>\n",
       "      <td>Thomas Circle</td>\n",
       "      <td>31600</td>\n",
       "      <td>5th &amp; K St NW</td>\n",
       "      <td>W20888</td>\n",
       "      <td>Member</td>\n",
       "      <td>31241</td>\n",
       "    </tr>\n",
       "  </tbody>\n",
       "</table>\n",
       "</div>"
      ],
      "text/plain": [
       "   Duration           start_date             end_date  station_id  \\\n",
       "0      1716  2014-01-01 00:06:03  2014-01-01 00:34:40       31102   \n",
       "1       154  2014-01-01 00:11:09  2014-01-01 00:13:43       31602   \n",
       "2       318  2014-01-01 00:12:19  2014-01-01 00:17:38       31223   \n",
       "3       480  2014-01-01 00:14:02  2014-01-01 00:22:02       31203   \n",
       "4       345  2014-01-01 00:15:33  2014-01-01 00:21:18       31241   \n",
       "\n",
       "                       start_station  end_station_number  \\\n",
       "0                11th & Kenyon St NW               31632   \n",
       "1            Park Rd & Holmead Pl NW               31107   \n",
       "2  Convention Center / 7th & M St NW               31509   \n",
       "3         14th & Rhode Island Ave NW               31109   \n",
       "4                      Thomas Circle               31600   \n",
       "\n",
       "                end_station bike_id member_type  trips_2014  \n",
       "0            15th & F St NE  W01363      Member       31102  \n",
       "1   Lamont & Mt Pleasant NW  W01433      Member       31602  \n",
       "2  New Jersey Ave & R St NW  W00065      Member       31223  \n",
       "3             7th & T St NW  W20903      Member       31203  \n",
       "4             5th & K St NW  W20888      Member       31241  "
      ]
     },
     "execution_count": 56,
     "metadata": {},
     "output_type": "execute_result"
    }
   ],
   "source": [
    "#rename columns\n",
    "df = df.rename(columns={'Start date': 'start_date', \n",
    "                        'End date': 'end_date',\n",
    "                        'Start station number': 'station_id',\n",
    "                        'Start station':'start_station',\n",
    "                        'End station number':'end_station_number',\n",
    "                        'End station':'end_station',\n",
    "                        'Bike number':'bike_id',\n",
    "                        'Member type':'member_type'})\n",
    "df['trips_2014']=df['station_id']\n",
    "df.head()"
   ]
  },
  {
   "cell_type": "code",
   "execution_count": 57,
   "metadata": {},
   "outputs": [
    {
     "data": {
      "text/html": [
       "<div>\n",
       "<style scoped>\n",
       "    .dataframe tbody tr th:only-of-type {\n",
       "        vertical-align: middle;\n",
       "    }\n",
       "\n",
       "    .dataframe tbody tr th {\n",
       "        vertical-align: top;\n",
       "    }\n",
       "\n",
       "    .dataframe thead th {\n",
       "        text-align: right;\n",
       "    }\n",
       "</style>\n",
       "<table border=\"1\" class=\"dataframe\">\n",
       "  <thead>\n",
       "    <tr style=\"text-align: right;\">\n",
       "      <th></th>\n",
       "      <th>station_id</th>\n",
       "      <th>trips_2014</th>\n",
       "    </tr>\n",
       "  </thead>\n",
       "  <tbody>\n",
       "    <tr>\n",
       "      <th>0</th>\n",
       "      <td>31000</td>\n",
       "      <td>1247</td>\n",
       "    </tr>\n",
       "    <tr>\n",
       "      <th>1</th>\n",
       "      <td>31001</td>\n",
       "      <td>2180</td>\n",
       "    </tr>\n",
       "    <tr>\n",
       "      <th>2</th>\n",
       "      <td>31002</td>\n",
       "      <td>4672</td>\n",
       "    </tr>\n",
       "    <tr>\n",
       "      <th>3</th>\n",
       "      <td>31003</td>\n",
       "      <td>4218</td>\n",
       "    </tr>\n",
       "    <tr>\n",
       "      <th>4</th>\n",
       "      <td>31004</td>\n",
       "      <td>2536</td>\n",
       "    </tr>\n",
       "  </tbody>\n",
       "</table>\n",
       "</div>"
      ],
      "text/plain": [
       "   station_id  trips_2014\n",
       "0       31000        1247\n",
       "1       31001        2180\n",
       "2       31002        4672\n",
       "3       31003        4218\n",
       "4       31004        2536"
      ]
     },
     "execution_count": 57,
     "metadata": {},
     "output_type": "execute_result"
    }
   ],
   "source": [
    "#create df with station_id and trips for that specifif station\n",
    "CBS_2014_df=df.groupby(['station_id']).agg({'trips_2014':'count'}).reset_index()\n",
    "CBS_2014_df.head()"
   ]
  },
  {
   "cell_type": "code",
   "execution_count": 58,
   "metadata": {
    "scrolled": true
   },
   "outputs": [
    {
     "data": {
      "text/html": [
       "<div>\n",
       "<style scoped>\n",
       "    .dataframe tbody tr th:only-of-type {\n",
       "        vertical-align: middle;\n",
       "    }\n",
       "\n",
       "    .dataframe tbody tr th {\n",
       "        vertical-align: top;\n",
       "    }\n",
       "\n",
       "    .dataframe thead th {\n",
       "        text-align: right;\n",
       "    }\n",
       "</style>\n",
       "<table border=\"1\" class=\"dataframe\">\n",
       "  <thead>\n",
       "    <tr style=\"text-align: right;\">\n",
       "      <th></th>\n",
       "      <th>station_id</th>\n",
       "      <th>trips_2014</th>\n",
       "    </tr>\n",
       "  </thead>\n",
       "  <tbody>\n",
       "    <tr>\n",
       "      <th>0</th>\n",
       "      <td>31000</td>\n",
       "      <td>1247</td>\n",
       "    </tr>\n",
       "    <tr>\n",
       "      <th>1</th>\n",
       "      <td>31001</td>\n",
       "      <td>2180</td>\n",
       "    </tr>\n",
       "    <tr>\n",
       "      <th>2</th>\n",
       "      <td>31002</td>\n",
       "      <td>4672</td>\n",
       "    </tr>\n",
       "    <tr>\n",
       "      <th>3</th>\n",
       "      <td>31003</td>\n",
       "      <td>4218</td>\n",
       "    </tr>\n",
       "    <tr>\n",
       "      <th>4</th>\n",
       "      <td>31004</td>\n",
       "      <td>2536</td>\n",
       "    </tr>\n",
       "  </tbody>\n",
       "</table>\n",
       "</div>"
      ],
      "text/plain": [
       "   station_id  trips_2014\n",
       "0       31000        1247\n",
       "1       31001        2180\n",
       "2       31002        4672\n",
       "3       31003        4218\n",
       "4       31004        2536"
      ]
     },
     "execution_count": 58,
     "metadata": {},
     "output_type": "execute_result"
    }
   ],
   "source": [
    "CBS_2014_df=CBS_2014_df[CBS_2014_df.station_id!=0].dropna()\n",
    "CBS_2014_df.head()"
   ]
  },
  {
   "cell_type": "code",
   "execution_count": 59,
   "metadata": {},
   "outputs": [
    {
     "data": {
      "text/plain": [
       "(346, 2)"
      ]
     },
     "execution_count": 59,
     "metadata": {},
     "output_type": "execute_result"
    }
   ],
   "source": [
    "#shape\n",
    "CBS_2014_df.shape"
   ]
  },
  {
   "cell_type": "code",
   "execution_count": 60,
   "metadata": {},
   "outputs": [
    {
     "data": {
      "text/html": [
       "<div>\n",
       "<style scoped>\n",
       "    .dataframe tbody tr th:only-of-type {\n",
       "        vertical-align: middle;\n",
       "    }\n",
       "\n",
       "    .dataframe tbody tr th {\n",
       "        vertical-align: top;\n",
       "    }\n",
       "\n",
       "    .dataframe thead th {\n",
       "        text-align: right;\n",
       "    }\n",
       "</style>\n",
       "<table border=\"1\" class=\"dataframe\">\n",
       "  <thead>\n",
       "    <tr style=\"text-align: right;\">\n",
       "      <th></th>\n",
       "      <th>station_id</th>\n",
       "      <th>trips_2014</th>\n",
       "      <th>lat</th>\n",
       "      <th>lng</th>\n",
       "      <th>address</th>\n",
       "    </tr>\n",
       "  </thead>\n",
       "  <tbody>\n",
       "    <tr>\n",
       "      <th>0</th>\n",
       "      <td>31000</td>\n",
       "      <td>1247</td>\n",
       "      <td>38.858971</td>\n",
       "      <td>-77.053230</td>\n",
       "      <td>Eads St &amp; 15th St S</td>\n",
       "    </tr>\n",
       "    <tr>\n",
       "      <th>1</th>\n",
       "      <td>31001</td>\n",
       "      <td>2180</td>\n",
       "      <td>38.857250</td>\n",
       "      <td>-77.053320</td>\n",
       "      <td>18th St &amp; S Eads St</td>\n",
       "    </tr>\n",
       "    <tr>\n",
       "      <th>2</th>\n",
       "      <td>31002</td>\n",
       "      <td>4672</td>\n",
       "      <td>38.856425</td>\n",
       "      <td>-77.049232</td>\n",
       "      <td>Crystal Dr &amp; 20th St S</td>\n",
       "    </tr>\n",
       "    <tr>\n",
       "      <th>3</th>\n",
       "      <td>31003</td>\n",
       "      <td>4218</td>\n",
       "      <td>38.860170</td>\n",
       "      <td>-77.049593</td>\n",
       "      <td>Crystal Dr &amp; 15th St S</td>\n",
       "    </tr>\n",
       "    <tr>\n",
       "      <th>4</th>\n",
       "      <td>31004</td>\n",
       "      <td>2536</td>\n",
       "      <td>38.857880</td>\n",
       "      <td>-77.059505</td>\n",
       "      <td>Aurora Hills Cmty Ctr / 18th St &amp; S Hayes St</td>\n",
       "    </tr>\n",
       "  </tbody>\n",
       "</table>\n",
       "</div>"
      ],
      "text/plain": [
       "   station_id  trips_2014        lat        lng  \\\n",
       "0       31000        1247  38.858971 -77.053230   \n",
       "1       31001        2180  38.857250 -77.053320   \n",
       "2       31002        4672  38.856425 -77.049232   \n",
       "3       31003        4218  38.860170 -77.049593   \n",
       "4       31004        2536  38.857880 -77.059505   \n",
       "\n",
       "                                        address  \n",
       "0                           Eads St & 15th St S  \n",
       "1                           18th St & S Eads St  \n",
       "2                        Crystal Dr & 20th St S  \n",
       "3                        Crystal Dr & 15th St S  \n",
       "4  Aurora Hills Cmty Ctr / 18th St & S Hayes St  "
      ]
     },
     "execution_count": 60,
     "metadata": {},
     "output_type": "execute_result"
    }
   ],
   "source": [
    "#merge with StaLoc to have lat, lng columns\n",
    "df_test = pd.merge(CBS_2014_df, StaLoc, on=['station_id','station_id'])\n",
    "df_test.head()"
   ]
  },
  {
   "cell_type": "code",
   "execution_count": 61,
   "metadata": {
    "scrolled": false
   },
   "outputs": [
    {
     "data": {
      "text/plain": [
       "(346, 2)"
      ]
     },
     "execution_count": 61,
     "metadata": {},
     "output_type": "execute_result"
    }
   ],
   "source": [
    "#shape\n",
    "CBS_2014_df.shape"
   ]
  },
  {
   "cell_type": "code",
   "execution_count": null,
   "metadata": {},
   "outputs": [],
   "source": []
  },
  {
   "cell_type": "markdown",
   "metadata": {},
   "source": [
    "# 2013 find total trips by station"
   ]
  },
  {
   "cell_type": "code",
   "execution_count": 62,
   "metadata": {},
   "outputs": [],
   "source": [
    "#Load all files for 2013\n",
    "df1=pd.read_csv(\"data/2013/2013Q1-capitalbikeshare-tripdata.csv\")\n",
    "df2=pd.read_csv(\"data/2013/2013Q2-capitalbikeshare-tripdata.csv\")\n",
    "df3=pd.read_csv(\"data/2013/2013Q3-capitalbikeshare-tripdata.csv\")\n",
    "df4=pd.read_csv(\"data/2013/2013Q4-capitalbikeshare-tripdata.csv\")"
   ]
  },
  {
   "cell_type": "code",
   "execution_count": 63,
   "metadata": {},
   "outputs": [
    {
     "data": {
      "text/plain": [
       "((392457, 9), (740672, 9), (838746, 9), (583666, 9))"
      ]
     },
     "execution_count": 63,
     "metadata": {},
     "output_type": "execute_result"
    }
   ],
   "source": [
    "#Validate all files has the same columns\n",
    "df1.shape, df2.shape,df3.shape,df4.shape"
   ]
  },
  {
   "cell_type": "code",
   "execution_count": 64,
   "metadata": {},
   "outputs": [
    {
     "data": {
      "text/plain": [
       "(Index(['Duration', 'Start date', 'End date', 'Start station number',\n",
       "        'Start station', 'End station number', 'End station', 'Bike number',\n",
       "        'Member type'],\n",
       "       dtype='object'),\n",
       " (2555541, 9))"
      ]
     },
     "execution_count": 64,
     "metadata": {},
     "output_type": "execute_result"
    }
   ],
   "source": [
    "#Append all columns \n",
    "dfs=[df1,df2,df3,df4]\n",
    "df=pd.concat(dfs)\n",
    "df.columns, df.shape"
   ]
  },
  {
   "cell_type": "code",
   "execution_count": 65,
   "metadata": {
    "scrolled": false
   },
   "outputs": [
    {
     "data": {
      "text/html": [
       "<div>\n",
       "<style scoped>\n",
       "    .dataframe tbody tr th:only-of-type {\n",
       "        vertical-align: middle;\n",
       "    }\n",
       "\n",
       "    .dataframe tbody tr th {\n",
       "        vertical-align: top;\n",
       "    }\n",
       "\n",
       "    .dataframe thead th {\n",
       "        text-align: right;\n",
       "    }\n",
       "</style>\n",
       "<table border=\"1\" class=\"dataframe\">\n",
       "  <thead>\n",
       "    <tr style=\"text-align: right;\">\n",
       "      <th></th>\n",
       "      <th>Duration</th>\n",
       "      <th>start_date</th>\n",
       "      <th>end_date</th>\n",
       "      <th>station_id</th>\n",
       "      <th>start_station</th>\n",
       "      <th>end_station_number</th>\n",
       "      <th>end_station</th>\n",
       "      <th>bike_id</th>\n",
       "      <th>member_type</th>\n",
       "      <th>trips_2013</th>\n",
       "    </tr>\n",
       "  </thead>\n",
       "  <tbody>\n",
       "    <tr>\n",
       "      <th>0</th>\n",
       "      <td>688</td>\n",
       "      <td>2013-01-01 00:03:55</td>\n",
       "      <td>2013-01-01 00:15:24</td>\n",
       "      <td>31101</td>\n",
       "      <td>14th &amp; V St NW</td>\n",
       "      <td>31106</td>\n",
       "      <td>Calvert &amp; Biltmore St NW</td>\n",
       "      <td>W01210</td>\n",
       "      <td>Member</td>\n",
       "      <td>31101</td>\n",
       "    </tr>\n",
       "    <tr>\n",
       "      <th>1</th>\n",
       "      <td>699</td>\n",
       "      <td>2013-01-01 00:04:39</td>\n",
       "      <td>2013-01-01 00:16:19</td>\n",
       "      <td>31236</td>\n",
       "      <td>37th &amp; O St NW / Georgetown University</td>\n",
       "      <td>31304</td>\n",
       "      <td>36th &amp; Calvert St NW / Glover Park</td>\n",
       "      <td>W01075</td>\n",
       "      <td>Member</td>\n",
       "      <td>31236</td>\n",
       "    </tr>\n",
       "    <tr>\n",
       "      <th>2</th>\n",
       "      <td>365</td>\n",
       "      <td>2013-01-01 00:10:01</td>\n",
       "      <td>2013-01-01 00:16:06</td>\n",
       "      <td>31257</td>\n",
       "      <td>22nd &amp; I St NW / Foggy Bottom</td>\n",
       "      <td>31239</td>\n",
       "      <td>Rhode Island &amp; Connecticut Ave NW</td>\n",
       "      <td>w00527</td>\n",
       "      <td>Member</td>\n",
       "      <td>31257</td>\n",
       "    </tr>\n",
       "    <tr>\n",
       "      <th>3</th>\n",
       "      <td>292</td>\n",
       "      <td>2013-01-01 00:12:55</td>\n",
       "      <td>2013-01-01 00:17:47</td>\n",
       "      <td>31614</td>\n",
       "      <td>11th &amp; H St NE</td>\n",
       "      <td>31612</td>\n",
       "      <td>D St &amp; Maryland Ave NE</td>\n",
       "      <td>W00040</td>\n",
       "      <td>Member</td>\n",
       "      <td>31614</td>\n",
       "    </tr>\n",
       "    <tr>\n",
       "      <th>4</th>\n",
       "      <td>222</td>\n",
       "      <td>2013-01-01 00:13:24</td>\n",
       "      <td>2013-01-01 00:17:07</td>\n",
       "      <td>31239</td>\n",
       "      <td>Rhode Island &amp; Connecticut Ave NW</td>\n",
       "      <td>31214</td>\n",
       "      <td>17th &amp; Corcoran St NW</td>\n",
       "      <td>W20891</td>\n",
       "      <td>Member</td>\n",
       "      <td>31239</td>\n",
       "    </tr>\n",
       "  </tbody>\n",
       "</table>\n",
       "</div>"
      ],
      "text/plain": [
       "   Duration           start_date             end_date  station_id  \\\n",
       "0       688  2013-01-01 00:03:55  2013-01-01 00:15:24       31101   \n",
       "1       699  2013-01-01 00:04:39  2013-01-01 00:16:19       31236   \n",
       "2       365  2013-01-01 00:10:01  2013-01-01 00:16:06       31257   \n",
       "3       292  2013-01-01 00:12:55  2013-01-01 00:17:47       31614   \n",
       "4       222  2013-01-01 00:13:24  2013-01-01 00:17:07       31239   \n",
       "\n",
       "                            start_station  end_station_number  \\\n",
       "0                          14th & V St NW               31106   \n",
       "1  37th & O St NW / Georgetown University               31304   \n",
       "2           22nd & I St NW / Foggy Bottom               31239   \n",
       "3                          11th & H St NE               31612   \n",
       "4       Rhode Island & Connecticut Ave NW               31214   \n",
       "\n",
       "                          end_station bike_id member_type  trips_2013  \n",
       "0            Calvert & Biltmore St NW  W01210      Member       31101  \n",
       "1  36th & Calvert St NW / Glover Park  W01075      Member       31236  \n",
       "2   Rhode Island & Connecticut Ave NW  w00527      Member       31257  \n",
       "3              D St & Maryland Ave NE  W00040      Member       31614  \n",
       "4               17th & Corcoran St NW  W20891      Member       31239  "
      ]
     },
     "execution_count": 65,
     "metadata": {},
     "output_type": "execute_result"
    }
   ],
   "source": [
    "#rename columns\n",
    "df = df.rename(columns={'Start date': 'start_date', \n",
    "                        'End date': 'end_date',\n",
    "                        'Start station number': 'station_id',\n",
    "                        'Start station':'start_station',\n",
    "                        'End station number':'end_station_number',\n",
    "                        'End station':'end_station',\n",
    "                        'Bike number':'bike_id',\n",
    "                        'Member type':'member_type'})\n",
    "df['trips_2013']=df['station_id']\n",
    "df.head()"
   ]
  },
  {
   "cell_type": "code",
   "execution_count": 66,
   "metadata": {},
   "outputs": [
    {
     "data": {
      "text/html": [
       "<div>\n",
       "<style scoped>\n",
       "    .dataframe tbody tr th:only-of-type {\n",
       "        vertical-align: middle;\n",
       "    }\n",
       "\n",
       "    .dataframe tbody tr th {\n",
       "        vertical-align: top;\n",
       "    }\n",
       "\n",
       "    .dataframe thead th {\n",
       "        text-align: right;\n",
       "    }\n",
       "</style>\n",
       "<table border=\"1\" class=\"dataframe\">\n",
       "  <thead>\n",
       "    <tr style=\"text-align: right;\">\n",
       "      <th></th>\n",
       "      <th>station_id</th>\n",
       "      <th>trips_2013</th>\n",
       "    </tr>\n",
       "  </thead>\n",
       "  <tbody>\n",
       "    <tr>\n",
       "      <th>0</th>\n",
       "      <td>31000</td>\n",
       "      <td>1128</td>\n",
       "    </tr>\n",
       "    <tr>\n",
       "      <th>1</th>\n",
       "      <td>31001</td>\n",
       "      <td>2345</td>\n",
       "    </tr>\n",
       "    <tr>\n",
       "      <th>2</th>\n",
       "      <td>31002</td>\n",
       "      <td>4625</td>\n",
       "    </tr>\n",
       "    <tr>\n",
       "      <th>3</th>\n",
       "      <td>31003</td>\n",
       "      <td>2892</td>\n",
       "    </tr>\n",
       "    <tr>\n",
       "      <th>4</th>\n",
       "      <td>31004</td>\n",
       "      <td>1626</td>\n",
       "    </tr>\n",
       "  </tbody>\n",
       "</table>\n",
       "</div>"
      ],
      "text/plain": [
       "   station_id  trips_2013\n",
       "0       31000        1128\n",
       "1       31001        2345\n",
       "2       31002        4625\n",
       "3       31003        2892\n",
       "4       31004        1626"
      ]
     },
     "execution_count": 66,
     "metadata": {},
     "output_type": "execute_result"
    }
   ],
   "source": [
    "#create df with station_id and trips for that specifif station\n",
    "CBS_2013_df=df.groupby(['station_id']).agg({'trips_2013':'count'}).reset_index()\n",
    "CBS_2013_df.head()"
   ]
  },
  {
   "cell_type": "code",
   "execution_count": 67,
   "metadata": {
    "scrolled": true
   },
   "outputs": [
    {
     "data": {
      "text/html": [
       "<div>\n",
       "<style scoped>\n",
       "    .dataframe tbody tr th:only-of-type {\n",
       "        vertical-align: middle;\n",
       "    }\n",
       "\n",
       "    .dataframe tbody tr th {\n",
       "        vertical-align: top;\n",
       "    }\n",
       "\n",
       "    .dataframe thead th {\n",
       "        text-align: right;\n",
       "    }\n",
       "</style>\n",
       "<table border=\"1\" class=\"dataframe\">\n",
       "  <thead>\n",
       "    <tr style=\"text-align: right;\">\n",
       "      <th></th>\n",
       "      <th>station_id</th>\n",
       "      <th>trips_2013</th>\n",
       "    </tr>\n",
       "  </thead>\n",
       "  <tbody>\n",
       "    <tr>\n",
       "      <th>0</th>\n",
       "      <td>31000</td>\n",
       "      <td>1128</td>\n",
       "    </tr>\n",
       "    <tr>\n",
       "      <th>1</th>\n",
       "      <td>31001</td>\n",
       "      <td>2345</td>\n",
       "    </tr>\n",
       "    <tr>\n",
       "      <th>2</th>\n",
       "      <td>31002</td>\n",
       "      <td>4625</td>\n",
       "    </tr>\n",
       "    <tr>\n",
       "      <th>3</th>\n",
       "      <td>31003</td>\n",
       "      <td>2892</td>\n",
       "    </tr>\n",
       "    <tr>\n",
       "      <th>4</th>\n",
       "      <td>31004</td>\n",
       "      <td>1626</td>\n",
       "    </tr>\n",
       "  </tbody>\n",
       "</table>\n",
       "</div>"
      ],
      "text/plain": [
       "   station_id  trips_2013\n",
       "0       31000        1128\n",
       "1       31001        2345\n",
       "2       31002        4625\n",
       "3       31003        2892\n",
       "4       31004        1626"
      ]
     },
     "execution_count": 67,
     "metadata": {},
     "output_type": "execute_result"
    }
   ],
   "source": [
    "CBS_2013_df=CBS_2013_df[CBS_2013_df.station_id!=0].dropna()\n",
    "CBS_2013_df.head()"
   ]
  },
  {
   "cell_type": "code",
   "execution_count": 68,
   "metadata": {},
   "outputs": [
    {
     "data": {
      "text/plain": [
       "(305, 2)"
      ]
     },
     "execution_count": 68,
     "metadata": {},
     "output_type": "execute_result"
    }
   ],
   "source": [
    "#shape\n",
    "CBS_2013_df.shape"
   ]
  },
  {
   "cell_type": "code",
   "execution_count": 69,
   "metadata": {},
   "outputs": [
    {
     "data": {
      "text/html": [
       "<div>\n",
       "<style scoped>\n",
       "    .dataframe tbody tr th:only-of-type {\n",
       "        vertical-align: middle;\n",
       "    }\n",
       "\n",
       "    .dataframe tbody tr th {\n",
       "        vertical-align: top;\n",
       "    }\n",
       "\n",
       "    .dataframe thead th {\n",
       "        text-align: right;\n",
       "    }\n",
       "</style>\n",
       "<table border=\"1\" class=\"dataframe\">\n",
       "  <thead>\n",
       "    <tr style=\"text-align: right;\">\n",
       "      <th></th>\n",
       "      <th>station_id</th>\n",
       "      <th>trips_2013</th>\n",
       "      <th>lat</th>\n",
       "      <th>lng</th>\n",
       "      <th>address</th>\n",
       "    </tr>\n",
       "  </thead>\n",
       "  <tbody>\n",
       "    <tr>\n",
       "      <th>0</th>\n",
       "      <td>31000</td>\n",
       "      <td>1128</td>\n",
       "      <td>38.858971</td>\n",
       "      <td>-77.053230</td>\n",
       "      <td>Eads St &amp; 15th St S</td>\n",
       "    </tr>\n",
       "    <tr>\n",
       "      <th>1</th>\n",
       "      <td>31001</td>\n",
       "      <td>2345</td>\n",
       "      <td>38.857250</td>\n",
       "      <td>-77.053320</td>\n",
       "      <td>18th St &amp; S Eads St</td>\n",
       "    </tr>\n",
       "    <tr>\n",
       "      <th>2</th>\n",
       "      <td>31002</td>\n",
       "      <td>4625</td>\n",
       "      <td>38.856425</td>\n",
       "      <td>-77.049232</td>\n",
       "      <td>Crystal Dr &amp; 20th St S</td>\n",
       "    </tr>\n",
       "    <tr>\n",
       "      <th>3</th>\n",
       "      <td>31003</td>\n",
       "      <td>2892</td>\n",
       "      <td>38.860170</td>\n",
       "      <td>-77.049593</td>\n",
       "      <td>Crystal Dr &amp; 15th St S</td>\n",
       "    </tr>\n",
       "    <tr>\n",
       "      <th>4</th>\n",
       "      <td>31004</td>\n",
       "      <td>1626</td>\n",
       "      <td>38.857880</td>\n",
       "      <td>-77.059505</td>\n",
       "      <td>Aurora Hills Cmty Ctr / 18th St &amp; S Hayes St</td>\n",
       "    </tr>\n",
       "  </tbody>\n",
       "</table>\n",
       "</div>"
      ],
      "text/plain": [
       "   station_id  trips_2013        lat        lng  \\\n",
       "0       31000        1128  38.858971 -77.053230   \n",
       "1       31001        2345  38.857250 -77.053320   \n",
       "2       31002        4625  38.856425 -77.049232   \n",
       "3       31003        2892  38.860170 -77.049593   \n",
       "4       31004        1626  38.857880 -77.059505   \n",
       "\n",
       "                                        address  \n",
       "0                           Eads St & 15th St S  \n",
       "1                           18th St & S Eads St  \n",
       "2                        Crystal Dr & 20th St S  \n",
       "3                        Crystal Dr & 15th St S  \n",
       "4  Aurora Hills Cmty Ctr / 18th St & S Hayes St  "
      ]
     },
     "execution_count": 69,
     "metadata": {},
     "output_type": "execute_result"
    }
   ],
   "source": [
    "#merge with StaLoc to have lat, lng columns\n",
    "df_test = pd.merge(CBS_2013_df, StaLoc, on=['station_id','station_id'])\n",
    "df_test.head()"
   ]
  },
  {
   "cell_type": "code",
   "execution_count": 70,
   "metadata": {
    "scrolled": false
   },
   "outputs": [
    {
     "data": {
      "text/plain": [
       "(305, 2)"
      ]
     },
     "execution_count": 70,
     "metadata": {},
     "output_type": "execute_result"
    }
   ],
   "source": [
    "#shape\n",
    "CBS_2013_df.shape"
   ]
  },
  {
   "cell_type": "code",
   "execution_count": null,
   "metadata": {},
   "outputs": [],
   "source": []
  },
  {
   "cell_type": "markdown",
   "metadata": {},
   "source": [
    "# 2012 find total trips by station"
   ]
  },
  {
   "cell_type": "code",
   "execution_count": 71,
   "metadata": {},
   "outputs": [],
   "source": [
    "#Load all files for 2012\n",
    "df1=pd.read_csv(\"data/2012/2012Q1-capitalbikeshare-tripdata.csv\")\n",
    "df2=pd.read_csv(\"data/2012/2012Q2-capitalbikeshare-tripdata.csv\")\n",
    "df3=pd.read_csv(\"data/2012/2012Q3-capitalbikeshare-tripdata.csv\")\n",
    "df4=pd.read_csv(\"data/2012/2012Q4-capitalbikeshare-tripdata.csv\")"
   ]
  },
  {
   "cell_type": "code",
   "execution_count": 72,
   "metadata": {},
   "outputs": [
    {
     "data": {
      "text/plain": [
       "((361317, 9), (566832, 9), (629917, 9), (470845, 9))"
      ]
     },
     "execution_count": 72,
     "metadata": {},
     "output_type": "execute_result"
    }
   ],
   "source": [
    "#Validate all files has the same columns\n",
    "df1.shape, df2.shape,df3.shape,df4.shape"
   ]
  },
  {
   "cell_type": "code",
   "execution_count": 73,
   "metadata": {},
   "outputs": [
    {
     "data": {
      "text/plain": [
       "(Index(['Duration', 'Start date', 'End date', 'Start station number',\n",
       "        'Start station', 'End station number', 'End station', 'Bike number',\n",
       "        'Member type'],\n",
       "       dtype='object'),\n",
       " (2028911, 9))"
      ]
     },
     "execution_count": 73,
     "metadata": {},
     "output_type": "execute_result"
    }
   ],
   "source": [
    "#Append all columns \n",
    "dfs=[df1,df2,df3,df4]\n",
    "df=pd.concat(dfs)\n",
    "df.columns, df.shape"
   ]
  },
  {
   "cell_type": "code",
   "execution_count": 74,
   "metadata": {
    "scrolled": false
   },
   "outputs": [
    {
     "data": {
      "text/html": [
       "<div>\n",
       "<style scoped>\n",
       "    .dataframe tbody tr th:only-of-type {\n",
       "        vertical-align: middle;\n",
       "    }\n",
       "\n",
       "    .dataframe tbody tr th {\n",
       "        vertical-align: top;\n",
       "    }\n",
       "\n",
       "    .dataframe thead th {\n",
       "        text-align: right;\n",
       "    }\n",
       "</style>\n",
       "<table border=\"1\" class=\"dataframe\">\n",
       "  <thead>\n",
       "    <tr style=\"text-align: right;\">\n",
       "      <th></th>\n",
       "      <th>Duration</th>\n",
       "      <th>start_date</th>\n",
       "      <th>end_date</th>\n",
       "      <th>station_id</th>\n",
       "      <th>start_station</th>\n",
       "      <th>end_station_number</th>\n",
       "      <th>end_station</th>\n",
       "      <th>bike_id</th>\n",
       "      <th>member_type</th>\n",
       "      <th>trips_2012</th>\n",
       "    </tr>\n",
       "  </thead>\n",
       "  <tbody>\n",
       "    <tr>\n",
       "      <th>0</th>\n",
       "      <td>475</td>\n",
       "      <td>2012-01-01 00:04:00</td>\n",
       "      <td>2012-01-01 00:11:56</td>\n",
       "      <td>31245</td>\n",
       "      <td>7th &amp; R St NW / Shaw Library</td>\n",
       "      <td>31109</td>\n",
       "      <td>7th &amp; T St NW</td>\n",
       "      <td>W01412</td>\n",
       "      <td>Member</td>\n",
       "      <td>31245</td>\n",
       "    </tr>\n",
       "    <tr>\n",
       "      <th>1</th>\n",
       "      <td>1162</td>\n",
       "      <td>2012-01-01 00:10:05</td>\n",
       "      <td>2012-01-01 00:29:28</td>\n",
       "      <td>31400</td>\n",
       "      <td>Georgia &amp; New Hampshire Ave NW</td>\n",
       "      <td>31103</td>\n",
       "      <td>16th &amp; Harvard St NW</td>\n",
       "      <td>W00524</td>\n",
       "      <td>Casual</td>\n",
       "      <td>31400</td>\n",
       "    </tr>\n",
       "    <tr>\n",
       "      <th>2</th>\n",
       "      <td>1145</td>\n",
       "      <td>2012-01-01 00:10:23</td>\n",
       "      <td>2012-01-01 00:29:28</td>\n",
       "      <td>31400</td>\n",
       "      <td>Georgia &amp; New Hampshire Ave NW</td>\n",
       "      <td>31103</td>\n",
       "      <td>16th &amp; Harvard St NW</td>\n",
       "      <td>W00235</td>\n",
       "      <td>Member</td>\n",
       "      <td>31400</td>\n",
       "    </tr>\n",
       "    <tr>\n",
       "      <th>3</th>\n",
       "      <td>485</td>\n",
       "      <td>2012-01-01 00:15:41</td>\n",
       "      <td>2012-01-01 00:23:46</td>\n",
       "      <td>31101</td>\n",
       "      <td>14th &amp; V St NW</td>\n",
       "      <td>31602</td>\n",
       "      <td>Park Rd &amp; Holmead Pl NW</td>\n",
       "      <td>W00864</td>\n",
       "      <td>Member</td>\n",
       "      <td>31101</td>\n",
       "    </tr>\n",
       "    <tr>\n",
       "      <th>4</th>\n",
       "      <td>471</td>\n",
       "      <td>2012-01-01 00:15:42</td>\n",
       "      <td>2012-01-01 00:23:34</td>\n",
       "      <td>31102</td>\n",
       "      <td>11th &amp; Kenyon St NW</td>\n",
       "      <td>31109</td>\n",
       "      <td>7th &amp; T St NW</td>\n",
       "      <td>W00995</td>\n",
       "      <td>Member</td>\n",
       "      <td>31102</td>\n",
       "    </tr>\n",
       "  </tbody>\n",
       "</table>\n",
       "</div>"
      ],
      "text/plain": [
       "   Duration           start_date             end_date  station_id  \\\n",
       "0       475  2012-01-01 00:04:00  2012-01-01 00:11:56       31245   \n",
       "1      1162  2012-01-01 00:10:05  2012-01-01 00:29:28       31400   \n",
       "2      1145  2012-01-01 00:10:23  2012-01-01 00:29:28       31400   \n",
       "3       485  2012-01-01 00:15:41  2012-01-01 00:23:46       31101   \n",
       "4       471  2012-01-01 00:15:42  2012-01-01 00:23:34       31102   \n",
       "\n",
       "                    start_station  end_station_number  \\\n",
       "0    7th & R St NW / Shaw Library               31109   \n",
       "1  Georgia & New Hampshire Ave NW               31103   \n",
       "2  Georgia & New Hampshire Ave NW               31103   \n",
       "3                  14th & V St NW               31602   \n",
       "4             11th & Kenyon St NW               31109   \n",
       "\n",
       "               end_station bike_id member_type  trips_2012  \n",
       "0            7th & T St NW  W01412      Member       31245  \n",
       "1     16th & Harvard St NW  W00524      Casual       31400  \n",
       "2     16th & Harvard St NW  W00235      Member       31400  \n",
       "3  Park Rd & Holmead Pl NW  W00864      Member       31101  \n",
       "4            7th & T St NW  W00995      Member       31102  "
      ]
     },
     "execution_count": 74,
     "metadata": {},
     "output_type": "execute_result"
    }
   ],
   "source": [
    "#rename columns\n",
    "df = df.rename(columns={'Start date': 'start_date', \n",
    "                        'End date': 'end_date',\n",
    "                        'Start station number': 'station_id',\n",
    "                        'Start station':'start_station',\n",
    "                        'End station number':'end_station_number',\n",
    "                        'End station':'end_station',\n",
    "                        'Bike number':'bike_id',\n",
    "                        'Member type':'member_type'})\n",
    "df['trips_2012']=df['station_id']\n",
    "df.head()"
   ]
  },
  {
   "cell_type": "code",
   "execution_count": 75,
   "metadata": {},
   "outputs": [
    {
     "data": {
      "text/html": [
       "<div>\n",
       "<style scoped>\n",
       "    .dataframe tbody tr th:only-of-type {\n",
       "        vertical-align: middle;\n",
       "    }\n",
       "\n",
       "    .dataframe tbody tr th {\n",
       "        vertical-align: top;\n",
       "    }\n",
       "\n",
       "    .dataframe thead th {\n",
       "        text-align: right;\n",
       "    }\n",
       "</style>\n",
       "<table border=\"1\" class=\"dataframe\">\n",
       "  <thead>\n",
       "    <tr style=\"text-align: right;\">\n",
       "      <th></th>\n",
       "      <th>station_id</th>\n",
       "      <th>trips_2012</th>\n",
       "    </tr>\n",
       "  </thead>\n",
       "  <tbody>\n",
       "    <tr>\n",
       "      <th>0</th>\n",
       "      <td>31000</td>\n",
       "      <td>1353</td>\n",
       "    </tr>\n",
       "    <tr>\n",
       "      <th>1</th>\n",
       "      <td>31001</td>\n",
       "      <td>3393</td>\n",
       "    </tr>\n",
       "    <tr>\n",
       "      <th>2</th>\n",
       "      <td>31002</td>\n",
       "      <td>4210</td>\n",
       "    </tr>\n",
       "    <tr>\n",
       "      <th>3</th>\n",
       "      <td>31003</td>\n",
       "      <td>2443</td>\n",
       "    </tr>\n",
       "    <tr>\n",
       "      <th>4</th>\n",
       "      <td>31004</td>\n",
       "      <td>1623</td>\n",
       "    </tr>\n",
       "  </tbody>\n",
       "</table>\n",
       "</div>"
      ],
      "text/plain": [
       "   station_id  trips_2012\n",
       "0       31000        1353\n",
       "1       31001        3393\n",
       "2       31002        4210\n",
       "3       31003        2443\n",
       "4       31004        1623"
      ]
     },
     "execution_count": 75,
     "metadata": {},
     "output_type": "execute_result"
    }
   ],
   "source": [
    "#create df with station_id and trips for that specifif station\n",
    "CBS_2012_df=df.groupby(['station_id']).agg({'trips_2012':'count'}).reset_index()\n",
    "CBS_2012_df.head()"
   ]
  },
  {
   "cell_type": "code",
   "execution_count": 76,
   "metadata": {
    "scrolled": true
   },
   "outputs": [
    {
     "data": {
      "text/html": [
       "<div>\n",
       "<style scoped>\n",
       "    .dataframe tbody tr th:only-of-type {\n",
       "        vertical-align: middle;\n",
       "    }\n",
       "\n",
       "    .dataframe tbody tr th {\n",
       "        vertical-align: top;\n",
       "    }\n",
       "\n",
       "    .dataframe thead th {\n",
       "        text-align: right;\n",
       "    }\n",
       "</style>\n",
       "<table border=\"1\" class=\"dataframe\">\n",
       "  <thead>\n",
       "    <tr style=\"text-align: right;\">\n",
       "      <th></th>\n",
       "      <th>station_id</th>\n",
       "      <th>trips_2012</th>\n",
       "    </tr>\n",
       "  </thead>\n",
       "  <tbody>\n",
       "    <tr>\n",
       "      <th>0</th>\n",
       "      <td>31000</td>\n",
       "      <td>1353</td>\n",
       "    </tr>\n",
       "    <tr>\n",
       "      <th>1</th>\n",
       "      <td>31001</td>\n",
       "      <td>3393</td>\n",
       "    </tr>\n",
       "    <tr>\n",
       "      <th>2</th>\n",
       "      <td>31002</td>\n",
       "      <td>4210</td>\n",
       "    </tr>\n",
       "    <tr>\n",
       "      <th>3</th>\n",
       "      <td>31003</td>\n",
       "      <td>2443</td>\n",
       "    </tr>\n",
       "    <tr>\n",
       "      <th>4</th>\n",
       "      <td>31004</td>\n",
       "      <td>1623</td>\n",
       "    </tr>\n",
       "  </tbody>\n",
       "</table>\n",
       "</div>"
      ],
      "text/plain": [
       "   station_id  trips_2012\n",
       "0       31000        1353\n",
       "1       31001        3393\n",
       "2       31002        4210\n",
       "3       31003        2443\n",
       "4       31004        1623"
      ]
     },
     "execution_count": 76,
     "metadata": {},
     "output_type": "execute_result"
    }
   ],
   "source": [
    "CBS_2012_df=CBS_2012_df[CBS_2012_df.station_id!=0].dropna()\n",
    "CBS_2012_df.head()"
   ]
  },
  {
   "cell_type": "code",
   "execution_count": 77,
   "metadata": {},
   "outputs": [
    {
     "data": {
      "text/plain": [
       "(191, 2)"
      ]
     },
     "execution_count": 77,
     "metadata": {},
     "output_type": "execute_result"
    }
   ],
   "source": [
    "#shape\n",
    "CBS_2012_df.shape"
   ]
  },
  {
   "cell_type": "code",
   "execution_count": 78,
   "metadata": {},
   "outputs": [
    {
     "data": {
      "text/html": [
       "<div>\n",
       "<style scoped>\n",
       "    .dataframe tbody tr th:only-of-type {\n",
       "        vertical-align: middle;\n",
       "    }\n",
       "\n",
       "    .dataframe tbody tr th {\n",
       "        vertical-align: top;\n",
       "    }\n",
       "\n",
       "    .dataframe thead th {\n",
       "        text-align: right;\n",
       "    }\n",
       "</style>\n",
       "<table border=\"1\" class=\"dataframe\">\n",
       "  <thead>\n",
       "    <tr style=\"text-align: right;\">\n",
       "      <th></th>\n",
       "      <th>station_id</th>\n",
       "      <th>trips_2012</th>\n",
       "      <th>lat</th>\n",
       "      <th>lng</th>\n",
       "      <th>address</th>\n",
       "    </tr>\n",
       "  </thead>\n",
       "  <tbody>\n",
       "    <tr>\n",
       "      <th>0</th>\n",
       "      <td>31000</td>\n",
       "      <td>1353</td>\n",
       "      <td>38.858971</td>\n",
       "      <td>-77.053230</td>\n",
       "      <td>Eads St &amp; 15th St S</td>\n",
       "    </tr>\n",
       "    <tr>\n",
       "      <th>1</th>\n",
       "      <td>31001</td>\n",
       "      <td>3393</td>\n",
       "      <td>38.857250</td>\n",
       "      <td>-77.053320</td>\n",
       "      <td>18th St &amp; S Eads St</td>\n",
       "    </tr>\n",
       "    <tr>\n",
       "      <th>2</th>\n",
       "      <td>31002</td>\n",
       "      <td>4210</td>\n",
       "      <td>38.856425</td>\n",
       "      <td>-77.049232</td>\n",
       "      <td>Crystal Dr &amp; 20th St S</td>\n",
       "    </tr>\n",
       "    <tr>\n",
       "      <th>3</th>\n",
       "      <td>31003</td>\n",
       "      <td>2443</td>\n",
       "      <td>38.860170</td>\n",
       "      <td>-77.049593</td>\n",
       "      <td>Crystal Dr &amp; 15th St S</td>\n",
       "    </tr>\n",
       "    <tr>\n",
       "      <th>4</th>\n",
       "      <td>31004</td>\n",
       "      <td>1623</td>\n",
       "      <td>38.857880</td>\n",
       "      <td>-77.059505</td>\n",
       "      <td>Aurora Hills Cmty Ctr / 18th St &amp; S Hayes St</td>\n",
       "    </tr>\n",
       "  </tbody>\n",
       "</table>\n",
       "</div>"
      ],
      "text/plain": [
       "   station_id  trips_2012        lat        lng  \\\n",
       "0       31000        1353  38.858971 -77.053230   \n",
       "1       31001        3393  38.857250 -77.053320   \n",
       "2       31002        4210  38.856425 -77.049232   \n",
       "3       31003        2443  38.860170 -77.049593   \n",
       "4       31004        1623  38.857880 -77.059505   \n",
       "\n",
       "                                        address  \n",
       "0                           Eads St & 15th St S  \n",
       "1                           18th St & S Eads St  \n",
       "2                        Crystal Dr & 20th St S  \n",
       "3                        Crystal Dr & 15th St S  \n",
       "4  Aurora Hills Cmty Ctr / 18th St & S Hayes St  "
      ]
     },
     "execution_count": 78,
     "metadata": {},
     "output_type": "execute_result"
    }
   ],
   "source": [
    "#merge with StaLoc to have lat, lng columns\n",
    "df_test = pd.merge(CBS_2012_df, StaLoc, on=['station_id','station_id'])\n",
    "df_test.head()"
   ]
  },
  {
   "cell_type": "code",
   "execution_count": 79,
   "metadata": {
    "scrolled": false
   },
   "outputs": [
    {
     "data": {
      "text/plain": [
       "(191, 2)"
      ]
     },
     "execution_count": 79,
     "metadata": {},
     "output_type": "execute_result"
    }
   ],
   "source": [
    "#shape\n",
    "CBS_2012_df.shape"
   ]
  },
  {
   "cell_type": "markdown",
   "metadata": {},
   "source": [
    "# 2011 find total trips by station"
   ]
  },
  {
   "cell_type": "code",
   "execution_count": 80,
   "metadata": {},
   "outputs": [],
   "source": [
    "#Load all files for 2011\n",
    "df=pd.read_csv(\"data/2011/2011-capitalbikeshare-tripdata.csv\")"
   ]
  },
  {
   "cell_type": "code",
   "execution_count": 81,
   "metadata": {},
   "outputs": [
    {
     "data": {
      "text/plain": [
       "(Index(['Duration', 'Start date', 'End date', 'Start station number',\n",
       "        'Start station', 'End station number', 'End station', 'Bike number',\n",
       "        'Member type'],\n",
       "       dtype='object'),\n",
       " (1226767, 9))"
      ]
     },
     "execution_count": 81,
     "metadata": {},
     "output_type": "execute_result"
    }
   ],
   "source": [
    "#columns and shape\n",
    "df.columns, df.shape"
   ]
  },
  {
   "cell_type": "code",
   "execution_count": 82,
   "metadata": {
    "scrolled": false
   },
   "outputs": [
    {
     "data": {
      "text/html": [
       "<div>\n",
       "<style scoped>\n",
       "    .dataframe tbody tr th:only-of-type {\n",
       "        vertical-align: middle;\n",
       "    }\n",
       "\n",
       "    .dataframe tbody tr th {\n",
       "        vertical-align: top;\n",
       "    }\n",
       "\n",
       "    .dataframe thead th {\n",
       "        text-align: right;\n",
       "    }\n",
       "</style>\n",
       "<table border=\"1\" class=\"dataframe\">\n",
       "  <thead>\n",
       "    <tr style=\"text-align: right;\">\n",
       "      <th></th>\n",
       "      <th>Duration</th>\n",
       "      <th>start_date</th>\n",
       "      <th>end_date</th>\n",
       "      <th>station_id</th>\n",
       "      <th>start_station</th>\n",
       "      <th>end_station_number</th>\n",
       "      <th>end_station</th>\n",
       "      <th>bike_id</th>\n",
       "      <th>member_type</th>\n",
       "      <th>trips_2011</th>\n",
       "    </tr>\n",
       "  </thead>\n",
       "  <tbody>\n",
       "    <tr>\n",
       "      <th>0</th>\n",
       "      <td>3548</td>\n",
       "      <td>2011-01-01 00:01:29</td>\n",
       "      <td>2011-01-01 01:00:37</td>\n",
       "      <td>31620</td>\n",
       "      <td>5th &amp; F St NW</td>\n",
       "      <td>31620</td>\n",
       "      <td>5th &amp; F St NW</td>\n",
       "      <td>W00247</td>\n",
       "      <td>Member</td>\n",
       "      <td>31620</td>\n",
       "    </tr>\n",
       "    <tr>\n",
       "      <th>1</th>\n",
       "      <td>346</td>\n",
       "      <td>2011-01-01 00:02:46</td>\n",
       "      <td>2011-01-01 00:08:32</td>\n",
       "      <td>31105</td>\n",
       "      <td>14th &amp; Harvard St NW</td>\n",
       "      <td>31101</td>\n",
       "      <td>14th &amp; V St NW</td>\n",
       "      <td>W00675</td>\n",
       "      <td>Casual</td>\n",
       "      <td>31105</td>\n",
       "    </tr>\n",
       "    <tr>\n",
       "      <th>2</th>\n",
       "      <td>562</td>\n",
       "      <td>2011-01-01 00:06:13</td>\n",
       "      <td>2011-01-01 00:15:36</td>\n",
       "      <td>31400</td>\n",
       "      <td>Georgia &amp; New Hampshire Ave NW</td>\n",
       "      <td>31104</td>\n",
       "      <td>Adams Mill &amp; Columbia Rd NW</td>\n",
       "      <td>W00357</td>\n",
       "      <td>Member</td>\n",
       "      <td>31400</td>\n",
       "    </tr>\n",
       "    <tr>\n",
       "      <th>3</th>\n",
       "      <td>434</td>\n",
       "      <td>2011-01-01 00:09:21</td>\n",
       "      <td>2011-01-01 00:16:36</td>\n",
       "      <td>31111</td>\n",
       "      <td>10th &amp; U St NW</td>\n",
       "      <td>31503</td>\n",
       "      <td>Florida Ave &amp; R St NW</td>\n",
       "      <td>W00970</td>\n",
       "      <td>Member</td>\n",
       "      <td>31111</td>\n",
       "    </tr>\n",
       "    <tr>\n",
       "      <th>4</th>\n",
       "      <td>233</td>\n",
       "      <td>2011-01-01 00:28:26</td>\n",
       "      <td>2011-01-01 00:32:19</td>\n",
       "      <td>31104</td>\n",
       "      <td>Adams Mill &amp; Columbia Rd NW</td>\n",
       "      <td>31106</td>\n",
       "      <td>Calvert &amp; Biltmore St NW</td>\n",
       "      <td>W00346</td>\n",
       "      <td>Casual</td>\n",
       "      <td>31104</td>\n",
       "    </tr>\n",
       "  </tbody>\n",
       "</table>\n",
       "</div>"
      ],
      "text/plain": [
       "   Duration           start_date             end_date  station_id  \\\n",
       "0      3548  2011-01-01 00:01:29  2011-01-01 01:00:37       31620   \n",
       "1       346  2011-01-01 00:02:46  2011-01-01 00:08:32       31105   \n",
       "2       562  2011-01-01 00:06:13  2011-01-01 00:15:36       31400   \n",
       "3       434  2011-01-01 00:09:21  2011-01-01 00:16:36       31111   \n",
       "4       233  2011-01-01 00:28:26  2011-01-01 00:32:19       31104   \n",
       "\n",
       "                    start_station  end_station_number  \\\n",
       "0                   5th & F St NW               31620   \n",
       "1            14th & Harvard St NW               31101   \n",
       "2  Georgia & New Hampshire Ave NW               31104   \n",
       "3                  10th & U St NW               31503   \n",
       "4     Adams Mill & Columbia Rd NW               31106   \n",
       "\n",
       "                   end_station bike_id member_type  trips_2011  \n",
       "0                5th & F St NW  W00247      Member       31620  \n",
       "1               14th & V St NW  W00675      Casual       31105  \n",
       "2  Adams Mill & Columbia Rd NW  W00357      Member       31400  \n",
       "3        Florida Ave & R St NW  W00970      Member       31111  \n",
       "4     Calvert & Biltmore St NW  W00346      Casual       31104  "
      ]
     },
     "execution_count": 82,
     "metadata": {},
     "output_type": "execute_result"
    }
   ],
   "source": [
    "#rename columns\n",
    "df = df.rename(columns={'Start date': 'start_date', \n",
    "                        'End date': 'end_date',\n",
    "                        'Start station number': 'station_id',\n",
    "                        'Start station':'start_station',\n",
    "                        'End station number':'end_station_number',\n",
    "                        'End station':'end_station',\n",
    "                        'Bike number':'bike_id',\n",
    "                        'Member type':'member_type'})\n",
    "df['trips_2011']=df['station_id']\n",
    "df.head()"
   ]
  },
  {
   "cell_type": "code",
   "execution_count": 83,
   "metadata": {},
   "outputs": [
    {
     "data": {
      "text/html": [
       "<div>\n",
       "<style scoped>\n",
       "    .dataframe tbody tr th:only-of-type {\n",
       "        vertical-align: middle;\n",
       "    }\n",
       "\n",
       "    .dataframe tbody tr th {\n",
       "        vertical-align: top;\n",
       "    }\n",
       "\n",
       "    .dataframe thead th {\n",
       "        text-align: right;\n",
       "    }\n",
       "</style>\n",
       "<table border=\"1\" class=\"dataframe\">\n",
       "  <thead>\n",
       "    <tr style=\"text-align: right;\">\n",
       "      <th></th>\n",
       "      <th>station_id</th>\n",
       "      <th>trips_2011</th>\n",
       "    </tr>\n",
       "  </thead>\n",
       "  <tbody>\n",
       "    <tr>\n",
       "      <th>0</th>\n",
       "      <td>31000</td>\n",
       "      <td>1171</td>\n",
       "    </tr>\n",
       "    <tr>\n",
       "      <th>1</th>\n",
       "      <td>31001</td>\n",
       "      <td>3492</td>\n",
       "    </tr>\n",
       "    <tr>\n",
       "      <th>2</th>\n",
       "      <td>31002</td>\n",
       "      <td>2883</td>\n",
       "    </tr>\n",
       "    <tr>\n",
       "      <th>3</th>\n",
       "      <td>31003</td>\n",
       "      <td>3432</td>\n",
       "    </tr>\n",
       "    <tr>\n",
       "      <th>4</th>\n",
       "      <td>31004</td>\n",
       "      <td>1598</td>\n",
       "    </tr>\n",
       "  </tbody>\n",
       "</table>\n",
       "</div>"
      ],
      "text/plain": [
       "   station_id  trips_2011\n",
       "0       31000        1171\n",
       "1       31001        3492\n",
       "2       31002        2883\n",
       "3       31003        3432\n",
       "4       31004        1598"
      ]
     },
     "execution_count": 83,
     "metadata": {},
     "output_type": "execute_result"
    }
   ],
   "source": [
    "#create df with station_id and trips for that specifif station\n",
    "CBS_2011_df=df.groupby(['station_id']).agg({'trips_2011':'count'}).reset_index()\n",
    "CBS_2011_df.head()"
   ]
  },
  {
   "cell_type": "code",
   "execution_count": 84,
   "metadata": {
    "scrolled": true
   },
   "outputs": [
    {
     "data": {
      "text/html": [
       "<div>\n",
       "<style scoped>\n",
       "    .dataframe tbody tr th:only-of-type {\n",
       "        vertical-align: middle;\n",
       "    }\n",
       "\n",
       "    .dataframe tbody tr th {\n",
       "        vertical-align: top;\n",
       "    }\n",
       "\n",
       "    .dataframe thead th {\n",
       "        text-align: right;\n",
       "    }\n",
       "</style>\n",
       "<table border=\"1\" class=\"dataframe\">\n",
       "  <thead>\n",
       "    <tr style=\"text-align: right;\">\n",
       "      <th></th>\n",
       "      <th>station_id</th>\n",
       "      <th>trips_2011</th>\n",
       "    </tr>\n",
       "  </thead>\n",
       "  <tbody>\n",
       "    <tr>\n",
       "      <th>0</th>\n",
       "      <td>31000</td>\n",
       "      <td>1171</td>\n",
       "    </tr>\n",
       "    <tr>\n",
       "      <th>1</th>\n",
       "      <td>31001</td>\n",
       "      <td>3492</td>\n",
       "    </tr>\n",
       "    <tr>\n",
       "      <th>2</th>\n",
       "      <td>31002</td>\n",
       "      <td>2883</td>\n",
       "    </tr>\n",
       "    <tr>\n",
       "      <th>3</th>\n",
       "      <td>31003</td>\n",
       "      <td>3432</td>\n",
       "    </tr>\n",
       "    <tr>\n",
       "      <th>4</th>\n",
       "      <td>31004</td>\n",
       "      <td>1598</td>\n",
       "    </tr>\n",
       "  </tbody>\n",
       "</table>\n",
       "</div>"
      ],
      "text/plain": [
       "   station_id  trips_2011\n",
       "0       31000        1171\n",
       "1       31001        3492\n",
       "2       31002        2883\n",
       "3       31003        3432\n",
       "4       31004        1598"
      ]
     },
     "execution_count": 84,
     "metadata": {},
     "output_type": "execute_result"
    }
   ],
   "source": [
    "CBS_2011_df=CBS_2011_df[CBS_2011_df.station_id!=0].dropna()\n",
    "CBS_2011_df.head()"
   ]
  },
  {
   "cell_type": "code",
   "execution_count": 85,
   "metadata": {},
   "outputs": [
    {
     "data": {
      "text/plain": [
       "(144, 2)"
      ]
     },
     "execution_count": 85,
     "metadata": {},
     "output_type": "execute_result"
    }
   ],
   "source": [
    "#shape\n",
    "CBS_2011_df.shape"
   ]
  },
  {
   "cell_type": "code",
   "execution_count": 86,
   "metadata": {},
   "outputs": [
    {
     "data": {
      "text/html": [
       "<div>\n",
       "<style scoped>\n",
       "    .dataframe tbody tr th:only-of-type {\n",
       "        vertical-align: middle;\n",
       "    }\n",
       "\n",
       "    .dataframe tbody tr th {\n",
       "        vertical-align: top;\n",
       "    }\n",
       "\n",
       "    .dataframe thead th {\n",
       "        text-align: right;\n",
       "    }\n",
       "</style>\n",
       "<table border=\"1\" class=\"dataframe\">\n",
       "  <thead>\n",
       "    <tr style=\"text-align: right;\">\n",
       "      <th></th>\n",
       "      <th>station_id</th>\n",
       "      <th>trips_2011</th>\n",
       "      <th>lat</th>\n",
       "      <th>lng</th>\n",
       "      <th>address</th>\n",
       "    </tr>\n",
       "  </thead>\n",
       "  <tbody>\n",
       "    <tr>\n",
       "      <th>0</th>\n",
       "      <td>31000</td>\n",
       "      <td>1171</td>\n",
       "      <td>38.858971</td>\n",
       "      <td>-77.053230</td>\n",
       "      <td>Eads St &amp; 15th St S</td>\n",
       "    </tr>\n",
       "    <tr>\n",
       "      <th>1</th>\n",
       "      <td>31001</td>\n",
       "      <td>3492</td>\n",
       "      <td>38.857250</td>\n",
       "      <td>-77.053320</td>\n",
       "      <td>18th St &amp; S Eads St</td>\n",
       "    </tr>\n",
       "    <tr>\n",
       "      <th>2</th>\n",
       "      <td>31002</td>\n",
       "      <td>2883</td>\n",
       "      <td>38.856425</td>\n",
       "      <td>-77.049232</td>\n",
       "      <td>Crystal Dr &amp; 20th St S</td>\n",
       "    </tr>\n",
       "    <tr>\n",
       "      <th>3</th>\n",
       "      <td>31003</td>\n",
       "      <td>3432</td>\n",
       "      <td>38.860170</td>\n",
       "      <td>-77.049593</td>\n",
       "      <td>Crystal Dr &amp; 15th St S</td>\n",
       "    </tr>\n",
       "    <tr>\n",
       "      <th>4</th>\n",
       "      <td>31004</td>\n",
       "      <td>1598</td>\n",
       "      <td>38.857880</td>\n",
       "      <td>-77.059505</td>\n",
       "      <td>Aurora Hills Cmty Ctr / 18th St &amp; S Hayes St</td>\n",
       "    </tr>\n",
       "  </tbody>\n",
       "</table>\n",
       "</div>"
      ],
      "text/plain": [
       "   station_id  trips_2011        lat        lng  \\\n",
       "0       31000        1171  38.858971 -77.053230   \n",
       "1       31001        3492  38.857250 -77.053320   \n",
       "2       31002        2883  38.856425 -77.049232   \n",
       "3       31003        3432  38.860170 -77.049593   \n",
       "4       31004        1598  38.857880 -77.059505   \n",
       "\n",
       "                                        address  \n",
       "0                           Eads St & 15th St S  \n",
       "1                           18th St & S Eads St  \n",
       "2                        Crystal Dr & 20th St S  \n",
       "3                        Crystal Dr & 15th St S  \n",
       "4  Aurora Hills Cmty Ctr / 18th St & S Hayes St  "
      ]
     },
     "execution_count": 86,
     "metadata": {},
     "output_type": "execute_result"
    }
   ],
   "source": [
    "#merge with StaLoc to have lat, lng columns\n",
    "df_test = pd.merge(CBS_2011_df, StaLoc, on=['station_id','station_id'])\n",
    "df_test.head()"
   ]
  },
  {
   "cell_type": "code",
   "execution_count": 87,
   "metadata": {
    "scrolled": true
   },
   "outputs": [
    {
     "data": {
      "text/plain": [
       "(144, 2)"
      ]
     },
     "execution_count": 87,
     "metadata": {},
     "output_type": "execute_result"
    }
   ],
   "source": [
    "#shape\n",
    "CBS_2011_df.shape"
   ]
  },
  {
   "cell_type": "markdown",
   "metadata": {},
   "source": [
    "# 2010 find total trips by station"
   ]
  },
  {
   "cell_type": "code",
   "execution_count": 88,
   "metadata": {},
   "outputs": [],
   "source": [
    "#Load all files for 2010\n",
    "df=pd.read_csv(\"data/2010/2010-capitalbikeshare-tripdata.csv\")"
   ]
  },
  {
   "cell_type": "code",
   "execution_count": 89,
   "metadata": {},
   "outputs": [
    {
     "data": {
      "text/plain": [
       "(Index(['Duration', 'Start date', 'End date', 'Start station number',\n",
       "        'Start station', 'End station number', 'End station', 'Bike number',\n",
       "        'Member type'],\n",
       "       dtype='object'),\n",
       " (115597, 9))"
      ]
     },
     "execution_count": 89,
     "metadata": {},
     "output_type": "execute_result"
    }
   ],
   "source": [
    "#columns and shape\n",
    "df.columns, df.shape"
   ]
  },
  {
   "cell_type": "code",
   "execution_count": 90,
   "metadata": {
    "scrolled": false
   },
   "outputs": [
    {
     "data": {
      "text/html": [
       "<div>\n",
       "<style scoped>\n",
       "    .dataframe tbody tr th:only-of-type {\n",
       "        vertical-align: middle;\n",
       "    }\n",
       "\n",
       "    .dataframe tbody tr th {\n",
       "        vertical-align: top;\n",
       "    }\n",
       "\n",
       "    .dataframe thead th {\n",
       "        text-align: right;\n",
       "    }\n",
       "</style>\n",
       "<table border=\"1\" class=\"dataframe\">\n",
       "  <thead>\n",
       "    <tr style=\"text-align: right;\">\n",
       "      <th></th>\n",
       "      <th>Duration</th>\n",
       "      <th>start_date</th>\n",
       "      <th>end_date</th>\n",
       "      <th>station_id</th>\n",
       "      <th>start_station</th>\n",
       "      <th>end_station_number</th>\n",
       "      <th>end_station</th>\n",
       "      <th>bike_id</th>\n",
       "      <th>member_type</th>\n",
       "      <th>trips_2010</th>\n",
       "    </tr>\n",
       "  </thead>\n",
       "  <tbody>\n",
       "    <tr>\n",
       "      <th>0</th>\n",
       "      <td>1012</td>\n",
       "      <td>2010-09-20 11:27:04</td>\n",
       "      <td>2010-09-20 11:43:56</td>\n",
       "      <td>31208</td>\n",
       "      <td>M St &amp; New Jersey Ave SE</td>\n",
       "      <td>31108</td>\n",
       "      <td>4th &amp; M St SW</td>\n",
       "      <td>W00742</td>\n",
       "      <td>Member</td>\n",
       "      <td>31208</td>\n",
       "    </tr>\n",
       "    <tr>\n",
       "      <th>1</th>\n",
       "      <td>61</td>\n",
       "      <td>2010-09-20 11:41:22</td>\n",
       "      <td>2010-09-20 11:42:23</td>\n",
       "      <td>31209</td>\n",
       "      <td>1st &amp; N St  SE</td>\n",
       "      <td>31209</td>\n",
       "      <td>1st &amp; N St  SE</td>\n",
       "      <td>W00032</td>\n",
       "      <td>Member</td>\n",
       "      <td>31209</td>\n",
       "    </tr>\n",
       "    <tr>\n",
       "      <th>2</th>\n",
       "      <td>2690</td>\n",
       "      <td>2010-09-20 12:05:37</td>\n",
       "      <td>2010-09-20 12:50:27</td>\n",
       "      <td>31600</td>\n",
       "      <td>5th &amp; K St NW</td>\n",
       "      <td>31100</td>\n",
       "      <td>19th St &amp; Pennsylvania Ave NW</td>\n",
       "      <td>W00993</td>\n",
       "      <td>Member</td>\n",
       "      <td>31600</td>\n",
       "    </tr>\n",
       "    <tr>\n",
       "      <th>3</th>\n",
       "      <td>1406</td>\n",
       "      <td>2010-09-20 12:06:05</td>\n",
       "      <td>2010-09-20 12:29:32</td>\n",
       "      <td>31600</td>\n",
       "      <td>5th &amp; K St NW</td>\n",
       "      <td>31602</td>\n",
       "      <td>Park Rd &amp; Holmead Pl NW</td>\n",
       "      <td>W00344</td>\n",
       "      <td>Member</td>\n",
       "      <td>31600</td>\n",
       "    </tr>\n",
       "    <tr>\n",
       "      <th>4</th>\n",
       "      <td>1413</td>\n",
       "      <td>2010-09-20 12:10:43</td>\n",
       "      <td>2010-09-20 12:34:17</td>\n",
       "      <td>31100</td>\n",
       "      <td>19th St &amp; Pennsylvania Ave NW</td>\n",
       "      <td>31201</td>\n",
       "      <td>15th &amp; P St NW</td>\n",
       "      <td>W00883</td>\n",
       "      <td>Member</td>\n",
       "      <td>31100</td>\n",
       "    </tr>\n",
       "  </tbody>\n",
       "</table>\n",
       "</div>"
      ],
      "text/plain": [
       "   Duration           start_date             end_date  station_id  \\\n",
       "0      1012  2010-09-20 11:27:04  2010-09-20 11:43:56       31208   \n",
       "1        61  2010-09-20 11:41:22  2010-09-20 11:42:23       31209   \n",
       "2      2690  2010-09-20 12:05:37  2010-09-20 12:50:27       31600   \n",
       "3      1406  2010-09-20 12:06:05  2010-09-20 12:29:32       31600   \n",
       "4      1413  2010-09-20 12:10:43  2010-09-20 12:34:17       31100   \n",
       "\n",
       "                   start_station  end_station_number  \\\n",
       "0       M St & New Jersey Ave SE               31108   \n",
       "1                 1st & N St  SE               31209   \n",
       "2                  5th & K St NW               31100   \n",
       "3                  5th & K St NW               31602   \n",
       "4  19th St & Pennsylvania Ave NW               31201   \n",
       "\n",
       "                     end_station bike_id member_type  trips_2010  \n",
       "0                  4th & M St SW  W00742      Member       31208  \n",
       "1                 1st & N St  SE  W00032      Member       31209  \n",
       "2  19th St & Pennsylvania Ave NW  W00993      Member       31600  \n",
       "3        Park Rd & Holmead Pl NW  W00344      Member       31600  \n",
       "4                 15th & P St NW  W00883      Member       31100  "
      ]
     },
     "execution_count": 90,
     "metadata": {},
     "output_type": "execute_result"
    }
   ],
   "source": [
    "#rename columns\n",
    "df = df.rename(columns={'Start date': 'start_date', \n",
    "                        'End date': 'end_date',\n",
    "                        'Start station number': 'station_id',\n",
    "                        'Start station':'start_station',\n",
    "                        'End station number':'end_station_number',\n",
    "                        'End station':'end_station',\n",
    "                        'Bike number':'bike_id',\n",
    "                        'Member type':'member_type'})\n",
    "df['trips_2010']=df['station_id']\n",
    "df.head()"
   ]
  },
  {
   "cell_type": "code",
   "execution_count": 91,
   "metadata": {},
   "outputs": [
    {
     "data": {
      "text/html": [
       "<div>\n",
       "<style scoped>\n",
       "    .dataframe tbody tr th:only-of-type {\n",
       "        vertical-align: middle;\n",
       "    }\n",
       "\n",
       "    .dataframe tbody tr th {\n",
       "        vertical-align: top;\n",
       "    }\n",
       "\n",
       "    .dataframe thead th {\n",
       "        text-align: right;\n",
       "    }\n",
       "</style>\n",
       "<table border=\"1\" class=\"dataframe\">\n",
       "  <thead>\n",
       "    <tr style=\"text-align: right;\">\n",
       "      <th></th>\n",
       "      <th>station_id</th>\n",
       "      <th>trips_2010</th>\n",
       "    </tr>\n",
       "  </thead>\n",
       "  <tbody>\n",
       "    <tr>\n",
       "      <th>0</th>\n",
       "      <td>31000</td>\n",
       "      <td>185</td>\n",
       "    </tr>\n",
       "    <tr>\n",
       "      <th>1</th>\n",
       "      <td>31001</td>\n",
       "      <td>372</td>\n",
       "    </tr>\n",
       "    <tr>\n",
       "      <th>2</th>\n",
       "      <td>31002</td>\n",
       "      <td>362</td>\n",
       "    </tr>\n",
       "    <tr>\n",
       "      <th>3</th>\n",
       "      <td>31003</td>\n",
       "      <td>463</td>\n",
       "    </tr>\n",
       "    <tr>\n",
       "      <th>4</th>\n",
       "      <td>31004</td>\n",
       "      <td>234</td>\n",
       "    </tr>\n",
       "  </tbody>\n",
       "</table>\n",
       "</div>"
      ],
      "text/plain": [
       "   station_id  trips_2010\n",
       "0       31000         185\n",
       "1       31001         372\n",
       "2       31002         362\n",
       "3       31003         463\n",
       "4       31004         234"
      ]
     },
     "execution_count": 91,
     "metadata": {},
     "output_type": "execute_result"
    }
   ],
   "source": [
    "#create df with station_id and trips for that specifif station\n",
    "CBS_2010_df=df.groupby(['station_id']).agg({'trips_2010':'count'}).reset_index()\n",
    "CBS_2010_df.head()"
   ]
  },
  {
   "cell_type": "code",
   "execution_count": 92,
   "metadata": {
    "scrolled": true
   },
   "outputs": [
    {
     "data": {
      "text/html": [
       "<div>\n",
       "<style scoped>\n",
       "    .dataframe tbody tr th:only-of-type {\n",
       "        vertical-align: middle;\n",
       "    }\n",
       "\n",
       "    .dataframe tbody tr th {\n",
       "        vertical-align: top;\n",
       "    }\n",
       "\n",
       "    .dataframe thead th {\n",
       "        text-align: right;\n",
       "    }\n",
       "</style>\n",
       "<table border=\"1\" class=\"dataframe\">\n",
       "  <thead>\n",
       "    <tr style=\"text-align: right;\">\n",
       "      <th></th>\n",
       "      <th>station_id</th>\n",
       "      <th>trips_2010</th>\n",
       "    </tr>\n",
       "  </thead>\n",
       "  <tbody>\n",
       "    <tr>\n",
       "      <th>0</th>\n",
       "      <td>31000</td>\n",
       "      <td>185</td>\n",
       "    </tr>\n",
       "    <tr>\n",
       "      <th>1</th>\n",
       "      <td>31001</td>\n",
       "      <td>372</td>\n",
       "    </tr>\n",
       "    <tr>\n",
       "      <th>2</th>\n",
       "      <td>31002</td>\n",
       "      <td>362</td>\n",
       "    </tr>\n",
       "    <tr>\n",
       "      <th>3</th>\n",
       "      <td>31003</td>\n",
       "      <td>463</td>\n",
       "    </tr>\n",
       "    <tr>\n",
       "      <th>4</th>\n",
       "      <td>31004</td>\n",
       "      <td>234</td>\n",
       "    </tr>\n",
       "  </tbody>\n",
       "</table>\n",
       "</div>"
      ],
      "text/plain": [
       "   station_id  trips_2010\n",
       "0       31000         185\n",
       "1       31001         372\n",
       "2       31002         362\n",
       "3       31003         463\n",
       "4       31004         234"
      ]
     },
     "execution_count": 92,
     "metadata": {},
     "output_type": "execute_result"
    }
   ],
   "source": [
    "CBS_2010_df=CBS_2010_df[CBS_2010_df.station_id!=0].dropna()\n",
    "CBS_2010_df.head()"
   ]
  },
  {
   "cell_type": "code",
   "execution_count": 93,
   "metadata": {},
   "outputs": [
    {
     "data": {
      "text/plain": [
       "(106, 2)"
      ]
     },
     "execution_count": 93,
     "metadata": {},
     "output_type": "execute_result"
    }
   ],
   "source": [
    "#shape\n",
    "CBS_2010_df.shape"
   ]
  },
  {
   "cell_type": "code",
   "execution_count": 94,
   "metadata": {},
   "outputs": [
    {
     "data": {
      "text/html": [
       "<div>\n",
       "<style scoped>\n",
       "    .dataframe tbody tr th:only-of-type {\n",
       "        vertical-align: middle;\n",
       "    }\n",
       "\n",
       "    .dataframe tbody tr th {\n",
       "        vertical-align: top;\n",
       "    }\n",
       "\n",
       "    .dataframe thead th {\n",
       "        text-align: right;\n",
       "    }\n",
       "</style>\n",
       "<table border=\"1\" class=\"dataframe\">\n",
       "  <thead>\n",
       "    <tr style=\"text-align: right;\">\n",
       "      <th></th>\n",
       "      <th>station_id</th>\n",
       "      <th>trips_2010</th>\n",
       "      <th>lat</th>\n",
       "      <th>lng</th>\n",
       "      <th>address</th>\n",
       "    </tr>\n",
       "  </thead>\n",
       "  <tbody>\n",
       "    <tr>\n",
       "      <th>0</th>\n",
       "      <td>31000</td>\n",
       "      <td>185</td>\n",
       "      <td>38.858971</td>\n",
       "      <td>-77.053230</td>\n",
       "      <td>Eads St &amp; 15th St S</td>\n",
       "    </tr>\n",
       "    <tr>\n",
       "      <th>1</th>\n",
       "      <td>31001</td>\n",
       "      <td>372</td>\n",
       "      <td>38.857250</td>\n",
       "      <td>-77.053320</td>\n",
       "      <td>18th St &amp; S Eads St</td>\n",
       "    </tr>\n",
       "    <tr>\n",
       "      <th>2</th>\n",
       "      <td>31002</td>\n",
       "      <td>362</td>\n",
       "      <td>38.856425</td>\n",
       "      <td>-77.049232</td>\n",
       "      <td>Crystal Dr &amp; 20th St S</td>\n",
       "    </tr>\n",
       "    <tr>\n",
       "      <th>3</th>\n",
       "      <td>31003</td>\n",
       "      <td>463</td>\n",
       "      <td>38.860170</td>\n",
       "      <td>-77.049593</td>\n",
       "      <td>Crystal Dr &amp; 15th St S</td>\n",
       "    </tr>\n",
       "    <tr>\n",
       "      <th>4</th>\n",
       "      <td>31004</td>\n",
       "      <td>234</td>\n",
       "      <td>38.857880</td>\n",
       "      <td>-77.059505</td>\n",
       "      <td>Aurora Hills Cmty Ctr / 18th St &amp; S Hayes St</td>\n",
       "    </tr>\n",
       "  </tbody>\n",
       "</table>\n",
       "</div>"
      ],
      "text/plain": [
       "   station_id  trips_2010        lat        lng  \\\n",
       "0       31000         185  38.858971 -77.053230   \n",
       "1       31001         372  38.857250 -77.053320   \n",
       "2       31002         362  38.856425 -77.049232   \n",
       "3       31003         463  38.860170 -77.049593   \n",
       "4       31004         234  38.857880 -77.059505   \n",
       "\n",
       "                                        address  \n",
       "0                           Eads St & 15th St S  \n",
       "1                           18th St & S Eads St  \n",
       "2                        Crystal Dr & 20th St S  \n",
       "3                        Crystal Dr & 15th St S  \n",
       "4  Aurora Hills Cmty Ctr / 18th St & S Hayes St  "
      ]
     },
     "execution_count": 94,
     "metadata": {},
     "output_type": "execute_result"
    }
   ],
   "source": [
    "#merge with StaLoc to have lat, lng columns\n",
    "df_test = pd.merge(CBS_2010_df, StaLoc, on=['station_id','station_id'])\n",
    "df_test.head()"
   ]
  },
  {
   "cell_type": "code",
   "execution_count": 95,
   "metadata": {
    "scrolled": false
   },
   "outputs": [
    {
     "data": {
      "text/plain": [
       "(106, 2)"
      ]
     },
     "execution_count": 95,
     "metadata": {},
     "output_type": "execute_result"
    }
   ],
   "source": [
    "#shape\n",
    "CBS_2010_df.shape"
   ]
  },
  {
   "cell_type": "markdown",
   "metadata": {},
   "source": [
    "# Totals by year"
   ]
  },
  {
   "cell_type": "code",
   "execution_count": 96,
   "metadata": {},
   "outputs": [
    {
     "data": {
      "text/html": [
       "<div>\n",
       "<style scoped>\n",
       "    .dataframe tbody tr th:only-of-type {\n",
       "        vertical-align: middle;\n",
       "    }\n",
       "\n",
       "    .dataframe tbody tr th {\n",
       "        vertical-align: top;\n",
       "    }\n",
       "\n",
       "    .dataframe thead th {\n",
       "        text-align: right;\n",
       "    }\n",
       "</style>\n",
       "<table border=\"1\" class=\"dataframe\">\n",
       "  <thead>\n",
       "    <tr style=\"text-align: right;\">\n",
       "      <th></th>\n",
       "      <th>station_id</th>\n",
       "      <th>lat</th>\n",
       "      <th>lng</th>\n",
       "      <th>address</th>\n",
       "      <th>trips_2010</th>\n",
       "      <th>trips_2011</th>\n",
       "      <th>trips_2012</th>\n",
       "      <th>trips_2013</th>\n",
       "      <th>trips_2014</th>\n",
       "      <th>trips_2015</th>\n",
       "      <th>trips_2016</th>\n",
       "      <th>trips_2017</th>\n",
       "      <th>trips_2018</th>\n",
       "      <th>trips_2019</th>\n",
       "    </tr>\n",
       "  </thead>\n",
       "  <tbody>\n",
       "    <tr>\n",
       "      <th>0</th>\n",
       "      <td>31000</td>\n",
       "      <td>38.858971</td>\n",
       "      <td>-77.053230</td>\n",
       "      <td>Eads St &amp; 15th St S</td>\n",
       "      <td>185.0</td>\n",
       "      <td>1171.0</td>\n",
       "      <td>1353.0</td>\n",
       "      <td>1128.0</td>\n",
       "      <td>1247.0</td>\n",
       "      <td>1891.0</td>\n",
       "      <td>1883.0</td>\n",
       "      <td>2529.0</td>\n",
       "      <td>2472.0</td>\n",
       "      <td>1563.0</td>\n",
       "    </tr>\n",
       "    <tr>\n",
       "      <th>1</th>\n",
       "      <td>31001</td>\n",
       "      <td>38.857250</td>\n",
       "      <td>-77.053320</td>\n",
       "      <td>18th St &amp; S Eads St</td>\n",
       "      <td>372.0</td>\n",
       "      <td>3492.0</td>\n",
       "      <td>3393.0</td>\n",
       "      <td>2345.0</td>\n",
       "      <td>2180.0</td>\n",
       "      <td>2768.0</td>\n",
       "      <td>2233.0</td>\n",
       "      <td>2428.0</td>\n",
       "      <td>2441.0</td>\n",
       "      <td>1993.0</td>\n",
       "    </tr>\n",
       "    <tr>\n",
       "      <th>2</th>\n",
       "      <td>31002</td>\n",
       "      <td>38.856425</td>\n",
       "      <td>-77.049232</td>\n",
       "      <td>Crystal Dr &amp; 20th St S</td>\n",
       "      <td>362.0</td>\n",
       "      <td>2883.0</td>\n",
       "      <td>4210.0</td>\n",
       "      <td>4625.0</td>\n",
       "      <td>4672.0</td>\n",
       "      <td>5127.0</td>\n",
       "      <td>6208.0</td>\n",
       "      <td>7060.0</td>\n",
       "      <td>6469.0</td>\n",
       "      <td>5451.0</td>\n",
       "    </tr>\n",
       "    <tr>\n",
       "      <th>3</th>\n",
       "      <td>31003</td>\n",
       "      <td>38.860170</td>\n",
       "      <td>-77.049593</td>\n",
       "      <td>Crystal Dr &amp; 15th St S</td>\n",
       "      <td>463.0</td>\n",
       "      <td>3432.0</td>\n",
       "      <td>2443.0</td>\n",
       "      <td>2892.0</td>\n",
       "      <td>4218.0</td>\n",
       "      <td>4937.0</td>\n",
       "      <td>5304.0</td>\n",
       "      <td>5516.0</td>\n",
       "      <td>4794.0</td>\n",
       "      <td>4338.0</td>\n",
       "    </tr>\n",
       "    <tr>\n",
       "      <th>4</th>\n",
       "      <td>31004</td>\n",
       "      <td>38.857880</td>\n",
       "      <td>-77.059505</td>\n",
       "      <td>Aurora Hills Cmty Ctr / 18th St &amp; S Hayes St</td>\n",
       "      <td>234.0</td>\n",
       "      <td>1598.0</td>\n",
       "      <td>1623.0</td>\n",
       "      <td>1626.0</td>\n",
       "      <td>2536.0</td>\n",
       "      <td>2837.0</td>\n",
       "      <td>3222.0</td>\n",
       "      <td>2770.0</td>\n",
       "      <td>2614.0</td>\n",
       "      <td>2127.0</td>\n",
       "    </tr>\n",
       "  </tbody>\n",
       "</table>\n",
       "</div>"
      ],
      "text/plain": [
       "   station_id        lat        lng  \\\n",
       "0       31000  38.858971 -77.053230   \n",
       "1       31001  38.857250 -77.053320   \n",
       "2       31002  38.856425 -77.049232   \n",
       "3       31003  38.860170 -77.049593   \n",
       "4       31004  38.857880 -77.059505   \n",
       "\n",
       "                                        address  trips_2010  trips_2011  \\\n",
       "0                           Eads St & 15th St S       185.0      1171.0   \n",
       "1                           18th St & S Eads St       372.0      3492.0   \n",
       "2                        Crystal Dr & 20th St S       362.0      2883.0   \n",
       "3                        Crystal Dr & 15th St S       463.0      3432.0   \n",
       "4  Aurora Hills Cmty Ctr / 18th St & S Hayes St       234.0      1598.0   \n",
       "\n",
       "   trips_2012  trips_2013  trips_2014  trips_2015  trips_2016  trips_2017  \\\n",
       "0      1353.0      1128.0      1247.0      1891.0      1883.0      2529.0   \n",
       "1      3393.0      2345.0      2180.0      2768.0      2233.0      2428.0   \n",
       "2      4210.0      4625.0      4672.0      5127.0      6208.0      7060.0   \n",
       "3      2443.0      2892.0      4218.0      4937.0      5304.0      5516.0   \n",
       "4      1623.0      1626.0      2536.0      2837.0      3222.0      2770.0   \n",
       "\n",
       "   trips_2018  trips_2019  \n",
       "0      2472.0      1563.0  \n",
       "1      2441.0      1993.0  \n",
       "2      6469.0      5451.0  \n",
       "3      4794.0      4338.0  \n",
       "4      2614.0      2127.0  "
      ]
     },
     "execution_count": 96,
     "metadata": {},
     "output_type": "execute_result"
    }
   ],
   "source": [
    "#Merge all CBS_XXXX-df with StaLoc df\n",
    "CBS_totals_df = pd.merge(StaLoc, CBS_2010_df, how='left', left_on='station_id', right_on='station_id')\n",
    "CBS_totals_df = pd.merge(CBS_totals_df, CBS_2011_df, how='left', left_on='station_id', right_on='station_id')\n",
    "CBS_totals_df = pd.merge(CBS_totals_df, CBS_2012_df, how='left', left_on='station_id', right_on='station_id')\n",
    "CBS_totals_df = pd.merge(CBS_totals_df, CBS_2013_df, how='left', left_on='station_id', right_on='station_id')\n",
    "CBS_totals_df = pd.merge(CBS_totals_df, CBS_2014_df, how='left', left_on='station_id', right_on='station_id')\n",
    "CBS_totals_df = pd.merge(CBS_totals_df, CBS_2015_df, how='left', left_on='station_id', right_on='station_id')\n",
    "CBS_totals_df = pd.merge(CBS_totals_df, CBS_2016_df, how='left', left_on='station_id', right_on='station_id')\n",
    "CBS_totals_df = pd.merge(CBS_totals_df, CBS_2017_df, how='left', left_on='station_id', right_on='station_id')\n",
    "CBS_totals_df = pd.merge(CBS_totals_df, CBS_2018_df, how='left', left_on='station_id', right_on='station_id')\n",
    "CBS_totals_df = pd.merge(CBS_totals_df, CBS_2019_df, how='left', left_on='station_id', right_on='station_id')\n",
    "CBS_totals_df=CBS_totals_df.fillna(0)\n",
    "CBS_totals_df.head()"
   ]
  },
  {
   "cell_type": "code",
   "execution_count": 97,
   "metadata": {},
   "outputs": [
    {
     "data": {
      "text/plain": [
       "(station_id      int64\n",
       " lat           float64\n",
       " lng           float64\n",
       " address        object\n",
       " trips_2010    float64\n",
       " trips_2011    float64\n",
       " trips_2012    float64\n",
       " trips_2013    float64\n",
       " trips_2014    float64\n",
       " trips_2015    float64\n",
       " trips_2016    float64\n",
       " trips_2017    float64\n",
       " trips_2018    float64\n",
       " trips_2019    float64\n",
       " dtype: object,\n",
       " (610, 14))"
      ]
     },
     "execution_count": 97,
     "metadata": {},
     "output_type": "execute_result"
    }
   ],
   "source": [
    "#get shape\n",
    "CBS_totals_df.dtypes, CBS_totals_df.shape"
   ]
  },
  {
   "cell_type": "code",
   "execution_count": 98,
   "metadata": {},
   "outputs": [
    {
     "data": {
      "text/html": [
       "<div>\n",
       "<style scoped>\n",
       "    .dataframe tbody tr th:only-of-type {\n",
       "        vertical-align: middle;\n",
       "    }\n",
       "\n",
       "    .dataframe tbody tr th {\n",
       "        vertical-align: top;\n",
       "    }\n",
       "\n",
       "    .dataframe thead th {\n",
       "        text-align: right;\n",
       "    }\n",
       "</style>\n",
       "<table border=\"1\" class=\"dataframe\">\n",
       "  <thead>\n",
       "    <tr style=\"text-align: right;\">\n",
       "      <th></th>\n",
       "      <th>station_id</th>\n",
       "      <th>lat</th>\n",
       "      <th>lng</th>\n",
       "      <th>address</th>\n",
       "      <th>trips_2010</th>\n",
       "      <th>trips_2011</th>\n",
       "      <th>trips_2012</th>\n",
       "      <th>trips_2013</th>\n",
       "      <th>trips_2014</th>\n",
       "      <th>trips_2015</th>\n",
       "      <th>trips_2016</th>\n",
       "      <th>trips_2017</th>\n",
       "      <th>trips_2018</th>\n",
       "      <th>trips_2019</th>\n",
       "    </tr>\n",
       "  </thead>\n",
       "  <tbody>\n",
       "    <tr>\n",
       "      <th>605</th>\n",
       "      <td>32606</td>\n",
       "      <td>38.878085</td>\n",
       "      <td>-77.153953</td>\n",
       "      <td>N Roosevelt St &amp; Roosevelt Blvd</td>\n",
       "      <td>0.0</td>\n",
       "      <td>0.0</td>\n",
       "      <td>0.0</td>\n",
       "      <td>0.0</td>\n",
       "      <td>0.0</td>\n",
       "      <td>0.0</td>\n",
       "      <td>0.0</td>\n",
       "      <td>0.0</td>\n",
       "      <td>0.0</td>\n",
       "      <td>662.0</td>\n",
       "    </tr>\n",
       "    <tr>\n",
       "      <th>606</th>\n",
       "      <td>32607</td>\n",
       "      <td>38.879773</td>\n",
       "      <td>-77.178394</td>\n",
       "      <td>S Maple Ave &amp; S Washington St</td>\n",
       "      <td>0.0</td>\n",
       "      <td>0.0</td>\n",
       "      <td>0.0</td>\n",
       "      <td>0.0</td>\n",
       "      <td>0.0</td>\n",
       "      <td>0.0</td>\n",
       "      <td>0.0</td>\n",
       "      <td>0.0</td>\n",
       "      <td>0.0</td>\n",
       "      <td>370.0</td>\n",
       "    </tr>\n",
       "    <tr>\n",
       "      <th>607</th>\n",
       "      <td>32608</td>\n",
       "      <td>38.885379</td>\n",
       "      <td>-77.173522</td>\n",
       "      <td>Falls Church City Hall / Park Ave &amp; Little Fal...</td>\n",
       "      <td>0.0</td>\n",
       "      <td>0.0</td>\n",
       "      <td>0.0</td>\n",
       "      <td>0.0</td>\n",
       "      <td>0.0</td>\n",
       "      <td>0.0</td>\n",
       "      <td>0.0</td>\n",
       "      <td>0.0</td>\n",
       "      <td>0.0</td>\n",
       "      <td>353.0</td>\n",
       "    </tr>\n",
       "    <tr>\n",
       "      <th>608</th>\n",
       "      <td>32609</td>\n",
       "      <td>38.885621</td>\n",
       "      <td>-77.166917</td>\n",
       "      <td>W Columbia St &amp; N Washington St</td>\n",
       "      <td>0.0</td>\n",
       "      <td>0.0</td>\n",
       "      <td>0.0</td>\n",
       "      <td>0.0</td>\n",
       "      <td>0.0</td>\n",
       "      <td>0.0</td>\n",
       "      <td>0.0</td>\n",
       "      <td>0.0</td>\n",
       "      <td>0.0</td>\n",
       "      <td>420.0</td>\n",
       "    </tr>\n",
       "    <tr>\n",
       "      <th>609</th>\n",
       "      <td>32901</td>\n",
       "      <td>38.963810</td>\n",
       "      <td>-77.010266</td>\n",
       "      <td>6035 Warehouse</td>\n",
       "      <td>0.0</td>\n",
       "      <td>0.0</td>\n",
       "      <td>0.0</td>\n",
       "      <td>0.0</td>\n",
       "      <td>0.0</td>\n",
       "      <td>0.0</td>\n",
       "      <td>0.0</td>\n",
       "      <td>0.0</td>\n",
       "      <td>0.0</td>\n",
       "      <td>0.0</td>\n",
       "    </tr>\n",
       "  </tbody>\n",
       "</table>\n",
       "</div>"
      ],
      "text/plain": [
       "     station_id        lat        lng  \\\n",
       "605       32606  38.878085 -77.153953   \n",
       "606       32607  38.879773 -77.178394   \n",
       "607       32608  38.885379 -77.173522   \n",
       "608       32609  38.885621 -77.166917   \n",
       "609       32901  38.963810 -77.010266   \n",
       "\n",
       "                                               address  trips_2010  \\\n",
       "605                    N Roosevelt St & Roosevelt Blvd         0.0   \n",
       "606                      S Maple Ave & S Washington St         0.0   \n",
       "607  Falls Church City Hall / Park Ave & Little Fal...         0.0   \n",
       "608                    W Columbia St & N Washington St         0.0   \n",
       "609                                     6035 Warehouse         0.0   \n",
       "\n",
       "     trips_2011  trips_2012  trips_2013  trips_2014  trips_2015  trips_2016  \\\n",
       "605         0.0         0.0         0.0         0.0         0.0         0.0   \n",
       "606         0.0         0.0         0.0         0.0         0.0         0.0   \n",
       "607         0.0         0.0         0.0         0.0         0.0         0.0   \n",
       "608         0.0         0.0         0.0         0.0         0.0         0.0   \n",
       "609         0.0         0.0         0.0         0.0         0.0         0.0   \n",
       "\n",
       "     trips_2017  trips_2018  trips_2019  \n",
       "605         0.0         0.0       662.0  \n",
       "606         0.0         0.0       370.0  \n",
       "607         0.0         0.0       353.0  \n",
       "608         0.0         0.0       420.0  \n",
       "609         0.0         0.0         0.0  "
      ]
     },
     "execution_count": 98,
     "metadata": {},
     "output_type": "execute_result"
    }
   ],
   "source": [
    "CBS_totals_df.tail()"
   ]
  },
  {
   "cell_type": "code",
   "execution_count": 99,
   "metadata": {},
   "outputs": [
    {
     "data": {
      "text/plain": [
       "station_id      int64\n",
       "lat           float64\n",
       "lng           float64\n",
       "address        object\n",
       "trips_2010      int32\n",
       "trips_2011      int32\n",
       "trips_2012      int32\n",
       "trips_2013      int32\n",
       "trips_2014      int32\n",
       "trips_2015      int32\n",
       "trips_2016      int32\n",
       "trips_2017      int32\n",
       "trips_2018      int32\n",
       "trips_2019      int32\n",
       "dtype: object"
      ]
     },
     "execution_count": 99,
     "metadata": {},
     "output_type": "execute_result"
    }
   ],
   "source": [
    "convert_dict = {'trips_2010': int,\n",
    "                'trips_2011': int,\n",
    "                'trips_2012': int,\n",
    "                'trips_2013': int,\n",
    "                'trips_2014': int,\n",
    "                'trips_2015': int,\n",
    "                'trips_2016': int,\n",
    "                'trips_2017': int,\n",
    "                'trips_2018': int,\n",
    "                'trips_2019': int,\n",
    "               }\n",
    "  \n",
    "CBS_totals_df = CBS_totals_df.astype(convert_dict)\n",
    "CBS_totals_df.dtypes"
   ]
  },
  {
   "cell_type": "code",
   "execution_count": 100,
   "metadata": {},
   "outputs": [
    {
     "data": {
      "text/html": [
       "<div>\n",
       "<style scoped>\n",
       "    .dataframe tbody tr th:only-of-type {\n",
       "        vertical-align: middle;\n",
       "    }\n",
       "\n",
       "    .dataframe tbody tr th {\n",
       "        vertical-align: top;\n",
       "    }\n",
       "\n",
       "    .dataframe thead th {\n",
       "        text-align: right;\n",
       "    }\n",
       "</style>\n",
       "<table border=\"1\" class=\"dataframe\">\n",
       "  <thead>\n",
       "    <tr style=\"text-align: right;\">\n",
       "      <th></th>\n",
       "      <th>station_id</th>\n",
       "      <th>lat</th>\n",
       "      <th>lng</th>\n",
       "      <th>address</th>\n",
       "      <th>trips_2010</th>\n",
       "      <th>trips_2011</th>\n",
       "      <th>trips_2012</th>\n",
       "      <th>trips_2013</th>\n",
       "      <th>trips_2014</th>\n",
       "      <th>trips_2015</th>\n",
       "      <th>trips_2016</th>\n",
       "      <th>trips_2017</th>\n",
       "      <th>trips_2018</th>\n",
       "      <th>trips_2019</th>\n",
       "    </tr>\n",
       "  </thead>\n",
       "  <tbody>\n",
       "    <tr>\n",
       "      <th>0</th>\n",
       "      <td>31000</td>\n",
       "      <td>38.858971</td>\n",
       "      <td>-77.053230</td>\n",
       "      <td>Eads St &amp; 15th St S</td>\n",
       "      <td>185</td>\n",
       "      <td>1171</td>\n",
       "      <td>1353</td>\n",
       "      <td>1128</td>\n",
       "      <td>1247</td>\n",
       "      <td>1891</td>\n",
       "      <td>1883</td>\n",
       "      <td>2529</td>\n",
       "      <td>2472</td>\n",
       "      <td>1563</td>\n",
       "    </tr>\n",
       "    <tr>\n",
       "      <th>1</th>\n",
       "      <td>31001</td>\n",
       "      <td>38.857250</td>\n",
       "      <td>-77.053320</td>\n",
       "      <td>18th St &amp; S Eads St</td>\n",
       "      <td>372</td>\n",
       "      <td>3492</td>\n",
       "      <td>3393</td>\n",
       "      <td>2345</td>\n",
       "      <td>2180</td>\n",
       "      <td>2768</td>\n",
       "      <td>2233</td>\n",
       "      <td>2428</td>\n",
       "      <td>2441</td>\n",
       "      <td>1993</td>\n",
       "    </tr>\n",
       "    <tr>\n",
       "      <th>2</th>\n",
       "      <td>31002</td>\n",
       "      <td>38.856425</td>\n",
       "      <td>-77.049232</td>\n",
       "      <td>Crystal Dr &amp; 20th St S</td>\n",
       "      <td>362</td>\n",
       "      <td>2883</td>\n",
       "      <td>4210</td>\n",
       "      <td>4625</td>\n",
       "      <td>4672</td>\n",
       "      <td>5127</td>\n",
       "      <td>6208</td>\n",
       "      <td>7060</td>\n",
       "      <td>6469</td>\n",
       "      <td>5451</td>\n",
       "    </tr>\n",
       "    <tr>\n",
       "      <th>3</th>\n",
       "      <td>31003</td>\n",
       "      <td>38.860170</td>\n",
       "      <td>-77.049593</td>\n",
       "      <td>Crystal Dr &amp; 15th St S</td>\n",
       "      <td>463</td>\n",
       "      <td>3432</td>\n",
       "      <td>2443</td>\n",
       "      <td>2892</td>\n",
       "      <td>4218</td>\n",
       "      <td>4937</td>\n",
       "      <td>5304</td>\n",
       "      <td>5516</td>\n",
       "      <td>4794</td>\n",
       "      <td>4338</td>\n",
       "    </tr>\n",
       "    <tr>\n",
       "      <th>4</th>\n",
       "      <td>31004</td>\n",
       "      <td>38.857880</td>\n",
       "      <td>-77.059505</td>\n",
       "      <td>Aurora Hills Cmty Ctr / 18th St &amp; S Hayes St</td>\n",
       "      <td>234</td>\n",
       "      <td>1598</td>\n",
       "      <td>1623</td>\n",
       "      <td>1626</td>\n",
       "      <td>2536</td>\n",
       "      <td>2837</td>\n",
       "      <td>3222</td>\n",
       "      <td>2770</td>\n",
       "      <td>2614</td>\n",
       "      <td>2127</td>\n",
       "    </tr>\n",
       "  </tbody>\n",
       "</table>\n",
       "</div>"
      ],
      "text/plain": [
       "   station_id        lat        lng  \\\n",
       "0       31000  38.858971 -77.053230   \n",
       "1       31001  38.857250 -77.053320   \n",
       "2       31002  38.856425 -77.049232   \n",
       "3       31003  38.860170 -77.049593   \n",
       "4       31004  38.857880 -77.059505   \n",
       "\n",
       "                                        address  trips_2010  trips_2011  \\\n",
       "0                           Eads St & 15th St S         185        1171   \n",
       "1                           18th St & S Eads St         372        3492   \n",
       "2                        Crystal Dr & 20th St S         362        2883   \n",
       "3                        Crystal Dr & 15th St S         463        3432   \n",
       "4  Aurora Hills Cmty Ctr / 18th St & S Hayes St         234        1598   \n",
       "\n",
       "   trips_2012  trips_2013  trips_2014  trips_2015  trips_2016  trips_2017  \\\n",
       "0        1353        1128        1247        1891        1883        2529   \n",
       "1        3393        2345        2180        2768        2233        2428   \n",
       "2        4210        4625        4672        5127        6208        7060   \n",
       "3        2443        2892        4218        4937        5304        5516   \n",
       "4        1623        1626        2536        2837        3222        2770   \n",
       "\n",
       "   trips_2018  trips_2019  \n",
       "0        2472        1563  \n",
       "1        2441        1993  \n",
       "2        6469        5451  \n",
       "3        4794        4338  \n",
       "4        2614        2127  "
      ]
     },
     "execution_count": 100,
     "metadata": {},
     "output_type": "execute_result"
    }
   ],
   "source": [
    "CBS_totals_df.head()"
   ]
  },
  {
   "cell_type": "code",
   "execution_count": 102,
   "metadata": {},
   "outputs": [],
   "source": [
    "# Export file\n",
    "CBS_totals_df.to_csv(\"data/CBS_totals.csv\")"
   ]
  },
  {
   "cell_type": "code",
   "execution_count": null,
   "metadata": {},
   "outputs": [],
   "source": []
  }
 ],
 "metadata": {
  "kernelspec": {
   "display_name": "Python 3",
   "language": "python",
   "name": "python3"
  },
  "language_info": {
   "codemirror_mode": {
    "name": "ipython",
    "version": 3
   },
   "file_extension": ".py",
   "mimetype": "text/x-python",
   "name": "python",
   "nbconvert_exporter": "python",
   "pygments_lexer": "ipython3",
   "version": "3.8.3"
  }
 },
 "nbformat": 4,
 "nbformat_minor": 4
}
